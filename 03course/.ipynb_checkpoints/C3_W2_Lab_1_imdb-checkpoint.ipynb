{
 "cells": [
  {
   "cell_type": "markdown",
   "metadata": {},
   "source": [
    "<a href=\"https://colab.research.google.com/github/https-deeplearning-ai/tensorflow-1-public/blob/master/C3/W2/ungraded_labs/C3_W2_Lab_1_imdb.ipynb\" target=\"_parent\"><img src=\"https://colab.research.google.com/assets/colab-badge.svg\" alt=\"Open In Colab\"/></a>"
   ]
  },
  {
   "cell_type": "markdown",
   "metadata": {
    "id": "dGATMXZE4oAD"
   },
   "source": [
    "# Ungraded Lab: Training a binary classifier with the IMDB Reviews Dataset\n",
    "\n",
    "In this lab, you will be building a sentiment classification model to distinguish between positive and negative movie reviews. You will train it on the [IMDB Reviews](http://ai.stanford.edu/~amaas/data/sentiment/) dataset and visualize the word embeddings generated after training. \n",
    "\n",
    "Let's get started!\n"
   ]
  },
  {
   "cell_type": "markdown",
   "metadata": {
    "id": "sWt8QlOGpy1j"
   },
   "source": [
    "## Download the Dataset\n",
    "\n",
    "First, you will need to fetch the dataset you will be working on. This is hosted via [Tensorflow Datasets](https://www.tensorflow.org/datasets), a collection of prepared datasets for machine learning. If you're running this notebook on your local machine, make sure to have the [`tensorflow-datasets`](https://pypi.org/project/tensorflow-datasets/) package installed before importing it. You can install it via `pip` as shown in the commented cell below."
   ]
  },
  {
   "cell_type": "code",
   "execution_count": 3,
   "metadata": {
    "id": "vqB3GzBorwBh"
   },
   "outputs": [],
   "source": [
    "# Install this package if running on your local machine\n",
    "# !pip install -q tensorflow-datasets"
   ]
  },
  {
   "cell_type": "markdown",
   "metadata": {
    "id": "SpLsMxO2wDrn"
   },
   "source": [
    "The [`tfds.load`](https://www.tensorflow.org/datasets/api_docs/python/tfds/load) method downloads the dataset into your working directory. You can set the `with_info` parameter to `True` if you want to see the description of the dataset. The `as_supervised` parameter, on the other hand, is set to load the data as `(input, label)` pairs."
   ]
  },
  {
   "cell_type": "code",
   "execution_count": 4,
   "metadata": {
    "id": "_IoM4VFxWpMR"
   },
   "outputs": [
    {
     "name": "stderr",
     "output_type": "stream",
     "text": [
      "/Users/lex/opt/miniforge3/envs/env_mf_tf/lib/python3.9/site-packages/tqdm/auto.py:22: TqdmWarning: IProgress not found. Please update jupyter and ipywidgets. See https://ipywidgets.readthedocs.io/en/stable/user_install.html\n",
      "  from .autonotebook import tqdm as notebook_tqdm\n",
      "2022-07-25 15:44:39.144109: W tensorflow/core/platform/cloud/google_auth_provider.cc:184] All attempts to get a Google authentication bearer token failed, returning an empty token. Retrieving token from files failed with \"NOT_FOUND: Could not locate the credentials file.\". Retrieving token from GCE failed with \"FAILED_PRECONDITION: Error executing an HTTP request: libcurl code 6 meaning 'Couldn't resolve host name', error details: Could not resolve host: metadata\".\n"
     ]
    },
    {
     "name": "stdout",
     "output_type": "stream",
     "text": [
      "\u001b[1mDownloading and preparing dataset 80.23 MiB (download: 80.23 MiB, generated: Unknown size, total: 80.23 MiB) to ~/tensorflow_datasets/imdb_reviews/plain_text/1.0.0...\u001b[0m\n"
     ]
    },
    {
     "name": "stderr",
     "output_type": "stream",
     "text": [
      "Dl Completed...: 0 url [00:00, ? url/s]\n",
      "Dl Completed...:   0%|                                                                           | 0/1 [00:00<?, ? url/s]\n",
      "Dl Completed...:   0%|                                                                           | 0/1 [00:01<?, ? url/s]\n",
      "Dl Size...:   0%|                                                                               | 0/80 [00:01<?, ? MiB/s]\u001b[A\n",
      "Dl Completed...:   0%|                                                                           | 0/1 [00:03<?, ? url/s]\u001b[A\n",
      "Dl Size...:   1%|▉                                                                      | 1/80 [00:03<04:24,  3.35s/ MiB]\u001b[A\n",
      "Dl Completed...:   0%|                                                                           | 0/1 [00:03<?, ? url/s]\u001b[A\n",
      "Dl Size...:   2%|█▊                                                                     | 2/80 [00:03<02:08,  1.65s/ MiB]\u001b[A\n",
      "Dl Completed...:   0%|                                                                           | 0/1 [00:04<?, ? url/s]\u001b[A\n",
      "Dl Size...:   4%|██▋                                                                    | 3/80 [00:04<01:19,  1.03s/ MiB]\u001b[A\n",
      "Dl Completed...:   0%|                                                                           | 0/1 [00:04<?, ? url/s]\u001b[A\n",
      "Dl Size...:   5%|███▌                                                                   | 4/80 [00:04<00:59,  1.28 MiB/s]\u001b[A\n",
      "Dl Completed...:   0%|                                                                           | 0/1 [00:04<?, ? url/s]\u001b[A\n",
      "Dl Size...:   6%|████▍                                                                  | 5/80 [00:04<00:40,  1.85 MiB/s]\u001b[A\n",
      "Dl Completed...:   0%|                                                                           | 0/1 [00:04<?, ? url/s]\u001b[A\n",
      "Dl Size...:   8%|█████▎                                                                 | 6/80 [00:04<00:30,  2.44 MiB/s]\u001b[A\n",
      "Dl Completed...:   0%|                                                                           | 0/1 [00:04<?, ? url/s]\u001b[A\n",
      "Dl Size...:   9%|██████▏                                                                | 7/80 [00:04<00:23,  3.14 MiB/s]\u001b[A\n",
      "Dl Completed...:   0%|                                                                           | 0/1 [00:05<?, ? url/s]\u001b[A\n",
      "Dl Size...:  10%|███████                                                                | 8/80 [00:05<00:18,  3.82 MiB/s]\u001b[A\n",
      "Dl Completed...:   0%|                                                                           | 0/1 [00:05<?, ? url/s]\u001b[A\n",
      "Dl Size...:  11%|███████▉                                                               | 9/80 [00:05<00:15,  4.56 MiB/s]\u001b[A\n",
      "Dl Completed...:   0%|                                                                           | 0/1 [00:05<?, ? url/s]\u001b[A\n",
      "Dl Size...:  12%|████████▊                                                             | 10/80 [00:05<00:12,  5.39 MiB/s]\u001b[A\n",
      "Dl Completed...:   0%|                                                                           | 0/1 [00:05<?, ? url/s]\u001b[A\n",
      "Dl Size...:  14%|█████████▋                                                            | 11/80 [00:05<00:11,  6.04 MiB/s]\u001b[A\n",
      "Dl Completed...:   0%|                                                                           | 0/1 [00:05<?, ? url/s]\u001b[A\n",
      "Dl Size...:  15%|██████████▌                                                           | 12/80 [00:05<00:10,  6.77 MiB/s]\u001b[A\n",
      "Dl Completed...:   0%|                                                                           | 0/1 [00:05<?, ? url/s]\u001b[A\n",
      "Dl Size...:  16%|███████████▍                                                          | 13/80 [00:05<00:09,  7.35 MiB/s]\u001b[A\n",
      "Dl Completed...:   0%|                                                                           | 0/1 [00:05<?, ? url/s]\u001b[A\n",
      "Dl Size...:  18%|████████████▎                                                         | 14/80 [00:05<00:08,  7.86 MiB/s]\u001b[A\n",
      "Dl Completed...:   0%|                                                                           | 0/1 [00:05<?, ? url/s]\u001b[A\n",
      "Dl Completed...:   0%|                                                                           | 0/1 [00:05<?, ? url/s]\u001b[A\n",
      "Dl Size...:  20%|██████████████                                                        | 16/80 [00:05<00:09,  6.90 MiB/s]\u001b[A\n",
      "Dl Completed...:   0%|                                                                           | 0/1 [00:06<?, ? url/s]\u001b[A\n",
      "Dl Size...:  21%|██████████████▉                                                       | 17/80 [00:06<00:06,  9.19 MiB/s]\u001b[A\n",
      "Dl Completed...:   0%|                                                                           | 0/1 [00:06<?, ? url/s]\u001b[A\n",
      "Dl Size...:  22%|███████████████▊                                                      | 18/80 [00:06<00:06,  9.32 MiB/s]\u001b[A\n",
      "Dl Completed...:   0%|                                                                           | 0/1 [00:06<?, ? url/s]\u001b[A\n",
      "Dl Size...:  24%|████████████████▋                                                     | 19/80 [00:06<00:06,  9.43 MiB/s]\u001b[A\n",
      "Dl Completed...:   0%|                                                                           | 0/1 [00:06<?, ? url/s]\u001b[A\n",
      "Dl Completed...:   0%|                                                                           | 0/1 [00:06<?, ? url/s]\u001b[A\n",
      "Dl Size...:  26%|██████████████████▍                                                   | 21/80 [00:06<00:07,  7.78 MiB/s]\u001b[A\n",
      "Dl Completed...:   0%|                                                                           | 0/1 [00:06<?, ? url/s]\u001b[A\n",
      "Dl Size...:  28%|███████████████████▎                                                  | 22/80 [00:06<00:07,  8.01 MiB/s]\u001b[A\n",
      "Dl Completed...:   0%|                                                                           | 0/1 [00:06<?, ? url/s]\u001b[A\n",
      "Dl Completed...:   0%|                                                                           | 0/1 [00:06<?, ? url/s]\u001b[A\n",
      "Dl Size...:  30%|█████████████████████                                                 | 24/80 [00:06<00:08,  6.62 MiB/s]\u001b[A\n",
      "Dl Completed...:   0%|                                                                           | 0/1 [00:07<?, ? url/s]\u001b[A\n",
      "Dl Completed...:   0%|                                                                           | 0/1 [00:07<?, ? url/s]\u001b[A\n",
      "Dl Size...:  32%|██████████████████████▊                                               | 26/80 [00:07<00:06,  8.87 MiB/s]\u001b[A\n",
      "Dl Completed...:   0%|                                                                           | 0/1 [00:07<?, ? url/s]\u001b[A\n",
      "Dl Size...:  34%|███████████████████████▋                                              | 27/80 [00:07<00:05,  8.91 MiB/s]\u001b[A\n",
      "Dl Completed...:   0%|                                                                           | 0/1 [00:07<?, ? url/s]\u001b[A\n",
      "Dl Completed...:   0%|                                                                           | 0/1 [00:07<?, ? url/s]\u001b[A\n",
      "Dl Size...:  36%|█████████████████████████▍                                            | 29/80 [00:07<00:06,  8.03 MiB/s]\u001b[A\n",
      "Dl Completed...:   0%|                                                                           | 0/1 [00:07<?, ? url/s]\u001b[A\n",
      "Dl Completed...:   0%|                                                                           | 0/1 [00:07<?, ? url/s]\u001b[A\n",
      "Dl Size...:  39%|███████████████████████████▏                                          | 31/80 [00:07<00:05,  9.66 MiB/s]\u001b[A\n",
      "Dl Completed...:   0%|                                                                           | 0/1 [00:07<?, ? url/s]\u001b[A\n",
      "Dl Completed...:   0%|                                                                           | 0/1 [00:07<?, ? url/s]\u001b[A\n",
      "Dl Size...:  41%|████████████████████████████▉                                         | 33/80 [00:07<00:05,  8.83 MiB/s]\u001b[A\n",
      "Dl Completed...:   0%|                                                                           | 0/1 [00:08<?, ? url/s]\u001b[A\n",
      "Dl Completed...:   0%|                                                                           | 0/1 [00:08<?, ? url/s]\u001b[A\n",
      "Dl Size...:  44%|██████████████████████████████▋                                       | 35/80 [00:08<00:05,  8.66 MiB/s]\u001b[A\n",
      "Dl Completed...:   0%|                                                                           | 0/1 [00:08<?, ? url/s]\u001b[A\n",
      "Dl Completed...:   0%|                                                                           | 0/1 [00:08<?, ? url/s]\u001b[A\n",
      "Dl Size...:  46%|████████████████████████████████▍                                     | 37/80 [00:08<00:05,  7.72 MiB/s]\u001b[A\n",
      "Dl Completed...:   0%|                                                                           | 0/1 [00:08<?, ? url/s]\u001b[A\n",
      "Dl Completed...:   0%|                                                                           | 0/1 [00:08<?, ? url/s]\u001b[A\n",
      "Dl Size...:  49%|██████████████████████████████████▏                                   | 39/80 [00:08<00:05,  8.13 MiB/s]\u001b[A\n",
      "Dl Completed...:   0%|                                                                           | 0/1 [00:08<?, ? url/s]\u001b[A\n",
      "Dl Size...:  50%|███████████████████████████████████                                   | 40/80 [00:08<00:05,  7.91 MiB/s]\u001b[A\n",
      "Dl Completed...:   0%|                                                                           | 0/1 [00:09<?, ? url/s]\u001b[A\n",
      "Dl Completed...:   0%|                                                                           | 0/1 [00:09<?, ? url/s]\u001b[A\n",
      "Dl Size...:  52%|████████████████████████████████████▊                                 | 42/80 [00:09<00:05,  7.23 MiB/s]\u001b[A\n",
      "Dl Completed...:   0%|                                                                           | 0/1 [00:09<?, ? url/s]\u001b[A\n",
      "Dl Completed...:   0%|                                                                           | 0/1 [00:09<?, ? url/s]\u001b[A\n",
      "Dl Size...:  55%|██████████████████████████████████████▌                               | 44/80 [00:09<00:03,  9.20 MiB/s]\u001b[A\n",
      "Dl Completed...:   0%|                                                                           | 0/1 [00:09<?, ? url/s]\u001b[A\n",
      "Dl Size...:  56%|███████████████████████████████████████▍                              | 45/80 [00:09<00:04,  8.63 MiB/s]\u001b[A\n",
      "Dl Completed...:   0%|                                                                           | 0/1 [00:09<?, ? url/s]\u001b[A\n",
      "Dl Size...:  57%|████████████████████████████████████████▎                             | 46/80 [00:09<00:04,  7.80 MiB/s]\u001b[A\n",
      "Dl Completed...:   0%|                                                                           | 0/1 [00:09<?, ? url/s]\u001b[A\n",
      "Dl Completed...:   0%|                                                                           | 0/1 [00:09<?, ? url/s]\u001b[A\n",
      "Dl Size...:  60%|██████████████████████████████████████████                            | 48/80 [00:09<00:03,  8.13 MiB/s]\u001b[A\n",
      "Dl Completed...:   0%|                                                                           | 0/1 [00:09<?, ? url/s]\u001b[A\n",
      "Dl Completed...:   0%|                                                                           | 0/1 [00:10<?, ? url/s]\u001b[A\n",
      "Dl Size...:  62%|███████████████████████████████████████████▊                          | 50/80 [00:10<00:03,  9.89 MiB/s]\u001b[A\n",
      "Dl Completed...:   0%|                                                                           | 0/1 [00:10<?, ? url/s]\u001b[A\n",
      "Dl Completed...:   0%|                                                                           | 0/1 [00:10<?, ? url/s]\u001b[A\n",
      "Dl Size...:  65%|█████████████████████████████████████████████▌                        | 52/80 [00:10<00:02,  9.71 MiB/s]\u001b[A\n",
      "Dl Completed...:   0%|                                                                           | 0/1 [00:10<?, ? url/s]\u001b[A\n",
      "Dl Completed...:   0%|                                                                           | 0/1 [00:10<?, ? url/s]\u001b[A\n",
      "Dl Size...:  68%|███████████████████████████████████████████████▎                      | 54/80 [00:10<00:02,  8.67 MiB/s]\u001b[A\n",
      "Dl Completed...:   0%|                                                                           | 0/1 [00:10<?, ? url/s]\u001b[A\n",
      "Dl Size...:  69%|████████████████████████████████████████████████▏                     | 55/80 [00:10<00:03,  8.09 MiB/s]\u001b[A\n",
      "Dl Completed...:   0%|                                                                           | 0/1 [00:10<?, ? url/s]\u001b[A\n",
      "Dl Completed...:   0%|                                                                           | 0/1 [00:10<?, ? url/s]\u001b[A\n",
      "Dl Size...:  71%|█████████████████████████████████████████████████▉                    | 57/80 [00:10<00:02,  8.25 MiB/s]\u001b[A\n",
      "Dl Completed...:   0%|                                                                           | 0/1 [00:10<?, ? url/s]\u001b[A\n",
      "Dl Completed...:   0%|                                                                           | 0/1 [00:11<?, ? url/s]\u001b[A\n",
      "Dl Size...:  74%|███████████████████████████████████████████████████▋                  | 59/80 [00:11<00:02,  8.18 MiB/s]\u001b[A\n",
      "Dl Completed...:   0%|                                                                           | 0/1 [00:11<?, ? url/s]\u001b[A\n",
      "Dl Completed...:   0%|                                                                           | 0/1 [00:11<?, ? url/s]\u001b[A\n",
      "Dl Size...:  76%|█████████████████████████████████████████████████████▍                | 61/80 [00:11<00:02,  8.19 MiB/s]\u001b[A\n",
      "Dl Completed...:   0%|                                                                           | 0/1 [00:11<?, ? url/s]\u001b[A\n",
      "Dl Completed...:   0%|                                                                           | 0/1 [00:11<?, ? url/s]\u001b[A\n",
      "Dl Size...:  79%|███████████████████████████████████████████████████████▏              | 63/80 [00:11<00:01,  9.80 MiB/s]\u001b[A\n",
      "Dl Completed...:   0%|                                                                           | 0/1 [00:11<?, ? url/s]\u001b[A\n",
      "Dl Completed...:   0%|                                                                           | 0/1 [00:11<?, ? url/s]\u001b[A\n",
      "Dl Size...:  81%|████████████████████████████████████████████████████████▉             | 65/80 [00:11<00:01,  9.40 MiB/s]\u001b[A\n",
      "Dl Completed...:   0%|                                                                           | 0/1 [00:11<?, ? url/s]\u001b[A\n",
      "Dl Size...:  82%|█████████████████████████████████████████████████████████▊            | 66/80 [00:11<00:01,  8.49 MiB/s]\u001b[A\n",
      "Dl Completed...:   0%|                                                                           | 0/1 [00:11<?, ? url/s]\u001b[A\n",
      "Dl Size...:  84%|██████████████████████████████████████████████████████████▋           | 67/80 [00:11<00:01,  8.29 MiB/s]\u001b[A\n",
      "Dl Completed...:   0%|                                                                           | 0/1 [00:12<?, ? url/s]\u001b[A\n",
      "Dl Size...:  85%|███████████████████████████████████████████████████████████▌          | 68/80 [00:12<00:01,  8.47 MiB/s]\u001b[A\n",
      "Dl Completed...:   0%|                                                                           | 0/1 [00:12<?, ? url/s]\u001b[A\n",
      "Dl Size...:  86%|████████████████████████████████████████████████████████████▍         | 69/80 [00:12<00:01,  8.48 MiB/s]\u001b[A\n",
      "Dl Completed...:   0%|                                                                           | 0/1 [00:12<?, ? url/s]\u001b[A\n",
      "Dl Size...:  88%|█████████████████████████████████████████████████████████████▎        | 70/80 [00:12<00:01,  8.16 MiB/s]\u001b[A\n",
      "Dl Completed...:   0%|                                                                           | 0/1 [00:12<?, ? url/s]\u001b[A\n",
      "Dl Completed...:   0%|                                                                           | 0/1 [00:12<?, ? url/s]\u001b[A\n",
      "Dl Size...:  90%|███████████████████████████████████████████████████████████████       | 72/80 [00:12<00:01,  7.89 MiB/s]\u001b[A\n",
      "Dl Completed...:   0%|                                                                           | 0/1 [00:12<?, ? url/s]\u001b[A\n",
      "Dl Completed...:   0%|                                                                           | 0/1 [00:12<?, ? url/s]\u001b[A\n",
      "Dl Size...:  92%|████████████████████████████████████████████████████████████████▊     | 74/80 [00:12<00:00,  7.88 MiB/s]\u001b[A\n",
      "Dl Completed...:   0%|                                                                           | 0/1 [00:12<?, ? url/s]\u001b[A\n",
      "Dl Size...:  94%|█████████████████████████████████████████████████████████████████▋    | 75/80 [00:12<00:00,  8.76 MiB/s]\u001b[A\n",
      "Dl Completed...:   0%|                                                                           | 0/1 [00:13<?, ? url/s]\u001b[A\n",
      "Dl Size...:  95%|██████████████████████████████████████████████████████████████████▌   | 76/80 [00:13<00:00,  8.48 MiB/s]\u001b[A\n",
      "Dl Completed...:   0%|                                                                           | 0/1 [00:13<?, ? url/s]\u001b[A\n",
      "Dl Size...:  96%|███████████████████████████████████████████████████████████████████▍  | 77/80 [00:13<00:00,  8.22 MiB/s]\u001b[A\n",
      "Dl Completed...:   0%|                                                                           | 0/1 [00:13<?, ? url/s]\u001b[A\n",
      "Dl Completed...:   0%|                                                                           | 0/1 [00:13<?, ? url/s]\u001b[A\n",
      "Dl Size...:  99%|█████████████████████████████████████████████████████████████████████▏| 79/80 [00:13<00:00,  7.24 MiB/s]\u001b[A\n",
      "Dl Completed...:   0%|                                                                           | 0/1 [00:13<?, ? url/s]\u001b[A\n",
      "Dl Completed...: 100%|███████████████████████████████████████████████████████████████████| 1/1 [00:13<00:00, 13.59s/ url]\u001b[A\n",
      "Dl Size...: 100%|██████████████████████████████████████████████████████████████████████| 80/80 [00:13<00:00,  5.89 MiB/s]\u001b[A\n",
      "Dl Completed...: 100%|███████████████████████████████████████████████████████████████████| 1/1 [00:13<00:00, 13.60s/ url]\n",
      "Generating splits...:   0%|                                                                   | 0/3 [00:00<?, ? splits/s]\n",
      "Generating train examples...:   0%|                                                     | 0/25000 [00:00<?, ? examples/s]\u001b[A\n",
      "Generating train examples...:   0%|                                           | 1/25000 [00:01<7:45:30,  1.12s/ examples]\u001b[A\n",
      "Generating train examples...:   2%|▊                                         | 504/25000 [00:01<00:42, 570.94 examples/s]\u001b[A\n",
      "Generating train examples...:   4%|█▌                                      | 1013/25000 [00:01<00:19, 1200.70 examples/s]\u001b[A\n",
      "Generating train examples...:   6%|██▍                                     | 1540/25000 [00:01<00:12, 1875.96 examples/s]\u001b[A\n",
      "Generating train examples...:   8%|███▎                                    | 2056/25000 [00:01<00:09, 2505.12 examples/s]\u001b[A\n",
      "Generating train examples...:  10%|████                                    | 2571/25000 [00:01<00:07, 3072.72 examples/s]\u001b[A\n",
      "Generating train examples...:  12%|████▉                                   | 3093/25000 [00:01<00:06, 3575.33 examples/s]\u001b[A\n",
      "Generating train examples...:  14%|█████▊                                  | 3620/25000 [00:01<00:05, 4000.48 examples/s]\u001b[A\n",
      "Generating train examples...:  17%|██████▋                                 | 4147/25000 [00:01<00:04, 4334.38 examples/s]\u001b[A\n",
      "Generating train examples...:  19%|███████▍                                | 4674/25000 [00:02<00:04, 4589.97 examples/s]\u001b[A\n",
      "Generating train examples...:  21%|████████▎                               | 5199/25000 [00:02<00:04, 4774.11 examples/s]\u001b[A\n",
      "Generating train examples...:  23%|█████████▏                              | 5719/25000 [00:02<00:03, 4884.48 examples/s]\u001b[A\n",
      "Generating train examples...:  25%|█████████▉                              | 6246/25000 [00:02<00:03, 4996.15 examples/s]\u001b[A\n",
      "Generating train examples...:  27%|██████████▊                             | 6773/25000 [00:02<00:03, 5076.10 examples/s]\u001b[A\n",
      "Generating train examples...:  29%|███████████▋                            | 7303/25000 [00:02<00:03, 5140.35 examples/s]\u001b[A\n",
      "Generating train examples...:  31%|████████████▌                           | 7828/25000 [00:02<00:03, 5164.16 examples/s]\u001b[A\n",
      "Generating train examples...:  33%|█████████████▎                          | 8352/25000 [00:02<00:03, 5165.07 examples/s]\u001b[A\n",
      "Generating train examples...:  35%|██████████████▏                         | 8874/25000 [00:02<00:03, 5158.27 examples/s]\u001b[A\n",
      "Generating train examples...:  38%|███████████████                         | 9394/25000 [00:02<00:03, 5165.07 examples/s]\u001b[A\n",
      "Generating train examples...:  40%|███████████████▊                        | 9914/25000 [00:03<00:02, 5170.90 examples/s]\u001b[A\n",
      "Generating train examples...:  42%|████████████████▎                      | 10433/25000 [00:03<00:02, 5168.57 examples/s]\u001b[A\n",
      "Generating train examples...:  44%|█████████████████                      | 10960/25000 [00:03<00:02, 5197.92 examples/s]\u001b[A\n",
      "Generating train examples...:  46%|█████████████████▉                     | 11483/25000 [00:03<00:02, 5205.52 examples/s]\u001b[A\n",
      "Generating train examples...:  48%|██████████████████▋                    | 12010/25000 [00:03<00:02, 5223.11 examples/s]\u001b[A\n",
      "Generating train examples...:  50%|███████████████████▌                   | 12537/25000 [00:03<00:02, 5235.62 examples/s]\u001b[A\n",
      "Generating train examples...:  52%|████████████████████▍                  | 13062/25000 [00:03<00:02, 5239.37 examples/s]\u001b[A\n",
      "Generating train examples...:  54%|█████████████████████▏                 | 13587/25000 [00:03<00:02, 5212.44 examples/s]\u001b[A\n",
      "Generating train examples...:  56%|██████████████████████                 | 14109/25000 [00:03<00:02, 5167.19 examples/s]\u001b[A\n",
      "Generating train examples...:  59%|██████████████████████▊                | 14626/25000 [00:03<00:02, 5136.93 examples/s]\u001b[A\n",
      "Generating train examples...:  61%|███████████████████████▋               | 15149/25000 [00:04<00:01, 5164.43 examples/s]\u001b[A\n",
      "Generating train examples...:  63%|████████████████████████▍              | 15675/25000 [00:04<00:01, 5190.81 examples/s]\u001b[A\n",
      "Generating train examples...:  65%|█████████████████████████▎             | 16199/25000 [00:04<00:01, 5202.90 examples/s]\u001b[A\n",
      "Generating train examples...:  67%|██████████████████████████             | 16720/25000 [00:04<00:01, 5163.81 examples/s]\u001b[A\n",
      "Generating train examples...:  69%|██████████████████████████▉            | 17237/25000 [00:04<00:01, 5116.95 examples/s]\u001b[A\n",
      "Generating train examples...:  71%|███████████████████████████▋           | 17761/25000 [00:04<00:01, 5152.73 examples/s]\u001b[A\n",
      "Generating train examples...:  73%|████████████████████████████▌          | 18284/25000 [00:04<00:01, 5174.35 examples/s]\u001b[A\n",
      "Generating train examples...:  75%|█████████████████████████████▎         | 18809/25000 [00:04<00:01, 5195.41 examples/s]\u001b[A\n",
      "Generating train examples...:  77%|██████████████████████████████▏        | 19337/25000 [00:04<00:01, 5218.88 examples/s]\u001b[A\n",
      "Generating train examples...:  79%|██████████████████████████████▉        | 19865/25000 [00:04<00:00, 5235.82 examples/s]\u001b[A\n",
      "Generating train examples...:  82%|███████████████████████████████▊       | 20392/25000 [00:05<00:00, 5244.71 examples/s]\u001b[A\n",
      "Generating train examples...:  84%|████████████████████████████████▋      | 20917/25000 [00:05<00:00, 5223.79 examples/s]\u001b[A\n",
      "Generating train examples...:  86%|█████████████████████████████████▍     | 21443/25000 [00:05<00:00, 5233.15 examples/s]\u001b[A\n",
      "Generating train examples...:  88%|██████████████████████████████████▎    | 21968/25000 [00:05<00:00, 5237.87 examples/s]\u001b[A\n",
      "Generating train examples...:  90%|███████████████████████████████████    | 22492/25000 [00:05<00:00, 5236.55 examples/s]\u001b[A\n",
      "Generating train examples...:  92%|███████████████████████████████████▉   | 23016/25000 [00:05<00:00, 5233.02 examples/s]\u001b[A\n",
      "Generating train examples...:  94%|████████████████████████████████████▋  | 23540/25000 [00:05<00:00, 5223.25 examples/s]\u001b[A\n",
      "Generating train examples...:  96%|█████████████████████████████████████▌ | 24063/25000 [00:05<00:00, 5196.69 examples/s]\u001b[A\n",
      "Generating train examples...:  98%|██████████████████████████████████████▎| 24583/25000 [00:05<00:00, 5185.02 examples/s]\u001b[A\n",
      "                                                                                                                         \u001b[A\n",
      "Shuffling ~/tensorflow_datasets/imdb_reviews/plain_text/1.0.0.incompleteBLOS09/imdb_reviews-train.tfrecord*...:   0%| | 0\u001b[A\n",
      "Shuffling ~/tensorflow_datasets/imdb_reviews/plain_text/1.0.0.incompleteBLOS09/imdb_reviews-train.tfrecord*...:  78%|▊| 1\u001b[A\n",
      "Generating splits...:  33%|███████████████████▋                                       | 1/3 [00:07<00:15,  7.63s/ splits]\u001b[A\n",
      "Generating test examples...:   0%|                                                      | 0/25000 [00:00<?, ? examples/s]\u001b[A\n",
      "Generating test examples...:   0%|                                            | 1/25000 [00:00<1:59:30,  3.49 examples/s]\u001b[A\n",
      "Generating test examples...:   2%|▉                                         | 527/25000 [00:00<00:13, 1750.19 examples/s]\u001b[A\n",
      "Generating test examples...:   4%|█▋                                       | 1055/25000 [00:00<00:08, 2885.27 examples/s]\u001b[A\n",
      "Generating test examples...:   6%|██▌                                      | 1581/25000 [00:00<00:06, 3632.11 examples/s]\u001b[A\n",
      "Generating test examples...:   8%|███▍                                     | 2108/25000 [00:00<00:05, 4139.73 examples/s]\u001b[A\n",
      "Generating test examples...:  10%|████▎                                    | 2622/25000 [00:00<00:05, 4445.13 examples/s]\u001b[A\n",
      "Generating test examples...:  13%|█████▏                                   | 3135/25000 [00:00<00:04, 4653.74 examples/s]\u001b[A\n",
      "Generating test examples...:  15%|█████▉                                   | 3652/25000 [00:00<00:04, 4808.89 examples/s]\u001b[A\n",
      "Generating test examples...:  17%|██████▊                                  | 4179/25000 [00:01<00:04, 4947.82 examples/s]\u001b[A\n",
      "Generating test examples...:  19%|███████▋                                 | 4710/25000 [00:01<00:04, 5055.02 examples/s]\u001b[A\n",
      "Generating test examples...:  21%|████████▌                                | 5236/25000 [00:01<00:03, 5116.33 examples/s]\u001b[A\n",
      "Generating test examples...:  23%|█████████▍                               | 5761/25000 [00:01<00:03, 5153.46 examples/s]\u001b[A\n",
      "Generating test examples...:  25%|██████████▎                              | 6286/25000 [00:01<00:03, 5181.88 examples/s]\u001b[A\n",
      "Generating test examples...:  27%|███████████▏                             | 6816/25000 [00:01<00:03, 5216.94 examples/s]\u001b[A\n",
      "Generating test examples...:  29%|████████████                             | 7343/25000 [00:01<00:03, 5229.99 examples/s]\u001b[A\n",
      "Generating test examples...:  31%|████████████▉                            | 7868/25000 [00:01<00:03, 5207.56 examples/s]\u001b[A\n",
      "Generating test examples...:  34%|█████████████▊                           | 8391/25000 [00:01<00:03, 5210.01 examples/s]\u001b[A\n",
      "Generating test examples...:  36%|██████████████▌                          | 8913/25000 [00:01<00:03, 5212.55 examples/s]\u001b[A\n",
      "Generating test examples...:  38%|███████████████▍                         | 9438/25000 [00:02<00:02, 5221.42 examples/s]\u001b[A\n",
      "Generating test examples...:  40%|████████████████▎                        | 9965/25000 [00:02<00:02, 5234.92 examples/s]\u001b[A\n",
      "Generating test examples...:  42%|████████████████▊                       | 10491/25000 [00:02<00:02, 5240.48 examples/s]\u001b[A\n",
      "Generating test examples...:  44%|█████████████████▋                      | 11019/25000 [00:02<00:02, 5250.99 examples/s]\u001b[A\n",
      "Generating test examples...:  46%|██████████████████▍                     | 11548/25000 [00:02<00:02, 5262.03 examples/s]\u001b[A\n",
      "Generating test examples...:  48%|███████████████████▎                    | 12075/25000 [00:02<00:02, 5250.34 examples/s]\u001b[A\n",
      "Generating test examples...:  50%|████████████████████▏                   | 12601/25000 [00:02<00:02, 5200.23 examples/s]\u001b[A\n",
      "Generating test examples...:  52%|████████████████████▉                   | 13122/25000 [00:02<00:02, 5183.95 examples/s]\u001b[A\n",
      "Generating test examples...:  55%|█████████████████████▊                  | 13641/25000 [00:02<00:02, 5174.30 examples/s]\u001b[A\n",
      "Generating test examples...:  57%|██████████████████████▋                 | 14159/25000 [00:02<00:02, 5167.91 examples/s]\u001b[A\n",
      "Generating test examples...:  59%|███████████████████████▍                | 14677/25000 [00:03<00:01, 5170.08 examples/s]\u001b[A\n",
      "Generating test examples...:  61%|████████████████████████▎               | 15195/25000 [00:03<00:01, 5139.05 examples/s]\u001b[A\n",
      "Generating test examples...:  63%|█████████████████████████▏              | 15715/25000 [00:03<00:01, 5155.12 examples/s]\u001b[A\n",
      "Generating test examples...:  65%|█████████████████████████▉              | 16243/25000 [00:03<00:01, 5191.41 examples/s]\u001b[A\n",
      "Generating test examples...:  67%|██████████████████████████▊             | 16770/25000 [00:03<00:01, 5214.66 examples/s]\u001b[A\n",
      "Generating test examples...:  69%|███████████████████████████▋            | 17298/25000 [00:03<00:01, 5232.11 examples/s]\u001b[A\n",
      "Generating test examples...:  71%|████████████████████████████▌           | 17822/25000 [00:03<00:01, 5233.43 examples/s]\u001b[A\n",
      "Generating test examples...:  73%|█████████████████████████████▎          | 18349/25000 [00:03<00:01, 5243.63 examples/s]\u001b[A\n",
      "Generating test examples...:  75%|██████████████████████████████▏         | 18874/25000 [00:03<00:01, 5241.17 examples/s]\u001b[A\n",
      "Generating test examples...:  78%|███████████████████████████████         | 19399/25000 [00:04<00:01, 5190.74 examples/s]\u001b[A\n",
      "Generating test examples...:  80%|███████████████████████████████▊        | 19919/25000 [00:04<00:00, 5184.03 examples/s]\u001b[A\n",
      "Generating test examples...:  82%|████████████████████████████████▋       | 20444/25000 [00:04<00:00, 5201.84 examples/s]\u001b[A\n",
      "Generating test examples...:  84%|█████████████████████████████████▌      | 20971/25000 [00:04<00:00, 5221.81 examples/s]\u001b[A\n",
      "Generating test examples...:  86%|██████████████████████████████████▍     | 21497/25000 [00:04<00:00, 5231.38 examples/s]\u001b[A\n",
      "Generating test examples...:  88%|███████████████████████████████████▏    | 22026/25000 [00:04<00:00, 5246.64 examples/s]\u001b[A\n",
      "Generating test examples...:  90%|████████████████████████████████████    | 22552/25000 [00:04<00:00, 5248.60 examples/s]\u001b[A\n",
      "Generating test examples...:  92%|████████████████████████████████████▉   | 23081/25000 [00:04<00:00, 5259.09 examples/s]\u001b[A\n",
      "Generating test examples...:  94%|█████████████████████████████████████▊  | 23607/25000 [00:04<00:00, 5220.02 examples/s]\u001b[A\n",
      "Generating test examples...:  97%|██████████████████████████████████████▌ | 24130/25000 [00:04<00:00, 5172.90 examples/s]\u001b[A\n",
      "Generating test examples...:  99%|███████████████████████████████████████▍| 24648/25000 [00:05<00:00, 5160.37 examples/s]\u001b[A\n",
      "                                                                                                                         \u001b[A\n",
      "Shuffling ~/tensorflow_datasets/imdb_reviews/plain_text/1.0.0.incompleteBLOS09/imdb_reviews-test.tfrecord*...:   0%| | 0/\u001b[A\n",
      "Shuffling ~/tensorflow_datasets/imdb_reviews/plain_text/1.0.0.incompleteBLOS09/imdb_reviews-test.tfrecord*...:  75%|▋| 18\u001b[A\n",
      "Generating splits...:  67%|███████████████████████████████████████▎                   | 2/3 [00:15<00:07,  7.64s/ splits]\u001b[A\n",
      "Generating unsupervised examples...:   0%|                                              | 0/50000 [00:00<?, ? examples/s]\u001b[A\n",
      "Generating unsupervised examples...:   0%|                                   | 1/50000 [00:01<25:26:47,  1.83s/ examples]\u001b[A\n",
      "Generating unsupervised examples...:   1%|▎                                  | 512/50000 [00:01<02:13, 370.09 examples/s]\u001b[A\n",
      "Generating unsupervised examples...:   2%|▋                                 | 1020/50000 [00:02<01:00, 811.05 examples/s]\u001b[A\n",
      "Generating unsupervised examples...:   3%|█                                | 1538/50000 [00:02<00:36, 1326.25 examples/s]\u001b[A\n",
      "Generating unsupervised examples...:   4%|█▎                               | 2059/50000 [00:02<00:25, 1886.31 examples/s]\u001b[A\n",
      "Generating unsupervised examples...:   5%|█▋                               | 2579/50000 [00:02<00:19, 2451.51 examples/s]\u001b[A\n",
      "Generating unsupervised examples...:   6%|██                               | 3099/50000 [00:02<00:15, 2990.46 examples/s]\u001b[A\n",
      "Generating unsupervised examples...:   7%|██▍                              | 3617/50000 [00:02<00:13, 3468.67 examples/s]\u001b[A\n",
      "Generating unsupervised examples...:   8%|██▋                              | 4135/50000 [00:02<00:11, 3875.43 examples/s]\u001b[A\n",
      "Generating unsupervised examples...:   9%|███                              | 4653/50000 [00:02<00:10, 4204.96 examples/s]\u001b[A\n",
      "Generating unsupervised examples...:  10%|███▍                             | 5169/50000 [00:02<00:10, 4458.17 examples/s]\u001b[A\n",
      "Generating unsupervised examples...:  11%|███▊                             | 5689/50000 [00:02<00:09, 4660.64 examples/s]\u001b[A\n",
      "Generating unsupervised examples...:  12%|████                             | 6210/50000 [00:03<00:09, 4813.50 examples/s]\u001b[A\n",
      "Generating unsupervised examples...:  13%|████▍                            | 6729/50000 [00:03<00:08, 4919.70 examples/s]\u001b[A\n",
      "Generating unsupervised examples...:  15%|████▊                            | 7252/50000 [00:03<00:08, 5007.84 examples/s]\u001b[A\n",
      "Generating unsupervised examples...:  16%|█████▏                           | 7774/50000 [00:03<00:08, 5069.03 examples/s]\u001b[A\n",
      "Generating unsupervised examples...:  17%|█████▍                           | 8294/50000 [00:03<00:08, 5084.52 examples/s]\u001b[A\n",
      "Generating unsupervised examples...:  18%|█████▊                           | 8812/50000 [00:03<00:08, 5104.64 examples/s]\u001b[A\n",
      "Generating unsupervised examples...:  19%|██████▏                          | 9329/50000 [00:03<00:07, 5108.41 examples/s]\u001b[A\n",
      "Generating unsupervised examples...:  20%|██████▍                          | 9845/50000 [00:03<00:07, 5114.35 examples/s]\u001b[A\n",
      "Generating unsupervised examples...:  21%|██████▋                         | 10360/50000 [00:03<00:07, 5040.31 examples/s]\u001b[A\n",
      "Generating unsupervised examples...:  22%|██████▉                         | 10877/50000 [00:03<00:07, 5077.99 examples/s]\u001b[A\n",
      "Generating unsupervised examples...:  23%|███████▎                        | 11387/50000 [00:04<00:07, 4982.51 examples/s]\u001b[A\n",
      "Generating unsupervised examples...:  24%|███████▌                        | 11895/50000 [00:04<00:07, 5010.14 examples/s]\u001b[A\n",
      "Generating unsupervised examples...:  25%|███████▉                        | 12419/50000 [00:04<00:07, 5076.14 examples/s]\u001b[A\n",
      "Generating unsupervised examples...:  26%|████████▎                       | 12943/50000 [00:04<00:07, 5122.09 examples/s]\u001b[A\n",
      "Generating unsupervised examples...:  27%|████████▌                       | 13461/50000 [00:04<00:07, 5139.05 examples/s]\u001b[A\n",
      "Generating unsupervised examples...:  28%|████████▉                       | 13981/50000 [00:04<00:06, 5155.11 examples/s]\u001b[A\n",
      "Generating unsupervised examples...:  29%|█████████▎                      | 14500/50000 [00:04<00:06, 5163.66 examples/s]\u001b[A\n",
      "Generating unsupervised examples...:  30%|█████████▌                      | 15023/50000 [00:04<00:06, 5183.01 examples/s]\u001b[A\n",
      "Generating unsupervised examples...:  31%|█████████▉                      | 15549/50000 [00:04<00:06, 5203.22 examples/s]\u001b[A\n",
      "Generating unsupervised examples...:  32%|██████████▎                     | 16073/50000 [00:04<00:06, 5212.56 examples/s]\u001b[A\n",
      "Generating unsupervised examples...:  33%|██████████▌                     | 16595/50000 [00:05<00:06, 5209.09 examples/s]\u001b[A\n",
      "Generating unsupervised examples...:  34%|██████████▉                     | 17116/50000 [00:05<00:06, 5187.97 examples/s]\u001b[A\n",
      "Generating unsupervised examples...:  35%|███████████▎                    | 17635/50000 [00:05<00:06, 5188.51 examples/s]\u001b[A\n",
      "Generating unsupervised examples...:  36%|███████████▌                    | 18155/50000 [00:05<00:06, 5190.26 examples/s]\u001b[A\n",
      "Generating unsupervised examples...:  37%|███████████▉                    | 18675/50000 [00:05<00:06, 5186.08 examples/s]\u001b[A\n",
      "Generating unsupervised examples...:  38%|████████████▎                   | 19194/50000 [00:05<00:05, 5179.67 examples/s]\u001b[A\n",
      "Generating unsupervised examples...:  39%|████████████▌                   | 19717/50000 [00:05<00:05, 5192.65 examples/s]\u001b[A\n",
      "Generating unsupervised examples...:  40%|████████████▉                   | 20241/50000 [00:05<00:05, 5205.29 examples/s]\u001b[A\n",
      "Generating unsupervised examples...:  42%|█████████████▎                  | 20762/50000 [00:05<00:05, 5187.70 examples/s]\u001b[A\n",
      "Generating unsupervised examples...:  43%|█████████████▌                  | 21281/50000 [00:05<00:05, 5152.42 examples/s]\u001b[A\n",
      "Generating unsupervised examples...:  44%|█████████████▉                  | 21797/50000 [00:06<00:05, 5145.73 examples/s]\u001b[A\n",
      "Generating unsupervised examples...:  45%|██████████████▎                 | 22312/50000 [00:06<00:05, 5142.54 examples/s]\u001b[A\n",
      "Generating unsupervised examples...:  46%|██████████████▌                 | 22827/50000 [00:06<00:05, 5134.62 examples/s]\u001b[A\n",
      "Generating unsupervised examples...:  47%|██████████████▉                 | 23341/50000 [00:06<00:05, 5129.23 examples/s]\u001b[A\n",
      "Generating unsupervised examples...:  48%|███████████████▎                | 23855/50000 [00:06<00:05, 5131.58 examples/s]\u001b[A\n",
      "Generating unsupervised examples...:  49%|███████████████▌                | 24369/50000 [00:06<00:05, 5116.08 examples/s]\u001b[A\n",
      "Generating unsupervised examples...:  50%|███████████████▉                | 24881/50000 [00:06<00:04, 5116.85 examples/s]\u001b[A\n",
      "Generating unsupervised examples...:  51%|████████████████▎               | 25396/50000 [00:06<00:04, 5125.95 examples/s]\u001b[A\n",
      "Generating unsupervised examples...:  52%|████████████████▌               | 25912/50000 [00:06<00:04, 5133.61 examples/s]\u001b[A\n",
      "Generating unsupervised examples...:  53%|████████████████▉               | 26430/50000 [00:06<00:04, 5146.97 examples/s]\u001b[A\n",
      "Generating unsupervised examples...:  54%|█████████████████▏              | 26950/50000 [00:07<00:04, 5162.43 examples/s]\u001b[A\n",
      "Generating unsupervised examples...:  55%|█████████████████▌              | 27473/50000 [00:07<00:04, 5180.72 examples/s]\u001b[A\n",
      "Generating unsupervised examples...:  56%|█████████████████▉              | 27999/50000 [00:07<00:04, 5203.33 examples/s]\u001b[A\n",
      "Generating unsupervised examples...:  57%|██████████████████▎             | 28520/50000 [00:07<00:04, 5200.33 examples/s]\u001b[A\n",
      "Generating unsupervised examples...:  58%|██████████████████▌             | 29041/50000 [00:07<00:04, 5180.44 examples/s]\u001b[A\n",
      "Generating unsupervised examples...:  59%|██████████████████▉             | 29560/50000 [00:07<00:03, 5171.04 examples/s]\u001b[A\n",
      "Generating unsupervised examples...:  60%|███████████████████▏            | 30078/50000 [00:07<00:04, 4117.73 examples/s]\u001b[A\n",
      "Generating unsupervised examples...:  61%|███████████████████▌            | 30596/50000 [00:07<00:04, 4386.53 examples/s]\u001b[A\n",
      "Generating unsupervised examples...:  62%|███████████████████▉            | 31120/50000 [00:07<00:04, 4611.27 examples/s]\u001b[A\n",
      "Generating unsupervised examples...:  63%|████████████████████▏           | 31636/50000 [00:08<00:03, 4760.60 examples/s]\u001b[A\n",
      "Generating unsupervised examples...:  64%|████████████████████▌           | 32156/50000 [00:08<00:03, 4882.08 examples/s]\u001b[A\n",
      "Generating unsupervised examples...:  65%|████████████████████▉           | 32681/50000 [00:08<00:03, 4985.74 examples/s]\u001b[A\n",
      "Generating unsupervised examples...:  66%|█████████████████████▏          | 33200/50000 [00:08<00:03, 5043.30 examples/s]\u001b[A\n",
      "Generating unsupervised examples...:  67%|█████████████████████▌          | 33714/50000 [00:08<00:03, 5070.75 examples/s]\u001b[A\n",
      "Generating unsupervised examples...:  68%|█████████████████████▉          | 34232/50000 [00:08<00:03, 5101.78 examples/s]\u001b[A\n",
      "Generating unsupervised examples...:  69%|██████████████████████▏         | 34746/50000 [00:08<00:02, 5106.26 examples/s]\u001b[A\n",
      "Generating unsupervised examples...:  71%|██████████████████████▌         | 35260/50000 [00:08<00:02, 5116.20 examples/s]\u001b[A\n",
      "Generating unsupervised examples...:  72%|██████████████████████▉         | 35774/50000 [00:08<00:02, 5101.11 examples/s]\u001b[A\n",
      "Generating unsupervised examples...:  73%|███████████████████████▏        | 36286/50000 [00:08<00:02, 5075.06 examples/s]\u001b[A\n",
      "Generating unsupervised examples...:  74%|███████████████████████▌        | 36795/50000 [00:09<00:02, 5061.99 examples/s]\u001b[A\n",
      "Generating unsupervised examples...:  75%|███████████████████████▊        | 37302/50000 [00:09<00:02, 5045.35 examples/s]\u001b[A\n",
      "Generating unsupervised examples...:  76%|████████████████████████▏       | 37807/50000 [00:09<00:02, 5028.37 examples/s]\u001b[A\n",
      "Generating unsupervised examples...:  77%|████████████████████████▌       | 38319/50000 [00:09<00:02, 5053.83 examples/s]\u001b[A\n",
      "Generating unsupervised examples...:  78%|████████████████████████▊       | 38837/50000 [00:09<00:02, 5091.04 examples/s]\u001b[A\n",
      "Generating unsupervised examples...:  79%|█████████████████████████▏      | 39358/50000 [00:09<00:02, 5126.13 examples/s]\u001b[A\n",
      "Generating unsupervised examples...:  80%|█████████████████████████▌      | 39881/50000 [00:09<00:01, 5156.32 examples/s]\u001b[A\n",
      "Generating unsupervised examples...:  81%|█████████████████████████▊      | 40403/50000 [00:09<00:01, 5172.76 examples/s]\u001b[A\n",
      "Generating unsupervised examples...:  82%|██████████████████████████▏     | 40922/50000 [00:09<00:01, 5177.60 examples/s]\u001b[A\n",
      "Generating unsupervised examples...:  83%|██████████████████████████▌     | 41440/50000 [00:09<00:01, 5146.71 examples/s]\u001b[A\n",
      "Generating unsupervised examples...:  84%|██████████████████████████▊     | 41955/50000 [00:10<00:01, 5098.70 examples/s]\u001b[A\n",
      "Generating unsupervised examples...:  85%|███████████████████████████▏    | 42466/50000 [00:10<00:01, 5051.13 examples/s]\u001b[A\n",
      "Generating unsupervised examples...:  86%|███████████████████████████▌    | 42981/50000 [00:10<00:01, 5079.81 examples/s]\u001b[A\n",
      "Generating unsupervised examples...:  87%|███████████████████████████▊    | 43497/50000 [00:10<00:01, 5101.03 examples/s]\u001b[A\n",
      "Generating unsupervised examples...:  88%|████████████████████████████▏   | 44013/50000 [00:10<00:01, 5117.80 examples/s]\u001b[A\n",
      "Generating unsupervised examples...:  89%|████████████████████████████▍   | 44530/50000 [00:10<00:01, 5132.67 examples/s]\u001b[A\n",
      "Generating unsupervised examples...:  90%|████████████████████████████▊   | 45044/50000 [00:10<00:00, 5131.45 examples/s]\u001b[A\n",
      "Generating unsupervised examples...:  91%|█████████████████████████████▏  | 45558/50000 [00:10<00:00, 5091.08 examples/s]\u001b[A\n",
      "Generating unsupervised examples...:  92%|█████████████████████████████▍  | 46068/50000 [00:10<00:00, 5056.49 examples/s]\u001b[A\n",
      "Generating unsupervised examples...:  93%|█████████████████████████████▊  | 46574/50000 [00:10<00:00, 5032.55 examples/s]\u001b[A\n",
      "Generating unsupervised examples...:  94%|██████████████████████████████▏ | 47091/50000 [00:11<00:00, 5070.51 examples/s]\u001b[A\n",
      "Generating unsupervised examples...:  95%|██████████████████████████████▍ | 47609/50000 [00:11<00:00, 5102.37 examples/s]\u001b[A\n",
      "Generating unsupervised examples...:  96%|██████████████████████████████▊ | 48130/50000 [00:11<00:00, 5132.48 examples/s]\u001b[A\n",
      "Generating unsupervised examples...:  97%|███████████████████████████████▏| 48652/50000 [00:11<00:00, 5157.63 examples/s]\u001b[A\n",
      "Generating unsupervised examples...:  98%|███████████████████████████████▍| 49173/50000 [00:11<00:00, 5171.39 examples/s]\u001b[A\n",
      "Generating unsupervised examples...:  99%|███████████████████████████████▊| 49696/50000 [00:11<00:00, 5188.50 examples/s]\u001b[A\n",
      "                                                                                                                         \u001b[A\n",
      "Shuffling ~/tensorflow_datasets/imdb_reviews/plain_text/1.0.0.incompleteBLOS09/imdb_reviews-unsupervised.tfrecord*...:   \u001b[A\n",
      "Shuffling ~/tensorflow_datasets/imdb_reviews/plain_text/1.0.0.incompleteBLOS09/imdb_reviews-unsupervised.tfrecord*...:  3\u001b[A\n",
      "Shuffling ~/tensorflow_datasets/imdb_reviews/plain_text/1.0.0.incompleteBLOS09/imdb_reviews-unsupervised.tfrecord*...:  7\u001b[A\n",
      "2022-07-25 15:45:24.035431: I tensorflow/core/common_runtime/pluggable_device/pluggable_device_factory.cc:305] Could not identify NUMA node of platform GPU ID 0, defaulting to 0. Your kernel may not have been built with NUMA support.\n",
      "2022-07-25 15:45:24.035708: I tensorflow/core/common_runtime/pluggable_device/pluggable_device_factory.cc:271] Created TensorFlow device (/job:localhost/replica:0/task:0/device:GPU:0 with 0 MB memory) -> physical PluggableDevice (device: 0, name: METAL, pci bus id: <undefined>)\n"
     ]
    },
    {
     "name": "stdout",
     "output_type": "stream",
     "text": [
      "\u001b[1mDataset imdb_reviews downloaded and prepared to ~/tensorflow_datasets/imdb_reviews/plain_text/1.0.0. Subsequent calls will reuse this data.\u001b[0m\n",
      "Metal device set to: Apple M1\n"
     ]
    }
   ],
   "source": [
    "import tensorflow_datasets as tfds\n",
    "\n",
    "# Load the IMDB Reviews dataset\n",
    "imdb, info = tfds.load(\"imdb_reviews\", with_info=True, as_supervised=True)"
   ]
  },
  {
   "cell_type": "code",
   "execution_count": 5,
   "metadata": {
    "id": "J3PEarpKw9_j"
   },
   "outputs": [
    {
     "name": "stdout",
     "output_type": "stream",
     "text": [
      "tfds.core.DatasetInfo(\n",
      "    name='imdb_reviews',\n",
      "    full_name='imdb_reviews/plain_text/1.0.0',\n",
      "    description=\"\"\"\n",
      "    Large Movie Review Dataset.\n",
      "    This is a dataset for binary sentiment classification containing substantially more data than previous benchmark datasets. We provide a set of 25,000 highly polar movie reviews for training, and 25,000 for testing. There is additional unlabeled data for use as well.\n",
      "    \"\"\",\n",
      "    config_description=\"\"\"\n",
      "    Plain text\n",
      "    \"\"\",\n",
      "    homepage='http://ai.stanford.edu/~amaas/data/sentiment/',\n",
      "    data_path='~/tensorflow_datasets/imdb_reviews/plain_text/1.0.0',\n",
      "    file_format=tfrecord,\n",
      "    download_size=80.23 MiB,\n",
      "    dataset_size=129.83 MiB,\n",
      "    features=FeaturesDict({\n",
      "        'label': ClassLabel(shape=(), dtype=tf.int64, num_classes=2),\n",
      "        'text': Text(shape=(), dtype=tf.string),\n",
      "    }),\n",
      "    supervised_keys=('text', 'label'),\n",
      "    disable_shuffling=False,\n",
      "    splits={\n",
      "        'test': <SplitInfo num_examples=25000, num_shards=1>,\n",
      "        'train': <SplitInfo num_examples=25000, num_shards=1>,\n",
      "        'unsupervised': <SplitInfo num_examples=50000, num_shards=1>,\n",
      "    },\n",
      "    citation=\"\"\"@InProceedings{maas-EtAl:2011:ACL-HLT2011,\n",
      "      author    = {Maas, Andrew L.  and  Daly, Raymond E.  and  Pham, Peter T.  and  Huang, Dan  and  Ng, Andrew Y.  and  Potts, Christopher},\n",
      "      title     = {Learning Word Vectors for Sentiment Analysis},\n",
      "      booktitle = {Proceedings of the 49th Annual Meeting of the Association for Computational Linguistics: Human Language Technologies},\n",
      "      month     = {June},\n",
      "      year      = {2011},\n",
      "      address   = {Portland, Oregon, USA},\n",
      "      publisher = {Association for Computational Linguistics},\n",
      "      pages     = {142--150},\n",
      "      url       = {http://www.aclweb.org/anthology/P11-1015}\n",
      "    }\"\"\",\n",
      ")\n"
     ]
    }
   ],
   "source": [
    "# Print information about the dataset\n",
    "print(info)"
   ]
  },
  {
   "cell_type": "markdown",
   "metadata": {
    "id": "kLRAoHil5poj"
   },
   "source": [
    "As you can see in the output above, there is a total of 100,000 examples in the dataset and it is split into `train`, `test` and `unsupervised` sets. For this lab, you will only use `train` and `test` sets because you will need labeled examples to train your model."
   ]
  },
  {
   "cell_type": "markdown",
   "metadata": {
    "id": "5EzNDkdkpvrv"
   },
   "source": [
    "## Split the dataset\n",
    "\n",
    "If you try printing the `imdb` dataset that you downloaded earlier, you will see that it contains the dictionary that points to [`tf.data.Dataset`](https://www.tensorflow.org/api_docs/python/tf/data/Dataset) objects. You will explore more of this class and its API in Course 4 of this specialization. For now, you can just think of it as a collection of examples."
   ]
  },
  {
   "cell_type": "code",
   "execution_count": 6,
   "metadata": {
    "id": "tA5397cs-EwN"
   },
   "outputs": [
    {
     "name": "stdout",
     "output_type": "stream",
     "text": [
      "{Split('train'): <PrefetchDataset element_spec=(TensorSpec(shape=(), dtype=tf.string, name=None), TensorSpec(shape=(), dtype=tf.int64, name=None))>, Split('test'): <PrefetchDataset element_spec=(TensorSpec(shape=(), dtype=tf.string, name=None), TensorSpec(shape=(), dtype=tf.int64, name=None))>, Split('unsupervised'): <PrefetchDataset element_spec=(TensorSpec(shape=(), dtype=tf.string, name=None), TensorSpec(shape=(), dtype=tf.int64, name=None))>}\n"
     ]
    }
   ],
   "source": [
    "# Print the contents of the dataset you downloaded\n",
    "print(imdb)"
   ]
  },
  {
   "cell_type": "markdown",
   "metadata": {
    "id": "L4oiQ0waBduJ"
   },
   "source": [
    "You can preview the raw format of a few examples by using the [`take()`](https://www.tensorflow.org/api_docs/python/tf/data/Dataset#take) method and iterating over it as shown below:"
   ]
  },
  {
   "cell_type": "code",
   "execution_count": 7,
   "metadata": {
    "id": "2NgUwTDu7Q1O"
   },
   "outputs": [
    {
     "name": "stdout",
     "output_type": "stream",
     "text": [
      "(<tf.Tensor: shape=(), dtype=string, numpy=b\"This was an absolutely terrible movie. Don't be lured in by Christopher Walken or Michael Ironside. Both are great actors, but this must simply be their worst role in history. Even their great acting could not redeem this movie's ridiculous storyline. This movie is an early nineties US propaganda piece. The most pathetic scenes were those when the Columbian rebels were making their cases for revolutions. Maria Conchita Alonso appeared phony, and her pseudo-love affair with Walken was nothing but a pathetic emotional plug in a movie that was devoid of any real meaning. I am disappointed that there are movies like this, ruining actor's like Christopher Walken's good name. I could barely sit through it.\">, <tf.Tensor: shape=(), dtype=int64, numpy=0>)\n",
      "(<tf.Tensor: shape=(), dtype=string, numpy=b'I have been known to fall asleep during films, but this is usually due to a combination of things including, really tired, being warm and comfortable on the sette and having just eaten a lot. However on this occasion I fell asleep because the film was rubbish. The plot development was constant. Constantly slow and boring. Things seemed to happen, but with no explanation of what was causing them or why. I admit, I may have missed part of the film, but i watched the majority of it and everything just seemed to happen of its own accord without any real concern for anything else. I cant recommend this film at all.'>, <tf.Tensor: shape=(), dtype=int64, numpy=0>)\n"
     ]
    },
    {
     "name": "stderr",
     "output_type": "stream",
     "text": [
      "2022-07-25 15:51:16.042912: W tensorflow/core/platform/profile_utils/cpu_utils.cc:128] Failed to get CPU frequency: 0 Hz\n",
      "2022-07-25 15:51:16.079566: W tensorflow/core/kernels/data/cache_dataset_ops.cc:768] The calling iterator did not fully read the dataset being cached. In order to avoid unexpected truncation of the dataset, the partially cached contents of the dataset  will be discarded. This can happen if you have an input pipeline similar to `dataset.cache().take(k).repeat()`. You should use `dataset.take(k).cache().repeat()` instead.\n"
     ]
    }
   ],
   "source": [
    "# Take 2 training examples and print its contents\n",
    "for example in imdb['train'].take(2):\n",
    "  print(example)"
   ]
  },
  {
   "cell_type": "markdown",
   "metadata": {
    "id": "hOtXX2gxB8pe"
   },
   "source": [
    "You can see that each example is a 2-element tuple of tensors containing the text first, then the label (shown in the `numpy()` property). The next cell below will take all the `train` and `test` sentences and labels into separate lists so you can preprocess the text and feed it to the model later."
   ]
  },
  {
   "cell_type": "code",
   "execution_count": 8,
   "metadata": {
    "id": "wHQ2Ko0zl7M4"
   },
   "outputs": [],
   "source": [
    "import numpy as np\n",
    "\n",
    "# Get the train and test sets\n",
    "train_data, test_data = imdb['train'], imdb['test']\n",
    "\n",
    "# Initialize sentences and labels lists\n",
    "training_sentences = []\n",
    "training_labels = []\n",
    "\n",
    "testing_sentences = []\n",
    "testing_labels = []\n",
    "\n",
    "# Loop over all training examples and save the sentences and labels\n",
    "for s,l in train_data:\n",
    "  training_sentences.append(s.numpy().decode('utf8'))\n",
    "  training_labels.append(l.numpy())\n",
    "\n",
    "# Loop over all test examples and save the sentences and labels\n",
    "for s,l in test_data:\n",
    "  testing_sentences.append(s.numpy().decode('utf8'))\n",
    "  testing_labels.append(l.numpy())\n",
    "\n",
    "# Convert labels lists to numpy array\n",
    "training_labels_final = np.array(training_labels)\n",
    "testing_labels_final = np.array(testing_labels)\n"
   ]
  },
  {
   "cell_type": "markdown",
   "metadata": {
    "id": "ePTIgXj3q8Sg"
   },
   "source": [
    "## Generate Padded Sequences\n",
    "\n",
    "Now you can do the text preprocessing steps you've learned last week. You will tokenize the sentences and pad them to a uniform length. We've separated the parameters into its own code cell below so it will be easy for you to tweak it later if you want."
   ]
  },
  {
   "cell_type": "code",
   "execution_count": 9,
   "metadata": {
    "id": "lggoZqYUGYgX"
   },
   "outputs": [],
   "source": [
    "# Parameters\n",
    "\n",
    "vocab_size = 10000\n",
    "max_length = 120\n",
    "embedding_dim = 16\n",
    "trunc_type='post'\n",
    "oov_tok = \"<OOV>\""
   ]
  },
  {
   "cell_type": "code",
   "execution_count": 10,
   "metadata": {
    "id": "7n15yyMdmoH1"
   },
   "outputs": [],
   "source": [
    "from tensorflow.keras.preprocessing.text import Tokenizer\n",
    "from tensorflow.keras.preprocessing.sequence import pad_sequences\n",
    "\n",
    "# Initialize the Tokenizer class\n",
    "tokenizer = Tokenizer(num_words = vocab_size, oov_token=oov_tok)\n",
    "\n",
    "# Generate the word index dictionary for the training sentences\n",
    "tokenizer.fit_on_texts(training_sentences)\n",
    "word_index = tokenizer.word_index\n",
    "\n",
    "# Generate and pad the training sequences\n",
    "sequences = tokenizer.texts_to_sequences(training_sentences)\n",
    "padded = pad_sequences(sequences,maxlen=max_length, truncating=trunc_type)\n",
    "\n",
    "# Generate and pad the test sequences\n",
    "testing_sequences = tokenizer.texts_to_sequences(testing_sentences)\n",
    "testing_padded = pad_sequences(testing_sequences,maxlen=max_length)\n"
   ]
  },
  {
   "cell_type": "markdown",
   "metadata": {
    "id": "N2rCmp7ArGL_"
   },
   "source": [
    "## Build and Compile the Model\n",
    "\n",
    "With the data already preprocessed, you can proceed to building your sentiment classification model. The input will be an [`Embedding`](https://www.tensorflow.org/api_docs/python/tf/keras/layers/Embedding) layer. The main idea here is to represent each word in your vocabulary with vectors. These vectors have trainable weights so as your neural network learns, words that are most likely to appear in a positive tweet will converge towards similar weights. Similarly, words in negative tweets will be clustered more closely together. You can read more about word embeddings [here](https://www.tensorflow.org/text/guide/word_embeddings).\n",
    "\n",
    "After the `Embedding` layer, you will flatten its output and feed it into a `Dense` layer. You will explore other architectures for these hidden layers in the next labs.\n",
    "\n",
    "The output layer would be a single neuron with a sigmoid activation to distinguish between the 2 classes. As is typical with binary classifiers, you will use the `binary_crossentropy` as your loss function while training."
   ]
  },
  {
   "cell_type": "code",
   "execution_count": 11,
   "metadata": {
    "id": "5NEpdhb8AxID"
   },
   "outputs": [
    {
     "name": "stdout",
     "output_type": "stream",
     "text": [
      "Model: \"sequential\"\n",
      "_________________________________________________________________\n",
      " Layer (type)                Output Shape              Param #   \n",
      "=================================================================\n",
      " embedding (Embedding)       (None, 120, 16)           160000    \n",
      "                                                                 \n",
      " flatten (Flatten)           (None, 1920)              0         \n",
      "                                                                 \n",
      " dense (Dense)               (None, 6)                 11526     \n",
      "                                                                 \n",
      " dense_1 (Dense)             (None, 1)                 7         \n",
      "                                                                 \n",
      "=================================================================\n",
      "Total params: 171,533\n",
      "Trainable params: 171,533\n",
      "Non-trainable params: 0\n",
      "_________________________________________________________________\n"
     ]
    }
   ],
   "source": [
    "import tensorflow as tf\n",
    "\n",
    "# Build the model\n",
    "model = tf.keras.Sequential([\n",
    "    tf.keras.layers.Embedding(vocab_size, embedding_dim, input_length=max_length),\n",
    "    tf.keras.layers.Flatten(),\n",
    "    tf.keras.layers.Dense(6, activation='relu'),\n",
    "    tf.keras.layers.Dense(1, activation='sigmoid')\n",
    "])\n",
    "\n",
    "# Setup the training parameters\n",
    "model.compile(loss='binary_crossentropy',optimizer='adam',metrics=['accuracy'])\n",
    "\n",
    "# Print the model summary\n",
    "model.summary()"
   ]
  },
  {
   "cell_type": "markdown",
   "metadata": {
    "id": "e8gbnoRdqp8O"
   },
   "source": [
    "## Train the Model\n",
    "\n",
    "Next, of course, is to train your model. With the current settings, you will get near perfect training accuracy after just 5 epochs but the validation accuracy will plateau at around 83%. See if you can still improve this by adjusting some of the parameters earlier (e.g. the `vocab_size`, number of `Dense` neurons, number of epochs, etc.). "
   ]
  },
  {
   "cell_type": "code",
   "execution_count": 12,
   "metadata": {
    "id": "V5LLrXC-uNX6"
   },
   "outputs": [
    {
     "name": "stdout",
     "output_type": "stream",
     "text": [
      "Epoch 1/10\n"
     ]
    },
    {
     "name": "stderr",
     "output_type": "stream",
     "text": [
      "2022-07-25 15:58:11.530096: I tensorflow/core/grappler/optimizers/custom_graph_optimizer_registry.cc:113] Plugin optimizer for device_type GPU is enabled.\n"
     ]
    },
    {
     "name": "stdout",
     "output_type": "stream",
     "text": [
      "782/782 [==============================] - ETA: 0s - loss: 0.4976 - accuracy: 0.7384"
     ]
    },
    {
     "name": "stderr",
     "output_type": "stream",
     "text": [
      "2022-07-25 15:58:19.459274: I tensorflow/core/grappler/optimizers/custom_graph_optimizer_registry.cc:113] Plugin optimizer for device_type GPU is enabled.\n"
     ]
    },
    {
     "name": "stdout",
     "output_type": "stream",
     "text": [
      "782/782 [==============================] - 10s 12ms/step - loss: 0.4976 - accuracy: 0.7384 - val_loss: 0.3668 - val_accuracy: 0.8369\n",
      "Epoch 2/10\n",
      "782/782 [==============================] - 9s 11ms/step - loss: 0.2411 - accuracy: 0.9072 - val_loss: 0.3600 - val_accuracy: 0.8431\n",
      "Epoch 3/10\n",
      "782/782 [==============================] - 9s 11ms/step - loss: 0.0936 - accuracy: 0.9755 - val_loss: 0.4441 - val_accuracy: 0.8308\n",
      "Epoch 4/10\n",
      "782/782 [==============================] - 9s 11ms/step - loss: 0.0235 - accuracy: 0.9968 - val_loss: 0.5291 - val_accuracy: 0.8272\n",
      "Epoch 5/10\n",
      "782/782 [==============================] - 9s 11ms/step - loss: 0.0059 - accuracy: 0.9996 - val_loss: 0.5895 - val_accuracy: 0.8285\n",
      "Epoch 6/10\n",
      "782/782 [==============================] - 9s 11ms/step - loss: 0.0019 - accuracy: 1.0000 - val_loss: 0.6423 - val_accuracy: 0.8296\n",
      "Epoch 7/10\n",
      "782/782 [==============================] - 9s 11ms/step - loss: 8.4272e-04 - accuracy: 1.0000 - val_loss: 0.6850 - val_accuracy: 0.8303\n",
      "Epoch 8/10\n",
      "782/782 [==============================] - 9s 11ms/step - loss: 4.6586e-04 - accuracy: 1.0000 - val_loss: 0.7256 - val_accuracy: 0.8299\n",
      "Epoch 9/10\n",
      "782/782 [==============================] - 9s 11ms/step - loss: 2.6770e-04 - accuracy: 1.0000 - val_loss: 0.7608 - val_accuracy: 0.8298\n",
      "Epoch 10/10\n",
      "782/782 [==============================] - 9s 11ms/step - loss: 1.6467e-04 - accuracy: 1.0000 - val_loss: 0.7986 - val_accuracy: 0.8306\n"
     ]
    },
    {
     "data": {
      "text/plain": [
       "<keras.callbacks.History at 0x16c012e20>"
      ]
     },
     "execution_count": 12,
     "metadata": {},
     "output_type": "execute_result"
    }
   ],
   "source": [
    "num_epochs = 10\n",
    "\n",
    "# Train the model\n",
    "model.fit(padded, training_labels_final, epochs=num_epochs, validation_data=(testing_padded, testing_labels_final))"
   ]
  },
  {
   "cell_type": "markdown",
   "metadata": {
    "id": "mroDvjEJqwm4"
   },
   "source": [
    "## Visualize Word Embeddings\n",
    "\n",
    "After training, you can visualize the trained weights in the `Embedding` layer to see words that are clustered together. The [Tensorflow Embedding Projector](https://projector.tensorflow.org/) is able to reduce the 16-dimension vectors you defined earlier into fewer components so it can be plotted in the projector. First, you will need to get these weights and you can do that with the cell below:"
   ]
  },
  {
   "cell_type": "code",
   "execution_count": 13,
   "metadata": {
    "id": "yAmjJqEyCOF_"
   },
   "outputs": [
    {
     "name": "stdout",
     "output_type": "stream",
     "text": [
      "(10000, 16)\n"
     ]
    }
   ],
   "source": [
    "# Get the embedding layer from the model (i.e. first layer)\n",
    "embedding_layer = model.layers[0]\n",
    "\n",
    "# Get the weights of the embedding layer\n",
    "embedding_weights = embedding_layer.get_weights()[0]\n",
    "\n",
    "# Print the shape. Expected is (vocab_size, embedding_dim)\n",
    "print(embedding_weights.shape) "
   ]
  },
  {
   "cell_type": "markdown",
   "metadata": {
    "id": "DEuG9AqIuF6i"
   },
   "source": [
    "You will need to generate two files:\n",
    "\n",
    "* `vecs.tsv` - contains the vector weights of each word in the vocabulary\n",
    "* `meta.tsv` - contains the words in the vocabulary"
   ]
  },
  {
   "cell_type": "markdown",
   "metadata": {
    "id": "1u4Ty097uRYP"
   },
   "source": [
    "For this, it is useful to have `reverse_word_index` dictionary so you can quickly lookup a word based on a given index. For example, `reverse_word_index[1]` will return your OOV token because it is always at index = 1. Fortunately, the `Tokenizer` class already provides this dictionary through its `index_word` property. Yes, as the name implies, it is the reverse of the `word_index` property which you used earlier!"
   ]
  },
  {
   "cell_type": "code",
   "execution_count": 14,
   "metadata": {
    "id": "pPhhHqvxvS8f"
   },
   "outputs": [],
   "source": [
    "# Get the index-word dictionary\n",
    "reverse_word_index = tokenizer.index_word"
   ]
  },
  {
   "cell_type": "markdown",
   "metadata": {
    "id": "ykM0Q9ThvszB"
   },
   "source": [
    "Now you can start the loop to generate the files. You will loop `vocab_size-1` times, skipping the `0` key because it is just for the padding."
   ]
  },
  {
   "cell_type": "code",
   "execution_count": 15,
   "metadata": {
    "id": "jmB0Uxk0ycP6"
   },
   "outputs": [],
   "source": [
    "import io\n",
    "\n",
    "# Open writeable files\n",
    "out_v = io.open('vecs.tsv', 'w', encoding='utf-8')\n",
    "out_m = io.open('meta.tsv', 'w', encoding='utf-8')\n",
    "\n",
    "# Initialize the loop. Start counting at `1` because `0` is just for the padding\n",
    "for word_num in range(1, vocab_size):\n",
    "\n",
    "  # Get the word associated at the current index\n",
    "  word_name = reverse_word_index[word_num]\n",
    "\n",
    "  # Get the embedding weights associated with the current index\n",
    "  word_embedding = embedding_weights[word_num]\n",
    "\n",
    "  # Write the word name\n",
    "  out_m.write(word_name + \"\\n\")\n",
    "\n",
    "  # Write the word embedding\n",
    "  out_v.write('\\t'.join([str(x) for x in word_embedding]) + \"\\n\")\n",
    "\n",
    "# Close the files\n",
    "out_v.close()\n",
    "out_m.close()"
   ]
  },
  {
   "cell_type": "markdown",
   "metadata": {
    "id": "3t92Osu3u8Qh"
   },
   "source": [
    "When running this on Colab, you can run the code below to download the files. Otherwise, you can see the files in your current working directory and download it manually.\n"
   ]
  },
  {
   "cell_type": "code",
   "execution_count": null,
   "metadata": {
    "id": "VDeqpOCVydtq"
   },
   "outputs": [],
   "source": [
    "# Import files utilities in Colab\n",
    "try:\n",
    "  from google.colab import files\n",
    "except ImportError:\n",
    "  pass\n",
    "\n",
    "# Download the files\n",
    "else:\n",
    "  files.download('vecs.tsv')\n",
    "  files.download('meta.tsv')"
   ]
  },
  {
   "cell_type": "markdown",
   "metadata": {
    "id": "TRV8ag3nyAOb"
   },
   "source": [
    "Now you can go to the [Tensorflow Embedding Projector](https://projector.tensorflow.org/) and load the two files you downloaded to see the visualization. You can search for words like `worst` and `fantastic` and see the other words closely located to these."
   ]
  },
  {
   "cell_type": "markdown",
   "metadata": {
    "id": "4GOiu0WHzMzk",
    "jp-MarkdownHeadingCollapsed": true,
    "tags": []
   },
   "source": [
    "## Wrap Up\n",
    "\n",
    "In this lab, you were able build a simple sentiment classification model and train it on preprocessed text data. In the next lessons, you will revisit the Sarcasm Dataset you used in Week 1 and build a model to train on it."
   ]
  }
 ],
 "metadata": {
  "colab": {
   "collapsed_sections": [],
   "name": "C3_W2_Lab_1_imdb.ipynb",
   "private_outputs": true,
   "provenance": []
  },
  "kernelspec": {
   "display_name": "Python 3 (ipykernel)",
   "language": "python",
   "name": "python3"
  },
  "language_info": {
   "codemirror_mode": {
    "name": "ipython",
    "version": 3
   },
   "file_extension": ".py",
   "mimetype": "text/x-python",
   "name": "python",
   "nbconvert_exporter": "python",
   "pygments_lexer": "ipython3",
   "version": "3.9.12"
  }
 },
 "nbformat": 4,
 "nbformat_minor": 4
}
