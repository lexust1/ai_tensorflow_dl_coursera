{
 "cells": [
  {
   "cell_type": "markdown",
   "metadata": {},
   "source": [
    "<a href=\"https://colab.research.google.com/github/https-deeplearning-ai/tensorflow-1-public/blob/main/C4/W4/ungraded_labs/C4_W4_Lab_2_Sunspots_DNN.ipynb\" target=\"_parent\"><img src=\"https://colab.research.google.com/assets/colab-badge.svg\" alt=\"Open In Colab\"/></a>"
   ]
  },
  {
   "cell_type": "markdown",
   "metadata": {
    "id": "JQsk1BKwZrBh"
   },
   "source": [
    "# Ungraded Lab: Predicting Sunspots with Neural Networks (DNN only)\n",
    "\n",
    "In the remaining labs for this week, you will move away from synthetic time series and start building models for real world data. In particular, you will train on the [Sunspots](https://www.kaggle.com/datasets/robervalt/sunspots) dataset: a monthly record of sunspot numbers from January 1749 to July 2018. You will first build a deep neural network here composed of dense layers. This will act as your baseline so you can compare it to the next lab where you will use a more complex architecture.\n",
    "\n",
    "Let's begin!"
   ]
  },
  {
   "cell_type": "markdown",
   "metadata": {
    "id": "2JHlrB12aeFD"
   },
   "source": [
    "## Imports\n",
    "\n",
    "You will use the same imports as before with the addition of the [csv](https://docs.python.org/3/library/csv.html) module. You will need this to parse the CSV file containing the dataset."
   ]
  },
  {
   "cell_type": "code",
   "execution_count": 1,
   "metadata": {
    "id": "56XEQOGknrAk"
   },
   "outputs": [],
   "source": [
    "import tensorflow as tf\n",
    "import numpy as np\n",
    "import matplotlib.pyplot as plt\n",
    "import csv"
   ]
  },
  {
   "cell_type": "markdown",
   "metadata": {
    "id": "D-mNttnaagBH"
   },
   "source": [
    "## Utilities\n",
    "\n",
    "You will only have the `plot_series()` dataset here because you no longer need the synthetic data generation functions."
   ]
  },
  {
   "cell_type": "code",
   "execution_count": 2,
   "metadata": {
    "id": "sLl52leVp5wU"
   },
   "outputs": [],
   "source": [
    "def plot_series(x, y, format=\"-\", start=0, end=None, \n",
    "                title=None, xlabel=None, ylabel=None, legend=None ):\n",
    "    \"\"\"\n",
    "    Visualizes time series data\n",
    "\n",
    "    Args:\n",
    "      x (array of int) - contains values for the x-axis\n",
    "      y (array of int or tuple of arrays) - contains the values for the y-axis\n",
    "      format (string) - line style when plotting the graph\n",
    "      label (string) - tag for the line\n",
    "      start (int) - first time step to plot\n",
    "      end (int) - last time step to plot\n",
    "      title (string) - title of the plot\n",
    "      xlabel (string) - label for the x-axis\n",
    "      ylabel (string) - label for the y-axis\n",
    "      legend (list of strings) - legend for the plot\n",
    "    \"\"\"\n",
    "\n",
    "    # Setup dimensions of the graph figure\n",
    "    plt.figure(figsize=(10, 6))\n",
    "    \n",
    "    # Check if there are more than two series to plot\n",
    "    if type(y) is tuple:\n",
    "\n",
    "      # Loop over the y elements\n",
    "      for y_curr in y:\n",
    "\n",
    "        # Plot the x and current y values\n",
    "        plt.plot(x[start:end], y_curr[start:end], format)\n",
    "\n",
    "    else:\n",
    "      # Plot the x and y values\n",
    "      plt.plot(x[start:end], y[start:end], format)\n",
    "\n",
    "    # Label the x-axis\n",
    "    plt.xlabel(xlabel)\n",
    "\n",
    "    # Label the y-axis\n",
    "    plt.ylabel(ylabel)\n",
    "\n",
    "    # Set the legend\n",
    "    if legend:\n",
    "      plt.legend(legend)\n",
    "\n",
    "    # Set the title\n",
    "    plt.title(title)\n",
    "\n",
    "    # Overlay a grid on the graph\n",
    "    plt.grid(True)\n",
    "\n",
    "    # Draw the graph on screen\n",
    "    plt.show()"
   ]
  },
  {
   "cell_type": "markdown",
   "metadata": {
    "id": "dFJv45pDauS8"
   },
   "source": [
    "## Download and Preview the Dataset\n",
    "\n",
    "You can now download the dataset and inspect the contents. The link in class is from Laurence's repo but we also hosted it in the link below."
   ]
  },
  {
   "cell_type": "code",
   "execution_count": 3,
   "metadata": {
    "id": "YwI-si5xyUkQ"
   },
   "outputs": [
    {
     "name": "stdout",
     "output_type": "stream",
     "text": [
      "--2022-09-27 17:04:17--  https://storage.googleapis.com/tensorflow-1-public/course4/Sunspots.csv\n",
      "Resolving storage.googleapis.com (storage.googleapis.com)... 216.58.209.208, 216.58.210.144, 216.58.210.176, ...\n",
      "Connecting to storage.googleapis.com (storage.googleapis.com)|216.58.209.208|:443... connected.\n",
      "HTTP request sent, awaiting response... 200 OK\n",
      "Length: 70827 (69K) [text/csv]\n",
      "Saving to: ‘Sunspots.csv.1’\n",
      "\n",
      "Sunspots.csv.1      100%[===================>]  69,17K   375KB/s    in 0,2s    \n",
      "\n",
      "2022-09-27 17:04:18 (375 KB/s) - ‘Sunspots.csv.1’ saved [70827/70827]\n",
      "\n"
     ]
    }
   ],
   "source": [
    "# Download the dataset\n",
    "!wget https://storage.googleapis.com/tensorflow-1-public/course4/Sunspots.csv"
   ]
  },
  {
   "cell_type": "markdown",
   "metadata": {
    "id": "c0fAiMytrwPJ"
   },
   "source": [
    "Running the cell below, you'll see that there are only three columns in the dataset:\n",
    "1. untitled column containing the month number\n",
    "2. Date which has the format `YYYY-MM-DD`\n",
    "3. Mean Total Sunspot Number"
   ]
  },
  {
   "cell_type": "code",
   "execution_count": 4,
   "metadata": {
    "id": "d5W2auXKrhVh"
   },
   "outputs": [
    {
     "name": "stdout",
     "output_type": "stream",
     "text": [
      ",Date,Monthly Mean Total Sunspot Number\n",
      "0,1749-01-31,96.7\n",
      "1,1749-02-28,104.3\n",
      "2,1749-03-31,116.7\n",
      "3,1749-04-30,92.8\n",
      "4,1749-05-31,141.7\n",
      "5,1749-06-30,139.2\n",
      "6,1749-07-31,158.0\n",
      "7,1749-08-31,110.5\n",
      "8,1749-09-30,126.5\n"
     ]
    }
   ],
   "source": [
    "# Preview the dataset\n",
    "!head Sunspots.csv"
   ]
  },
  {
   "cell_type": "markdown",
   "metadata": {
    "id": "lbs-Y2SDsVaw"
   },
   "source": [
    "For this lab and the next, you will only need the month number and the mean total sunspot number. You will load those into memory and convert it to arrays that represents a time series."
   ]
  },
  {
   "cell_type": "code",
   "execution_count": 5,
   "metadata": {
    "id": "NcG9r1eClbTh"
   },
   "outputs": [
    {
     "data": {
      "image/png": "[encoded data removed]",
      "text/plain": [
       "<Figure size 720x432 with 1 Axes>"
      ]
     },
     "metadata": {
      "needs_background": "light"
     },
     "output_type": "display_data"
    }
   ],
   "source": [
    "# Initialize lists\n",
    "time_step = []\n",
    "sunspots = []\n",
    "\n",
    "# Open CSV file\n",
    "with open('./Sunspots.csv') as csvfile:\n",
    "  \n",
    "  # Initialize reader\n",
    "  reader = csv.reader(csvfile, delimiter=',')\n",
    "  \n",
    "  # Skip the first line\n",
    "  next(reader)\n",
    "  \n",
    "  # Append row and sunspot number to lists\n",
    "  for row in reader:\n",
    "    time_step.append(int(row[0]))\n",
    "    sunspots.append(float(row[2]))\n",
    "\n",
    "# Convert lists to numpy arrays\n",
    "time = np.array(time_step)\n",
    "series = np.array(sunspots)\n",
    "\n",
    "# Preview the data\n",
    "plot_series(time, series, xlabel='Month', ylabel='Monthly Mean Total Sunspot Number')"
   ]
  },
  {
   "cell_type": "markdown",
   "metadata": {
    "id": "EUQE9RRoazC5"
   },
   "source": [
    "## Split the Dataset\n",
    "\n",
    "Next, you will split the dataset into training and validation sets. There are 3235 points in the dataset and you will use the first 3000 for training."
   ]
  },
  {
   "cell_type": "code",
   "execution_count": 6,
   "metadata": {
    "id": "L92YRw_IpCFG"
   },
   "outputs": [],
   "source": [
    "# Define the split time\n",
    "split_time = 3000\n",
    "\n",
    "# Get the train set \n",
    "time_train = time[:split_time]\n",
    "x_train = series[:split_time]\n",
    "\n",
    "# Get the validation set\n",
    "time_valid = time[split_time:]\n",
    "x_valid = series[split_time:]"
   ]
  },
  {
   "cell_type": "markdown",
   "metadata": {
    "id": "RbuIOrb3a093"
   },
   "source": [
    "## Prepare Features and Labels\n",
    "\n",
    "You can then prepare the dataset windows as before. The window size is set to 30 points (equal to 2.5 years) but feel free to change later on if you want to experiment."
   ]
  },
  {
   "cell_type": "code",
   "execution_count": 7,
   "metadata": {
    "id": "lJwUUZscnG38"
   },
   "outputs": [],
   "source": [
    "def windowed_dataset(series, window_size, batch_size, shuffle_buffer):\n",
    "    \"\"\"Generates dataset windows\n",
    "\n",
    "    Args:\n",
    "      series (array of float) - contains the values of the time series\n",
    "      window_size (int) - the number of time steps to include in the feature\n",
    "      batch_size (int) - the batch size\n",
    "      shuffle_buffer(int) - buffer size to use for the shuffle method\n",
    "\n",
    "    Returns:\n",
    "      dataset (TF Dataset) - TF Dataset containing time windows\n",
    "    \"\"\"\n",
    "  \n",
    "    # Generate a TF Dataset from the series values\n",
    "    dataset = tf.data.Dataset.from_tensor_slices(series)\n",
    "    \n",
    "    # Window the data but only take those with the specified size\n",
    "    dataset = dataset.window(window_size + 1, shift=1, drop_remainder=True)\n",
    "    \n",
    "    # Flatten the windows by putting its elements in a single batch\n",
    "    dataset = dataset.flat_map(lambda window: window.batch(window_size + 1))\n",
    "\n",
    "    # Create tuples with features and labels \n",
    "    dataset = dataset.map(lambda window: (window[:-1], window[-1]))\n",
    "\n",
    "    # Shuffle the windows\n",
    "    dataset = dataset.shuffle(shuffle_buffer)\n",
    "    \n",
    "    # Create batches of windows\n",
    "    dataset = dataset.batch(batch_size).prefetch(1)\n",
    "    \n",
    "    return dataset"
   ]
  },
  {
   "cell_type": "code",
   "execution_count": 8,
   "metadata": {
    "id": "9g5zSxZwZQt_"
   },
   "outputs": [
    {
     "name": "stdout",
     "output_type": "stream",
     "text": [
      "Metal device set to: Apple M1\n"
     ]
    },
    {
     "name": "stderr",
     "output_type": "stream",
     "text": [
      "2022-09-27 17:04:32.582510: I tensorflow/core/common_runtime/pluggable_device/pluggable_device_factory.cc:305] Could not identify NUMA node of platform GPU ID 0, defaulting to 0. Your kernel may not have been built with NUMA support.\n",
      "2022-09-27 17:04:32.582737: I tensorflow/core/common_runtime/pluggable_device/pluggable_device_factory.cc:271] Created TensorFlow device (/job:localhost/replica:0/task:0/device:GPU:0 with 0 MB memory) -> physical PluggableDevice (device: 0, name: METAL, pci bus id: <undefined>)\n"
     ]
    }
   ],
   "source": [
    "# Parameters\n",
    "window_size = 30\n",
    "batch_size = 32\n",
    "shuffle_buffer_size = 1000\n",
    "\n",
    "# Generate the dataset windows\n",
    "train_set = windowed_dataset(x_train, window_size, batch_size, shuffle_buffer_size)"
   ]
  },
  {
   "cell_type": "markdown",
   "metadata": {
    "id": "_Lhpi42ta5yP"
   },
   "source": [
    "## Build the Model\n",
    "\n",
    "The model will be 3-layer dense network as shown below."
   ]
  },
  {
   "cell_type": "code",
   "execution_count": 9,
   "metadata": {
    "id": "AclfYY3Mn6Ph"
   },
   "outputs": [
    {
     "name": "stdout",
     "output_type": "stream",
     "text": [
      "Model: \"sequential\"\n",
      "_________________________________________________________________\n",
      " Layer (type)                Output Shape              Param #   \n",
      "=================================================================\n",
      " dense (Dense)               (None, 30)                930       \n",
      "                                                                 \n",
      " dense_1 (Dense)             (None, 10)                310       \n",
      "                                                                 \n",
      " dense_2 (Dense)             (None, 1)                 11        \n",
      "                                                                 \n",
      "=================================================================\n",
      "Total params: 1,251\n",
      "Trainable params: 1,251\n",
      "Non-trainable params: 0\n",
      "_________________________________________________________________\n"
     ]
    }
   ],
   "source": [
    "# Build the model\n",
    "model = tf.keras.models.Sequential([\n",
    "    tf.keras.layers.Dense(30, input_shape=[window_size], activation=\"relu\"), \n",
    "    tf.keras.layers.Dense(10, activation=\"relu\"),\n",
    "    tf.keras.layers.Dense(1)\n",
    "])\n",
    "\n",
    "# Print the model summary\n",
    "model.summary()"
   ]
  },
  {
   "cell_type": "markdown",
   "metadata": {
    "id": "uyT14hQOa97V"
   },
   "source": [
    "## Tune the Learning Rate\n",
    "\n",
    "You can pick a learning rate by running the same learning rate scheduler code from previous labs."
   ]
  },
  {
   "cell_type": "code",
   "execution_count": 10,
   "metadata": {
    "id": "GXiqsZQ1y4nD"
   },
   "outputs": [
    {
     "name": "stdout",
     "output_type": "stream",
     "text": [
      "Epoch 1/100\n"
     ]
    },
    {
     "name": "stderr",
     "output_type": "stream",
     "text": [
      "2022-09-27 17:04:37.837860: W tensorflow/core/platform/profile_utils/cpu_utils.cc:128] Failed to get CPU frequency: 0 Hz\n",
      "2022-09-27 17:04:37.837921: I tensorflow/core/grappler/optimizers/custom_graph_optimizer_registry.cc:113] Plugin optimizer for device_type GPU is enabled.\n"
     ]
    },
    {
     "name": "stdout",
     "output_type": "stream",
     "text": [
      "93/93 [==============================] - 3s 8ms/step - loss: 37.3007 - lr: 1.0000e-08\n",
      "Epoch 2/100\n",
      "93/93 [==============================] - 0s 4ms/step - loss: 37.1257 - lr: 1.1220e-08\n",
      "Epoch 3/100\n",
      "93/93 [==============================] - 0s 4ms/step - loss: 36.9360 - lr: 1.2589e-08\n",
      "Epoch 4/100\n",
      "93/93 [==============================] - 0s 4ms/step - loss: 36.7321 - lr: 1.4125e-08\n",
      "Epoch 5/100\n",
      "93/93 [==============================] - 0s 4ms/step - loss: 36.5150 - lr: 1.5849e-08\n",
      "Epoch 6/100\n",
      "93/93 [==============================] - 0s 4ms/step - loss: 36.2871 - lr: 1.7783e-08\n",
      "Epoch 7/100\n",
      "93/93 [==============================] - 0s 4ms/step - loss: 36.0521 - lr: 1.9953e-08\n",
      "Epoch 8/100\n",
      "93/93 [==============================] - 0s 4ms/step - loss: 35.8088 - lr: 2.2387e-08\n",
      "Epoch 9/100\n",
      "93/93 [==============================] - 0s 4ms/step - loss: 35.5591 - lr: 2.5119e-08\n",
      "Epoch 10/100\n",
      "93/93 [==============================] - 0s 4ms/step - loss: 35.3026 - lr: 2.8184e-08\n",
      "Epoch 11/100\n",
      "93/93 [==============================] - 0s 4ms/step - loss: 35.0360 - lr: 3.1623e-08\n",
      "Epoch 12/100\n",
      "93/93 [==============================] - 0s 4ms/step - loss: 34.7582 - lr: 3.5481e-08\n",
      "Epoch 13/100\n",
      "93/93 [==============================] - 0s 4ms/step - loss: 34.4630 - lr: 3.9811e-08\n",
      "Epoch 14/100\n",
      "93/93 [==============================] - 0s 4ms/step - loss: 34.1453 - lr: 4.4668e-08\n",
      "Epoch 15/100\n",
      "93/93 [==============================] - 0s 4ms/step - loss: 33.7997 - lr: 5.0119e-08\n",
      "Epoch 16/100\n",
      "93/93 [==============================] - 0s 4ms/step - loss: 33.4213 - lr: 5.6234e-08\n",
      "Epoch 17/100\n",
      "93/93 [==============================] - 0s 4ms/step - loss: 33.0039 - lr: 6.3096e-08\n",
      "Epoch 18/100\n",
      "93/93 [==============================] - 0s 4ms/step - loss: 32.5507 - lr: 7.0795e-08\n",
      "Epoch 19/100\n",
      "93/93 [==============================] - 0s 4ms/step - loss: 32.0557 - lr: 7.9433e-08\n",
      "Epoch 20/100\n",
      "93/93 [==============================] - 0s 4ms/step - loss: 31.5313 - lr: 8.9125e-08\n",
      "Epoch 21/100\n",
      "93/93 [==============================] - 0s 4ms/step - loss: 30.9594 - lr: 1.0000e-07\n",
      "Epoch 22/100\n",
      "93/93 [==============================] - 0s 4ms/step - loss: 30.3436 - lr: 1.1220e-07\n",
      "Epoch 23/100\n",
      "93/93 [==============================] - 0s 4ms/step - loss: 29.6948 - lr: 1.2589e-07\n",
      "Epoch 24/100\n",
      "93/93 [==============================] - 0s 4ms/step - loss: 29.0227 - lr: 1.4125e-07\n",
      "Epoch 25/100\n",
      "93/93 [==============================] - 0s 4ms/step - loss: 28.3269 - lr: 1.5849e-07\n",
      "Epoch 26/100\n",
      "93/93 [==============================] - 0s 4ms/step - loss: 27.6155 - lr: 1.7783e-07\n",
      "Epoch 27/100\n",
      "93/93 [==============================] - 0s 4ms/step - loss: 26.9175 - lr: 1.9953e-07\n",
      "Epoch 28/100\n",
      "93/93 [==============================] - 0s 4ms/step - loss: 26.2206 - lr: 2.2387e-07\n",
      "Epoch 29/100\n",
      "93/93 [==============================] - 0s 4ms/step - loss: 25.5531 - lr: 2.5119e-07\n",
      "Epoch 30/100\n",
      "93/93 [==============================] - 0s 4ms/step - loss: 24.9295 - lr: 2.8184e-07\n",
      "Epoch 31/100\n",
      "93/93 [==============================] - 0s 4ms/step - loss: 24.3325 - lr: 3.1623e-07\n",
      "Epoch 32/100\n",
      "93/93 [==============================] - 0s 4ms/step - loss: 23.7892 - lr: 3.5481e-07\n",
      "Epoch 33/100\n",
      "93/93 [==============================] - 0s 4ms/step - loss: 23.3318 - lr: 3.9811e-07\n",
      "Epoch 34/100\n",
      "93/93 [==============================] - 0s 4ms/step - loss: 22.9511 - lr: 4.4668e-07\n",
      "Epoch 35/100\n",
      "93/93 [==============================] - 0s 4ms/step - loss: 22.6490 - lr: 5.0119e-07\n",
      "Epoch 36/100\n",
      "93/93 [==============================] - 0s 4ms/step - loss: 22.4131 - lr: 5.6234e-07\n",
      "Epoch 37/100\n",
      "93/93 [==============================] - 0s 4ms/step - loss: 22.1737 - lr: 6.3096e-07\n",
      "Epoch 38/100\n",
      "93/93 [==============================] - 0s 4ms/step - loss: 21.9919 - lr: 7.0795e-07\n",
      "Epoch 39/100\n",
      "93/93 [==============================] - 0s 4ms/step - loss: 21.7822 - lr: 7.9433e-07\n",
      "Epoch 40/100\n",
      "93/93 [==============================] - 0s 4ms/step - loss: 21.6202 - lr: 8.9125e-07\n",
      "Epoch 41/100\n",
      "93/93 [==============================] - 0s 4ms/step - loss: 21.4424 - lr: 1.0000e-06\n",
      "Epoch 42/100\n",
      "93/93 [==============================] - 0s 4ms/step - loss: 21.2881 - lr: 1.1220e-06\n",
      "Epoch 43/100\n",
      "93/93 [==============================] - 0s 4ms/step - loss: 21.1316 - lr: 1.2589e-06\n",
      "Epoch 44/100\n",
      "93/93 [==============================] - 0s 4ms/step - loss: 20.9481 - lr: 1.4125e-06\n",
      "Epoch 45/100\n",
      "93/93 [==============================] - 0s 4ms/step - loss: 20.7930 - lr: 1.5849e-06\n",
      "Epoch 46/100\n",
      "93/93 [==============================] - 0s 4ms/step - loss: 20.6161 - lr: 1.7783e-06\n",
      "Epoch 47/100\n",
      "93/93 [==============================] - 0s 4ms/step - loss: 20.4285 - lr: 1.9953e-06\n",
      "Epoch 48/100\n",
      "93/93 [==============================] - 0s 4ms/step - loss: 20.2581 - lr: 2.2387e-06\n",
      "Epoch 49/100\n",
      "93/93 [==============================] - 0s 4ms/step - loss: 20.0521 - lr: 2.5119e-06\n",
      "Epoch 50/100\n",
      "93/93 [==============================] - 0s 4ms/step - loss: 19.8253 - lr: 2.8184e-06\n",
      "Epoch 51/100\n",
      "93/93 [==============================] - 0s 4ms/step - loss: 19.6707 - lr: 3.1623e-06\n",
      "Epoch 52/100\n",
      "93/93 [==============================] - 0s 4ms/step - loss: 19.5411 - lr: 3.5481e-06\n",
      "Epoch 53/100\n",
      "93/93 [==============================] - 0s 4ms/step - loss: 19.2600 - lr: 3.9811e-06\n",
      "Epoch 54/100\n",
      "93/93 [==============================] - 0s 4ms/step - loss: 19.0971 - lr: 4.4668e-06\n",
      "Epoch 55/100\n",
      "93/93 [==============================] - 0s 4ms/step - loss: 18.9096 - lr: 5.0119e-06\n",
      "Epoch 56/100\n",
      "93/93 [==============================] - 0s 4ms/step - loss: 18.8709 - lr: 5.6234e-06\n",
      "Epoch 57/100\n",
      "93/93 [==============================] - 0s 4ms/step - loss: 18.6288 - lr: 6.3096e-06\n",
      "Epoch 58/100\n",
      "93/93 [==============================] - 0s 4ms/step - loss: 18.5420 - lr: 7.0795e-06\n",
      "Epoch 59/100\n",
      "93/93 [==============================] - 0s 4ms/step - loss: 18.4623 - lr: 7.9433e-06\n",
      "Epoch 60/100\n",
      "93/93 [==============================] - 0s 4ms/step - loss: 18.6009 - lr: 8.9125e-06\n",
      "Epoch 61/100\n",
      "93/93 [==============================] - 0s 4ms/step - loss: 18.1481 - lr: 1.0000e-05\n",
      "Epoch 62/100\n",
      "93/93 [==============================] - 0s 4ms/step - loss: 18.1078 - lr: 1.1220e-05\n",
      "Epoch 63/100\n",
      "93/93 [==============================] - 0s 4ms/step - loss: 18.1567 - lr: 1.2589e-05\n",
      "Epoch 64/100\n",
      "93/93 [==============================] - 0s 4ms/step - loss: 17.8600 - lr: 1.4125e-05\n",
      "Epoch 65/100\n",
      "93/93 [==============================] - 0s 4ms/step - loss: 18.0545 - lr: 1.5849e-05\n",
      "Epoch 66/100\n",
      "93/93 [==============================] - 0s 4ms/step - loss: 17.9095 - lr: 1.7783e-05\n",
      "Epoch 67/100\n",
      "93/93 [==============================] - 0s 4ms/step - loss: 17.8998 - lr: 1.9953e-05\n",
      "Epoch 68/100\n",
      "93/93 [==============================] - 0s 4ms/step - loss: 17.7505 - lr: 2.2387e-05\n",
      "Epoch 69/100\n",
      "93/93 [==============================] - 0s 4ms/step - loss: 18.0226 - lr: 2.5119e-05\n",
      "Epoch 70/100\n",
      "93/93 [==============================] - 0s 5ms/step - loss: 17.8187 - lr: 2.8184e-05\n",
      "Epoch 71/100\n",
      "93/93 [==============================] - 1s 5ms/step - loss: 17.3580 - lr: 3.1623e-05\n",
      "Epoch 72/100\n",
      "93/93 [==============================] - 1s 5ms/step - loss: 17.5623 - lr: 3.5481e-05\n",
      "Epoch 73/100\n",
      "93/93 [==============================] - 1s 5ms/step - loss: 17.6485 - lr: 3.9811e-05\n",
      "Epoch 74/100\n",
      "93/93 [==============================] - 1s 6ms/step - loss: 17.8090 - lr: 4.4668e-05\n",
      "Epoch 75/100\n",
      "93/93 [==============================] - 0s 4ms/step - loss: 17.7333 - lr: 5.0119e-05\n",
      "Epoch 76/100\n",
      "93/93 [==============================] - 0s 4ms/step - loss: 18.3724 - lr: 5.6234e-05\n",
      "Epoch 77/100\n",
      "93/93 [==============================] - 0s 4ms/step - loss: 17.8541 - lr: 6.3096e-05\n",
      "Epoch 78/100\n",
      "93/93 [==============================] - 0s 4ms/step - loss: 17.5416 - lr: 7.0795e-05\n",
      "Epoch 79/100\n",
      "93/93 [==============================] - 0s 4ms/step - loss: 18.6339 - lr: 7.9433e-05\n",
      "Epoch 80/100\n",
      "93/93 [==============================] - 0s 4ms/step - loss: 17.6542 - lr: 8.9125e-05\n",
      "Epoch 81/100\n",
      "93/93 [==============================] - 0s 4ms/step - loss: 18.1312 - lr: 1.0000e-04\n",
      "Epoch 82/100\n",
      "93/93 [==============================] - 0s 4ms/step - loss: 17.8890 - lr: 1.1220e-04\n",
      "Epoch 83/100\n",
      "93/93 [==============================] - 0s 4ms/step - loss: 18.3025 - lr: 1.2589e-04\n",
      "Epoch 84/100\n",
      "93/93 [==============================] - 0s 4ms/step - loss: 18.2456 - lr: 1.4125e-04\n",
      "Epoch 85/100\n",
      "93/93 [==============================] - 0s 4ms/step - loss: 17.6766 - lr: 1.5849e-04\n",
      "Epoch 86/100\n",
      "93/93 [==============================] - 0s 4ms/step - loss: 18.2588 - lr: 1.7783e-04\n",
      "Epoch 87/100\n",
      "93/93 [==============================] - 0s 4ms/step - loss: 18.9556 - lr: 1.9953e-04\n",
      "Epoch 88/100\n",
      "93/93 [==============================] - 0s 4ms/step - loss: 19.3664 - lr: 2.2387e-04\n",
      "Epoch 89/100\n",
      "93/93 [==============================] - 0s 4ms/step - loss: 18.7876 - lr: 2.5119e-04\n",
      "Epoch 90/100\n",
      "93/93 [==============================] - 0s 4ms/step - loss: 20.6843 - lr: 2.8184e-04\n",
      "Epoch 91/100\n",
      "93/93 [==============================] - 0s 4ms/step - loss: 20.7771 - lr: 3.1623e-04\n",
      "Epoch 92/100\n",
      "93/93 [==============================] - 0s 4ms/step - loss: 23.0308 - lr: 3.5481e-04\n",
      "Epoch 93/100\n",
      "93/93 [==============================] - 0s 4ms/step - loss: 19.6937 - lr: 3.9811e-04\n",
      "Epoch 94/100\n",
      "93/93 [==============================] - 0s 4ms/step - loss: 23.8455 - lr: 4.4668e-04\n",
      "Epoch 95/100\n",
      "93/93 [==============================] - 0s 4ms/step - loss: 19.7122 - lr: 5.0119e-04\n",
      "Epoch 96/100\n",
      "93/93 [==============================] - 0s 4ms/step - loss: 20.6856 - lr: 5.6234e-04\n",
      "Epoch 97/100\n",
      "93/93 [==============================] - 0s 4ms/step - loss: 20.9896 - lr: 6.3096e-04\n",
      "Epoch 98/100\n",
      "93/93 [==============================] - 0s 4ms/step - loss: 24.6583 - lr: 7.0795e-04\n",
      "Epoch 99/100\n",
      "93/93 [==============================] - 0s 4ms/step - loss: 25.4389 - lr: 7.9433e-04\n",
      "Epoch 100/100\n",
      "93/93 [==============================] - 0s 4ms/step - loss: 26.9646 - lr: 8.9125e-04\n"
     ]
    }
   ],
   "source": [
    "# Set the learning rate scheduler\n",
    "lr_schedule = tf.keras.callbacks.LearningRateScheduler(\n",
    "    lambda epoch: 1e-8 * 10**(epoch / 20))\n",
    "\n",
    "# Initialize the optimizer\n",
    "optimizer = tf.keras.optimizers.SGD(momentum=0.9)\n",
    "\n",
    "# Set the training parameters\n",
    "model.compile(loss=tf.keras.losses.Huber(), optimizer=optimizer)\n",
    "\n",
    "# Train the model\n",
    "history = model.fit(train_set, epochs=100, callbacks=[lr_schedule])"
   ]
  },
  {
   "cell_type": "code",
   "execution_count": 12,
   "metadata": {
    "id": "xJFAB1NTzGJV"
   },
   "outputs": [
    {
     "data": {
      "text/plain": [
       "(1e-08, 0.001, 0.0, 100.0)"
      ]
     },
     "execution_count": 12,
     "metadata": {},
     "output_type": "execute_result"
    },
    {
     "data": {
      "image/png": "[encoded data removed]",
      "text/plain": [
       "<Figure size 720x432 with 1 Axes>"
      ]
     },
     "metadata": {
      "needs_background": "light"
     },
     "output_type": "display_data"
    }
   ],
   "source": [
    "# Define the learning rate array\n",
    "lrs = 1e-8 * (10 ** (np.arange(100) / 20))\n",
    "\n",
    "# Set the figure size\n",
    "plt.figure(figsize=(10, 6))\n",
    "\n",
    "# Set the grid\n",
    "plt.grid(True)\n",
    "\n",
    "# Plot the loss in log scale\n",
    "plt.semilogx(lrs, history.history[\"loss\"])\n",
    "\n",
    "# Increase the tickmarks size\n",
    "plt.tick_params('both', length=10, width=1, which='both')\n",
    "\n",
    "# Set the plot boundaries\n",
    "plt.axis([1e-8, 1e-3, 0, 100])"
   ]
  },
  {
   "cell_type": "markdown",
   "metadata": {
    "id": "oY4mnUpNbFdc"
   },
   "source": [
    "## Train the Model\n",
    "\n",
    "Once you've picked a learning rate, you can rebuild the model and start training."
   ]
  },
  {
   "cell_type": "code",
   "execution_count": 13,
   "metadata": {
    "id": "Ngna3zR4znJd"
   },
   "outputs": [],
   "source": [
    "# Reset states generated by Keras\n",
    "tf.keras.backend.clear_session()\n",
    "\n",
    "# Build the Model\n",
    "model = tf.keras.models.Sequential([\n",
    "    tf.keras.layers.Dense(30, input_shape=[window_size], activation=\"relu\"), \n",
    "    tf.keras.layers.Dense(10, activation=\"relu\"),\n",
    "    tf.keras.layers.Dense(1)\n",
    "])"
   ]
  },
  {
   "cell_type": "code",
   "execution_count": 14,
   "metadata": {
    "id": "7FKXvEYxzuoc"
   },
   "outputs": [
    {
     "name": "stdout",
     "output_type": "stream",
     "text": [
      "Epoch 1/100\n",
      "     23/Unknown - 0s 5ms/step - loss: 115.2859 - mae: 115.7854"
     ]
    },
    {
     "name": "stderr",
     "output_type": "stream",
     "text": [
      "2022-09-27 17:06:37.745456: I tensorflow/core/grappler/optimizers/custom_graph_optimizer_registry.cc:113] Plugin optimizer for device_type GPU is enabled.\n"
     ]
    },
    {
     "name": "stdout",
     "output_type": "stream",
     "text": [
      "93/93 [==============================] - 1s 5ms/step - loss: 62.2831 - mae: 62.7791\n",
      "Epoch 2/100\n",
      "93/93 [==============================] - 0s 4ms/step - loss: 22.2943 - mae: 22.7880\n",
      "Epoch 3/100\n",
      "93/93 [==============================] - 0s 4ms/step - loss: 20.2103 - mae: 20.7020\n",
      "Epoch 4/100\n",
      "93/93 [==============================] - 0s 4ms/step - loss: 19.1742 - mae: 19.6667\n",
      "Epoch 5/100\n",
      "93/93 [==============================] - 0s 4ms/step - loss: 18.7812 - mae: 19.2722\n",
      "Epoch 6/100\n",
      "93/93 [==============================] - 0s 4ms/step - loss: 18.7080 - mae: 19.1983\n",
      "Epoch 7/100\n",
      "93/93 [==============================] - 0s 4ms/step - loss: 18.1884 - mae: 18.6798\n",
      "Epoch 8/100\n",
      "93/93 [==============================] - 0s 5ms/step - loss: 17.9284 - mae: 18.4203\n",
      "Epoch 9/100\n",
      "93/93 [==============================] - 0s 5ms/step - loss: 17.8893 - mae: 18.3819\n",
      "Epoch 10/100\n",
      "93/93 [==============================] - 0s 5ms/step - loss: 17.7991 - mae: 18.2904\n",
      "Epoch 11/100\n",
      "93/93 [==============================] - 0s 4ms/step - loss: 17.8614 - mae: 18.3531\n",
      "Epoch 12/100\n",
      "93/93 [==============================] - 0s 4ms/step - loss: 17.5184 - mae: 18.0089\n",
      "Epoch 13/100\n",
      "93/93 [==============================] - 0s 4ms/step - loss: 17.4751 - mae: 17.9665\n",
      "Epoch 14/100\n",
      "93/93 [==============================] - 0s 4ms/step - loss: 17.5816 - mae: 18.0723\n",
      "Epoch 15/100\n",
      "93/93 [==============================] - 0s 4ms/step - loss: 17.3506 - mae: 17.8433\n",
      "Epoch 16/100\n",
      "93/93 [==============================] - 0s 4ms/step - loss: 17.3791 - mae: 17.8718\n",
      "Epoch 17/100\n",
      "93/93 [==============================] - 0s 4ms/step - loss: 17.4552 - mae: 17.9458\n",
      "Epoch 18/100\n",
      "93/93 [==============================] - 0s 4ms/step - loss: 17.1416 - mae: 17.6318\n",
      "Epoch 19/100\n",
      "93/93 [==============================] - 0s 4ms/step - loss: 17.6235 - mae: 18.1166\n",
      "Epoch 20/100\n",
      "93/93 [==============================] - 0s 4ms/step - loss: 17.0981 - mae: 17.5899\n",
      "Epoch 21/100\n",
      "93/93 [==============================] - 0s 4ms/step - loss: 17.2438 - mae: 17.7356\n",
      "Epoch 22/100\n",
      "93/93 [==============================] - 0s 5ms/step - loss: 17.1490 - mae: 17.6411\n",
      "Epoch 23/100\n",
      "93/93 [==============================] - 0s 4ms/step - loss: 17.1099 - mae: 17.6014\n",
      "Epoch 24/100\n",
      "93/93 [==============================] - 0s 4ms/step - loss: 16.9879 - mae: 17.4798\n",
      "Epoch 25/100\n",
      "93/93 [==============================] - 0s 4ms/step - loss: 17.0715 - mae: 17.5621\n",
      "Epoch 26/100\n",
      "93/93 [==============================] - 0s 4ms/step - loss: 17.1301 - mae: 17.6227\n",
      "Epoch 27/100\n",
      "93/93 [==============================] - 0s 5ms/step - loss: 17.0697 - mae: 17.5603\n",
      "Epoch 28/100\n",
      "93/93 [==============================] - 0s 4ms/step - loss: 17.0361 - mae: 17.5270\n",
      "Epoch 29/100\n",
      "93/93 [==============================] - 0s 4ms/step - loss: 17.0703 - mae: 17.5599\n",
      "Epoch 30/100\n",
      "93/93 [==============================] - 0s 5ms/step - loss: 17.2100 - mae: 17.7009\n",
      "Epoch 31/100\n",
      "93/93 [==============================] - 0s 4ms/step - loss: 17.1461 - mae: 17.6377\n",
      "Epoch 32/100\n",
      "93/93 [==============================] - 0s 4ms/step - loss: 17.2452 - mae: 17.7375\n",
      "Epoch 33/100\n",
      "93/93 [==============================] - 0s 4ms/step - loss: 16.9635 - mae: 17.4553\n",
      "Epoch 34/100\n",
      "93/93 [==============================] - 0s 4ms/step - loss: 17.0683 - mae: 17.5579\n",
      "Epoch 35/100\n",
      "93/93 [==============================] - 0s 4ms/step - loss: 16.8644 - mae: 17.3545\n",
      "Epoch 36/100\n",
      "93/93 [==============================] - 0s 4ms/step - loss: 16.8100 - mae: 17.3003\n",
      "Epoch 37/100\n",
      "93/93 [==============================] - 0s 4ms/step - loss: 16.8544 - mae: 17.3454\n",
      "Epoch 38/100\n",
      "93/93 [==============================] - 0s 4ms/step - loss: 17.1033 - mae: 17.5941\n",
      "Epoch 39/100\n",
      "93/93 [==============================] - 0s 5ms/step - loss: 16.8615 - mae: 17.3528\n",
      "Epoch 40/100\n",
      "93/93 [==============================] - 0s 4ms/step - loss: 16.9865 - mae: 17.4779\n",
      "Epoch 41/100\n",
      "93/93 [==============================] - 0s 5ms/step - loss: 16.8270 - mae: 17.3171\n",
      "Epoch 42/100\n",
      "93/93 [==============================] - 0s 4ms/step - loss: 16.8182 - mae: 17.3088\n",
      "Epoch 43/100\n",
      "93/93 [==============================] - 0s 4ms/step - loss: 16.8333 - mae: 17.3227\n",
      "Epoch 44/100\n",
      "93/93 [==============================] - 0s 4ms/step - loss: 16.7562 - mae: 17.2460\n",
      "Epoch 45/100\n",
      "93/93 [==============================] - 0s 4ms/step - loss: 16.9222 - mae: 17.4132\n",
      "Epoch 46/100\n",
      "93/93 [==============================] - 0s 4ms/step - loss: 16.8795 - mae: 17.3721\n",
      "Epoch 47/100\n",
      "93/93 [==============================] - 0s 4ms/step - loss: 16.8498 - mae: 17.3416\n",
      "Epoch 48/100\n",
      "93/93 [==============================] - 0s 4ms/step - loss: 16.8653 - mae: 17.3545\n",
      "Epoch 49/100\n",
      "93/93 [==============================] - 0s 5ms/step - loss: 16.8019 - mae: 17.2925\n",
      "Epoch 50/100\n",
      "93/93 [==============================] - 0s 4ms/step - loss: 16.8239 - mae: 17.3134\n",
      "Epoch 51/100\n",
      "93/93 [==============================] - 0s 4ms/step - loss: 16.7695 - mae: 17.2603\n",
      "Epoch 52/100\n",
      "93/93 [==============================] - 0s 4ms/step - loss: 16.7013 - mae: 17.1915\n",
      "Epoch 53/100\n",
      "93/93 [==============================] - 0s 4ms/step - loss: 16.7041 - mae: 17.1933\n",
      "Epoch 54/100\n",
      "93/93 [==============================] - 0s 5ms/step - loss: 16.8710 - mae: 17.3624\n",
      "Epoch 55/100\n",
      "93/93 [==============================] - 0s 4ms/step - loss: 16.6465 - mae: 17.1365\n",
      "Epoch 56/100\n",
      "93/93 [==============================] - 0s 4ms/step - loss: 16.7050 - mae: 17.1961\n",
      "Epoch 57/100\n",
      "93/93 [==============================] - 0s 4ms/step - loss: 16.7468 - mae: 17.2364\n",
      "Epoch 58/100\n",
      "93/93 [==============================] - 0s 4ms/step - loss: 16.6993 - mae: 17.1906\n",
      "Epoch 59/100\n",
      "93/93 [==============================] - 0s 4ms/step - loss: 16.7069 - mae: 17.1965\n",
      "Epoch 60/100\n",
      "93/93 [==============================] - 0s 4ms/step - loss: 16.6646 - mae: 17.1552\n",
      "Epoch 61/100\n",
      "93/93 [==============================] - 0s 5ms/step - loss: 16.9276 - mae: 17.4187\n",
      "Epoch 62/100\n",
      "93/93 [==============================] - 0s 4ms/step - loss: 16.8521 - mae: 17.3422\n",
      "Epoch 63/100\n",
      "93/93 [==============================] - 0s 4ms/step - loss: 16.6620 - mae: 17.1518\n",
      "Epoch 64/100\n",
      "93/93 [==============================] - 0s 4ms/step - loss: 16.8410 - mae: 17.3321\n",
      "Epoch 65/100\n",
      "93/93 [==============================] - 0s 4ms/step - loss: 16.8089 - mae: 17.2987\n",
      "Epoch 66/100\n",
      "93/93 [==============================] - 0s 5ms/step - loss: 16.6849 - mae: 17.1740\n",
      "Epoch 67/100\n",
      "93/93 [==============================] - 0s 4ms/step - loss: 16.8096 - mae: 17.3016\n",
      "Epoch 68/100\n",
      "93/93 [==============================] - 0s 4ms/step - loss: 16.7252 - mae: 17.2166\n",
      "Epoch 69/100\n",
      "93/93 [==============================] - 0s 4ms/step - loss: 16.6712 - mae: 17.1617\n",
      "Epoch 70/100\n",
      "93/93 [==============================] - 0s 4ms/step - loss: 16.7217 - mae: 17.2124\n",
      "Epoch 71/100\n",
      "93/93 [==============================] - 0s 4ms/step - loss: 16.7074 - mae: 17.1962\n",
      "Epoch 72/100\n",
      "93/93 [==============================] - 0s 5ms/step - loss: 16.6855 - mae: 17.1737\n",
      "Epoch 73/100\n",
      "93/93 [==============================] - 0s 4ms/step - loss: 16.6126 - mae: 17.1017\n",
      "Epoch 74/100\n",
      "93/93 [==============================] - 0s 4ms/step - loss: 16.6359 - mae: 17.1256\n",
      "Epoch 75/100\n",
      "93/93 [==============================] - 0s 4ms/step - loss: 16.6834 - mae: 17.1732\n",
      "Epoch 76/100\n",
      "93/93 [==============================] - 0s 5ms/step - loss: 16.8734 - mae: 17.3640\n",
      "Epoch 77/100\n",
      "93/93 [==============================] - 0s 5ms/step - loss: 16.8938 - mae: 17.3831\n",
      "Epoch 78/100\n",
      "93/93 [==============================] - 0s 4ms/step - loss: 17.0526 - mae: 17.5427\n",
      "Epoch 79/100\n",
      "93/93 [==============================] - 0s 4ms/step - loss: 16.6223 - mae: 17.1130\n",
      "Epoch 80/100\n",
      "93/93 [==============================] - 0s 4ms/step - loss: 16.7722 - mae: 17.2626\n",
      "Epoch 81/100\n",
      "93/93 [==============================] - 0s 4ms/step - loss: 16.7242 - mae: 17.2143\n",
      "Epoch 82/100\n",
      "93/93 [==============================] - 0s 4ms/step - loss: 16.6196 - mae: 17.1100\n",
      "Epoch 83/100\n",
      "93/93 [==============================] - 0s 4ms/step - loss: 16.7273 - mae: 17.2165\n",
      "Epoch 84/100\n",
      "93/93 [==============================] - 0s 4ms/step - loss: 16.6724 - mae: 17.1611\n",
      "Epoch 85/100\n",
      "93/93 [==============================] - 0s 4ms/step - loss: 16.5835 - mae: 17.0736\n",
      "Epoch 86/100\n",
      "93/93 [==============================] - 0s 4ms/step - loss: 16.5968 - mae: 17.0863\n",
      "Epoch 87/100\n",
      "93/93 [==============================] - 0s 5ms/step - loss: 16.5469 - mae: 17.0369\n",
      "Epoch 88/100\n",
      "93/93 [==============================] - 0s 4ms/step - loss: 16.6495 - mae: 17.1394\n",
      "Epoch 89/100\n",
      "93/93 [==============================] - 0s 5ms/step - loss: 16.5778 - mae: 17.0662\n",
      "Epoch 90/100\n",
      "93/93 [==============================] - 0s 5ms/step - loss: 16.6236 - mae: 17.1124\n",
      "Epoch 91/100\n",
      "93/93 [==============================] - 0s 4ms/step - loss: 16.5559 - mae: 17.0447\n",
      "Epoch 92/100\n",
      "93/93 [==============================] - 0s 4ms/step - loss: 16.4405 - mae: 16.9303\n",
      "Epoch 93/100\n",
      "93/93 [==============================] - 0s 4ms/step - loss: 16.6855 - mae: 17.1766\n",
      "Epoch 94/100\n",
      "93/93 [==============================] - 0s 4ms/step - loss: 16.8198 - mae: 17.3101\n",
      "Epoch 95/100\n",
      "93/93 [==============================] - 0s 4ms/step - loss: 16.5923 - mae: 17.0837\n",
      "Epoch 96/100\n",
      "93/93 [==============================] - 0s 5ms/step - loss: 16.5781 - mae: 17.0682\n",
      "Epoch 97/100\n",
      "93/93 [==============================] - 0s 4ms/step - loss: 16.4820 - mae: 16.9717\n",
      "Epoch 98/100\n",
      "93/93 [==============================] - 0s 4ms/step - loss: 16.5662 - mae: 17.0556\n",
      "Epoch 99/100\n",
      "93/93 [==============================] - 0s 4ms/step - loss: 16.5537 - mae: 17.0438\n",
      "Epoch 100/100\n",
      "93/93 [==============================] - 0s 5ms/step - loss: 16.6420 - mae: 17.1320\n"
     ]
    }
   ],
   "source": [
    "# Set the learning rate\n",
    "learning_rate = 2e-5\n",
    "\n",
    "# Set the optimizer \n",
    "optimizer = tf.keras.optimizers.SGD(learning_rate=learning_rate, momentum=0.9)\n",
    "\n",
    "# Set the training parameters\n",
    "model.compile(loss=tf.keras.losses.Huber(),\n",
    "              optimizer=optimizer,\n",
    "              metrics=[\"mae\"])\n",
    "\n",
    "# Train the model\n",
    "history = model.fit(train_set,epochs=100)"
   ]
  },
  {
   "cell_type": "markdown",
   "metadata": {
    "id": "b1iV2t8ibIka"
   },
   "source": [
    "## Model Prediction\n",
    "\n",
    "Now see if the model generates good results. If you used the default parameters of this notebook, you should see the predictions follow the shape of the ground truth with an MAE of around 15. "
   ]
  },
  {
   "cell_type": "code",
   "execution_count": 15,
   "metadata": {
    "id": "djn06Tri2B6_"
   },
   "outputs": [],
   "source": [
    "def model_forecast(model, series, window_size, batch_size):\n",
    "    \"\"\"Uses an input model to generate predictions on data windows\n",
    "\n",
    "    Args:\n",
    "      model (TF Keras Model) - model that accepts data windows\n",
    "      series (array of float) - contains the values of the time series\n",
    "      window_size (int) - the number of time steps to include in the window\n",
    "      batch_size (int) - the batch size\n",
    "\n",
    "    Returns:\n",
    "      forecast (numpy array) - array containing predictions\n",
    "    \"\"\"\n",
    "\n",
    "    # Generate a TF Dataset from the series values\n",
    "    dataset = tf.data.Dataset.from_tensor_slices(series)\n",
    "\n",
    "    # Window the data but only take those with the specified size\n",
    "    dataset = dataset.window(window_size, shift=1, drop_remainder=True)\n",
    "\n",
    "    # Flatten the windows by putting its elements in a single batch\n",
    "    dataset = dataset.flat_map(lambda w: w.batch(window_size))\n",
    "    \n",
    "    # Create batches of windows\n",
    "    dataset = dataset.batch(batch_size).prefetch(1)\n",
    "    \n",
    "    # Get predictions on the entire dataset\n",
    "    forecast = model.predict(dataset)\n",
    "    \n",
    "    return forecast"
   ]
  },
  {
   "cell_type": "code",
   "execution_count": 16,
   "metadata": {
    "id": "GaC6NNMRp0lb"
   },
   "outputs": [
    {
     "name": "stderr",
     "output_type": "stream",
     "text": [
      "2022-09-27 17:08:35.455512: I tensorflow/core/grappler/optimizers/custom_graph_optimizer_registry.cc:113] Plugin optimizer for device_type GPU is enabled.\n"
     ]
    },
    {
     "data": {
      "image/png": "[encoded data removed]",
      "text/plain": [
       "<Figure size 720x432 with 1 Axes>"
      ]
     },
     "metadata": {
      "needs_background": "light"
     },
     "output_type": "display_data"
    }
   ],
   "source": [
    "# Reduce the original series\n",
    "forecast_series = series[split_time-window_size:-1]\n",
    "\n",
    "# Use helper function to generate predictions\n",
    "forecast = model_forecast(model, forecast_series, window_size, batch_size)\n",
    "\n",
    "# Drop single dimensional axis\n",
    "results = forecast.squeeze()\n",
    "\n",
    "# Plot the results\n",
    "plot_series(time_valid, (x_valid, results))"
   ]
  },
  {
   "cell_type": "code",
   "execution_count": 17,
   "metadata": {
    "id": "13XrorC5wQoE"
   },
   "outputs": [
    {
     "name": "stdout",
     "output_type": "stream",
     "text": [
      "14.477024\n"
     ]
    }
   ],
   "source": [
    "# Compute the MAE\n",
    "print(tf.keras.metrics.mean_absolute_error(x_valid, results).numpy())"
   ]
  },
  {
   "cell_type": "markdown",
   "metadata": {
    "id": "YqMGN9S5veN2"
   },
   "source": [
    "## Wrap Up\n",
    "\n",
    "In this lab, you built a relatively simple DNN to forecast sunspot numbers for a given month. We encourage you to tweak the parameters or train longer and see the best results you can get. In the next lab, you will build a more complex model and you evaluate if the added complexity translates to better or worse results."
   ]
  }
 ],
 "metadata": {
  "colab": {
   "collapsed_sections": [],
   "name": "C4_W4_Lab_2_Sunspots_DNN.ipynb",
   "private_outputs": true,
   "provenance": [
    {
     "file_id": "https://github.com/https-deeplearning-ai/tensorflow-1-public/blob/adding_C4/C4/W4/ungraded_labs/C4_W4_Lab_3_DNN_only.ipynb",
     "timestamp": 1641292790865
    }
   ]
  },
  "kernelspec": {
   "display_name": "Python 3 (ipykernel)",
   "language": "python",
   "name": "python3"
  },
  "language_info": {
   "codemirror_mode": {
    "name": "ipython",
    "version": 3
   },
   "file_extension": ".py",
   "mimetype": "text/x-python",
   "name": "python",
   "nbconvert_exporter": "python",
   "pygments_lexer": "ipython3",
   "version": "3.9.13"
  }
 },
 "nbformat": 4,
 "nbformat_minor": 4
}
