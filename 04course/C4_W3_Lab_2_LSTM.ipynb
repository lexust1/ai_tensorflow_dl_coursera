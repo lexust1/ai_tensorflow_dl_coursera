{
 "cells": [
  {
   "cell_type": "markdown",
   "metadata": {},
   "source": [
    "<a href=\"https://colab.research.google.com/github/https-deeplearning-ai/tensorflow-1-public/blob/main/C4/W3/ungraded_labs/C4_W3_Lab_2_LSTM.ipynb\" target=\"_parent\"><img src=\"https://colab.research.google.com/assets/colab-badge.svg\" alt=\"Open In Colab\"/></a>"
   ]
  },
  {
   "cell_type": "markdown",
   "metadata": {
    "id": "sV_nvXSQGJPK"
   },
   "source": [
    "# Ungraded Lab: Using a multi-layer LSTM for forecasting\n",
    "\n",
    "In this lab, you will use the same RNN architecure in the first lab but will instead stack [LSTM](https://www.tensorflow.org/api_docs/python/tf/keras/layers/LSTM) layers instead of `SimpleRNN`."
   ]
  },
  {
   "cell_type": "code",
   "execution_count": 1,
   "metadata": {},
   "outputs": [
    {
     "name": "stdout",
     "output_type": "stream",
     "text": [
      "The operation couldn’t be completed. Unable to locate a Java Runtime that supports apt.\n",
      "Please visit http://www.java.com for information on installing Java.\n",
      "\n"
     ]
    }
   ],
   "source": [
    "# Install this package to use Colab's GPU for training\n",
    "!apt install --allow-change-held-packages libcudnn8=8.4.1.50-1+cuda11.6"
   ]
  },
  {
   "cell_type": "markdown",
   "metadata": {
    "id": "3IMbAWETGOWD"
   },
   "source": [
    "## Imports"
   ]
  },
  {
   "cell_type": "code",
   "execution_count": 2,
   "metadata": {
    "id": "BOjujz601HcS"
   },
   "outputs": [],
   "source": [
    "import tensorflow as tf\n",
    "import numpy as np\n",
    "import matplotlib.pyplot as plt"
   ]
  },
  {
   "cell_type": "markdown",
   "metadata": {
    "id": "kD7RQQ0xGQVH"
   },
   "source": [
    "## Utilities"
   ]
  },
  {
   "cell_type": "code",
   "execution_count": 3,
   "metadata": {
    "id": "Zswl7jRtGzkk"
   },
   "outputs": [],
   "source": [
    "def plot_series(time, series, format=\"-\", start=0, end=None):\n",
    "    \"\"\"\n",
    "    Visualizes time series data\n",
    "\n",
    "    Args:\n",
    "      time (array of int) - contains the time steps\n",
    "      series (array of int) - contains the measurements for each time step\n",
    "      format - line style when plotting the graph\n",
    "      start - first time step to plot\n",
    "      end - last time step to plot\n",
    "    \"\"\"\n",
    "\n",
    "    # Setup dimensions of the graph figure\n",
    "    plt.figure(figsize=(10, 6))\n",
    "    \n",
    "    if type(series) is tuple:\n",
    "\n",
    "      for series_num in series:\n",
    "        # Plot the time series data\n",
    "        plt.plot(time[start:end], series_num[start:end], format)\n",
    "\n",
    "    else:\n",
    "      # Plot the time series data\n",
    "      plt.plot(time[start:end], series[start:end], format)\n",
    "\n",
    "    # Label the x-axis\n",
    "    plt.xlabel(\"Time\")\n",
    "\n",
    "    # Label the y-axis\n",
    "    plt.ylabel(\"Value\")\n",
    "\n",
    "    # Overlay a grid on the graph\n",
    "    plt.grid(True)\n",
    "\n",
    "    # Draw the graph on screen\n",
    "    plt.show()\n",
    "\n",
    "def trend(time, slope=0):\n",
    "    \"\"\"\n",
    "    Generates synthetic data that follows a straight line given a slope value.\n",
    "\n",
    "    Args:\n",
    "      time (array of int) - contains the time steps\n",
    "      slope (float) - determines the direction and steepness of the line\n",
    "\n",
    "    Returns:\n",
    "      series (array of float) - measurements that follow a straight line\n",
    "    \"\"\"\n",
    "\n",
    "    # Compute the linear series given the slope\n",
    "    series = slope * time\n",
    "\n",
    "    return series\n",
    "\n",
    "def seasonal_pattern(season_time):\n",
    "    \"\"\"\n",
    "    Just an arbitrary pattern, you can change it if you wish\n",
    "    \n",
    "    Args:\n",
    "      season_time (array of float) - contains the measurements per time step\n",
    "\n",
    "    Returns:\n",
    "      data_pattern (array of float) -  contains revised measurement values according \n",
    "                                  to the defined pattern\n",
    "    \"\"\"\n",
    "\n",
    "    # Generate the values using an arbitrary pattern\n",
    "    data_pattern = np.where(season_time < 0.4,\n",
    "                    np.cos(season_time * 2 * np.pi),\n",
    "                    1 / np.exp(3 * season_time))\n",
    "    \n",
    "    return data_pattern\n",
    "\n",
    "def seasonality(time, period, amplitude=1, phase=0):\n",
    "    \"\"\"\n",
    "    Repeats the same pattern at each period\n",
    "\n",
    "    Args:\n",
    "      time (array of int) - contains the time steps\n",
    "      period (int) - number of time steps before the pattern repeats\n",
    "      amplitude (int) - peak measured value in a period\n",
    "      phase (int) - number of time steps to shift the measured values\n",
    "\n",
    "    Returns:\n",
    "      data_pattern (array of float) - seasonal data scaled by the defined amplitude\n",
    "    \"\"\"\n",
    "    \n",
    "    # Define the measured values per period\n",
    "    season_time = ((time + phase) % period) / period\n",
    "\n",
    "    # Generates the seasonal data scaled by the defined amplitude\n",
    "    data_pattern = amplitude * seasonal_pattern(season_time)\n",
    "\n",
    "    return data_pattern\n",
    "\n",
    "def noise(time, noise_level=1, seed=None):\n",
    "    \"\"\"Generates a normally distributed noisy signal\n",
    "\n",
    "    Args:\n",
    "      time (array of int) - contains the time steps\n",
    "      noise_level (float) - scaling factor for the generated signal\n",
    "      seed (int) - number generator seed for repeatability\n",
    "\n",
    "    Returns:\n",
    "      noise (array of float) - the noisy signal\n",
    "    \"\"\"\n",
    "\n",
    "    # Initialize the random number generator\n",
    "    rnd = np.random.RandomState(seed)\n",
    "\n",
    "    # Generate a random number for each time step and scale by the noise level\n",
    "    noise = rnd.randn(len(time)) * noise_level\n",
    "    \n",
    "    return noise"
   ]
  },
  {
   "cell_type": "markdown",
   "metadata": {
    "id": "yxNyeFWjGSdj"
   },
   "source": [
    "## Generate the Synthetic Data"
   ]
  },
  {
   "cell_type": "code",
   "execution_count": 4,
   "metadata": {
    "id": "KYEUfDbdpHPm"
   },
   "outputs": [
    {
     "data": {
      "image/png": "[encoded data removed]",
      "text/plain": [
       "<Figure size 720x432 with 1 Axes>"
      ]
     },
     "metadata": {
      "needs_background": "light"
     },
     "output_type": "display_data"
    }
   ],
   "source": [
    "# Parameters\n",
    "time = np.arange(4 * 365 + 1, dtype=\"float32\")\n",
    "baseline = 10\n",
    "amplitude = 40\n",
    "slope = 0.05\n",
    "noise_level = 5\n",
    "\n",
    "# Create the series\n",
    "series = baseline + trend(time, slope) + seasonality(time, period=365, amplitude=amplitude)\n",
    "\n",
    "# Update with noise\n",
    "series += noise(time, noise_level, seed=42)\n",
    "\n",
    "# Plot the results\n",
    "plot_series(time, series)"
   ]
  },
  {
   "cell_type": "markdown",
   "metadata": {
    "id": "MYKCvv-eGWRc"
   },
   "source": [
    "## Split the Dataset"
   ]
  },
  {
   "cell_type": "code",
   "execution_count": 5,
   "metadata": {
    "id": "hpp0slenpKVD"
   },
   "outputs": [],
   "source": [
    "# Define the split time\n",
    "split_time = 1000\n",
    "\n",
    "# Get the train set \n",
    "time_train = time[:split_time]\n",
    "x_train = series[:split_time]\n",
    "\n",
    "# Get the validation set\n",
    "time_valid = time[split_time:]\n",
    "x_valid = series[split_time:]"
   ]
  },
  {
   "cell_type": "markdown",
   "metadata": {
    "id": "cktHz9aOGYtV"
   },
   "source": [
    "## Prepare Features and Labels"
   ]
  },
  {
   "cell_type": "code",
   "execution_count": 6,
   "metadata": {
    "id": "G_j_2_Mqwn7-"
   },
   "outputs": [],
   "source": [
    "# Parameters\n",
    "window_size = 20\n",
    "batch_size = 32\n",
    "shuffle_buffer_size = 1000"
   ]
  },
  {
   "cell_type": "code",
   "execution_count": 7,
   "metadata": {
    "id": "4sTTIOCbyShY"
   },
   "outputs": [],
   "source": [
    "def windowed_dataset(series, window_size, batch_size, shuffle_buffer):\n",
    "    \"\"\"Generates dataset windows\n",
    "\n",
    "    Args:\n",
    "      series (array of float) - contains the values of the time series\n",
    "      window_size (int) - the number of time steps to include in the feature\n",
    "      batch_size (int) - the batch size\n",
    "      shuffle_buffer(int) - buffer size to use for the shuffle method\n",
    "\n",
    "    Returns:\n",
    "      dataset (TF Dataset) - TF Dataset containing time windows\n",
    "    \"\"\"\n",
    "  \n",
    "    # Generate a TF Dataset from the series values\n",
    "    dataset = tf.data.Dataset.from_tensor_slices(series)\n",
    "    \n",
    "    # Window the data but only take those with the specified size\n",
    "    dataset = dataset.window(window_size + 1, shift=1, drop_remainder=True)\n",
    "    \n",
    "    # Flatten the windows by putting its elements in a single batch\n",
    "    dataset = dataset.flat_map(lambda window: window.batch(window_size + 1))\n",
    "\n",
    "    # Create tuples with features and labels \n",
    "    dataset = dataset.map(lambda window: (window[:-1], window[-1]))\n",
    "\n",
    "    # Shuffle the windows\n",
    "    dataset = dataset.shuffle(shuffle_buffer)\n",
    "    \n",
    "    # Create batches of windows\n",
    "    dataset = dataset.batch(batch_size).prefetch(1)\n",
    "    \n",
    "    return dataset"
   ]
  },
  {
   "cell_type": "code",
   "execution_count": 8,
   "metadata": {
    "id": "vGj5-InSwtQQ"
   },
   "outputs": [
    {
     "name": "stdout",
     "output_type": "stream",
     "text": [
      "Metal device set to: Apple M1\n"
     ]
    },
    {
     "name": "stderr",
     "output_type": "stream",
     "text": [
      "2022-09-26 19:09:03.930556: I tensorflow/core/common_runtime/pluggable_device/pluggable_device_factory.cc:305] Could not identify NUMA node of platform GPU ID 0, defaulting to 0. Your kernel may not have been built with NUMA support.\n",
      "2022-09-26 19:09:03.930756: I tensorflow/core/common_runtime/pluggable_device/pluggable_device_factory.cc:271] Created TensorFlow device (/job:localhost/replica:0/task:0/device:GPU:0 with 0 MB memory) -> physical PluggableDevice (device: 0, name: METAL, pci bus id: <undefined>)\n"
     ]
    }
   ],
   "source": [
    "# Generate the dataset windows\n",
    "dataset = windowed_dataset(x_train, window_size, batch_size, shuffle_buffer_size)"
   ]
  },
  {
   "cell_type": "markdown",
   "metadata": {
    "id": "p9-Ke8ZaGcjd"
   },
   "source": [
    "## Build the Model\n",
    "\n",
    "As mentioned, you will swap `SimpleRNN` for `LSTM` in this lab. It is also set as bidirectional below but feel free to revise later and see what results you get. LSTMs are much more complex in their internal architecture than simpleRNNs. It implements a cell state that allows it to remember sequences better than simple implementations. This added complexity results in a bigger set of parameters to train and you'll see that when you print the model summary below."
   ]
  },
  {
   "cell_type": "code",
   "execution_count": 9,
   "metadata": {
    "id": "A1Hl39rklkLm"
   },
   "outputs": [
    {
     "name": "stdout",
     "output_type": "stream",
     "text": [
      "Model: \"sequential\"\n",
      "_________________________________________________________________\n",
      " Layer (type)                Output Shape              Param #   \n",
      "=================================================================\n",
      " lambda (Lambda)             (None, 20, 1)             0         \n",
      "                                                                 \n",
      " bidirectional (Bidirectiona  (None, 20, 64)           8704      \n",
      " l)                                                              \n",
      "                                                                 \n",
      " bidirectional_1 (Bidirectio  (None, 64)               24832     \n",
      " nal)                                                            \n",
      "                                                                 \n",
      " dense (Dense)               (None, 1)                 65        \n",
      "                                                                 \n",
      " lambda_1 (Lambda)           (None, 1)                 0         \n",
      "                                                                 \n",
      "=================================================================\n",
      "Total params: 33,601\n",
      "Trainable params: 33,601\n",
      "Non-trainable params: 0\n",
      "_________________________________________________________________\n"
     ]
    }
   ],
   "source": [
    "# Build the Model\n",
    "model_tune = tf.keras.models.Sequential([\n",
    "  tf.keras.layers.Lambda(lambda x: tf.expand_dims(x, axis=-1),\n",
    "                      input_shape=[window_size]),\n",
    "    tf.keras.layers.Bidirectional(tf.keras.layers.LSTM(32, return_sequences=True)),\n",
    "  tf.keras.layers.Bidirectional(tf.keras.layers.LSTM(32)),\n",
    "  tf.keras.layers.Dense(1),\n",
    "  tf.keras.layers.Lambda(lambda x: x * 100.0)\n",
    "])\n",
    "\n",
    "# Print the model summary\n",
    "model_tune.summary()"
   ]
  },
  {
   "cell_type": "markdown",
   "metadata": {
    "id": "FHaFblbwq0GV"
   },
   "source": [
    "## Tune the Learning Rate\n",
    "\n",
    "As usual, you will pick a learning rate by running the tuning code below."
   ]
  },
  {
   "cell_type": "code",
   "execution_count": 10,
   "metadata": {
    "id": "qE7al18qw48G"
   },
   "outputs": [
    {
     "name": "stdout",
     "output_type": "stream",
     "text": [
      "Epoch 1/100\n"
     ]
    },
    {
     "name": "stderr",
     "output_type": "stream",
     "text": [
      "2022-09-26 19:09:12.304753: W tensorflow/core/platform/profile_utils/cpu_utils.cc:128] Failed to get CPU frequency: 0 Hz\n",
      "2022-09-26 19:09:12.310919: I tensorflow/core/grappler/optimizers/custom_graph_optimizer_registry.cc:113] Plugin optimizer for device_type GPU is enabled.\n",
      "2022-09-26 19:09:12.683113: I tensorflow/core/grappler/optimizers/custom_graph_optimizer_registry.cc:113] Plugin optimizer for device_type GPU is enabled.\n",
      "2022-09-26 19:09:12.693605: I tensorflow/core/grappler/optimizers/custom_graph_optimizer_registry.cc:113] Plugin optimizer for device_type GPU is enabled.\n",
      "2022-09-26 19:09:13.798662: I tensorflow/core/grappler/optimizers/custom_graph_optimizer_registry.cc:113] Plugin optimizer for device_type GPU is enabled.\n",
      "2022-09-26 19:09:13.809208: I tensorflow/core/grappler/optimizers/custom_graph_optimizer_registry.cc:113] Plugin optimizer for device_type GPU is enabled.\n",
      "2022-09-26 19:09:14.242603: I tensorflow/core/grappler/optimizers/custom_graph_optimizer_registry.cc:113] Plugin optimizer for device_type GPU is enabled.\n",
      "2022-09-26 19:09:14.258029: I tensorflow/core/grappler/optimizers/custom_graph_optimizer_registry.cc:113] Plugin optimizer for device_type GPU is enabled.\n"
     ]
    },
    {
     "name": "stdout",
     "output_type": "stream",
     "text": [
      "      1/Unknown - 5s 5s/step - loss: 54.5081"
     ]
    },
    {
     "name": "stderr",
     "output_type": "stream",
     "text": [
      "2022-09-26 19:09:14.973173: I tensorflow/core/grappler/optimizers/custom_graph_optimizer_registry.cc:113] Plugin optimizer for device_type GPU is enabled.\n",
      "2022-09-26 19:09:14.989502: I tensorflow/core/grappler/optimizers/custom_graph_optimizer_registry.cc:113] Plugin optimizer for device_type GPU is enabled.\n"
     ]
    },
    {
     "name": "stdout",
     "output_type": "stream",
     "text": [
      "31/31 [==============================] - 7s 54ms/step - loss: 58.6008 - lr: 1.0000e-08\n",
      "Epoch 2/100\n",
      "31/31 [==============================] - 1s 28ms/step - loss: 57.1347 - lr: 1.1220e-08\n",
      "Epoch 3/100\n",
      "31/31 [==============================] - 1s 28ms/step - loss: 55.3157 - lr: 1.2589e-08\n",
      "Epoch 4/100\n",
      "31/31 [==============================] - 1s 28ms/step - loss: 53.2168 - lr: 1.4125e-08\n",
      "Epoch 5/100\n",
      "31/31 [==============================] - 1s 29ms/step - loss: 50.7939 - lr: 1.5849e-08\n",
      "Epoch 6/100\n",
      "31/31 [==============================] - 1s 28ms/step - loss: 48.0329 - lr: 1.7783e-08\n",
      "Epoch 7/100\n",
      "31/31 [==============================] - 1s 28ms/step - loss: 44.9306 - lr: 1.9953e-08\n",
      "Epoch 8/100\n",
      "31/31 [==============================] - 1s 28ms/step - loss: 41.5486 - lr: 2.2387e-08\n",
      "Epoch 9/100\n",
      "31/31 [==============================] - 1s 28ms/step - loss: 37.9170 - lr: 2.5119e-08\n",
      "Epoch 10/100\n",
      "31/31 [==============================] - 1s 28ms/step - loss: 34.0658 - lr: 2.8184e-08\n",
      "Epoch 11/100\n",
      "31/31 [==============================] - 1s 28ms/step - loss: 30.0110 - lr: 3.1623e-08\n",
      "Epoch 12/100\n",
      "31/31 [==============================] - 1s 28ms/step - loss: 25.8418 - lr: 3.5481e-08\n",
      "Epoch 13/100\n",
      "31/31 [==============================] - 1s 28ms/step - loss: 21.6418 - lr: 3.9811e-08\n",
      "Epoch 14/100\n",
      "31/31 [==============================] - 1s 28ms/step - loss: 17.7190 - lr: 4.4668e-08\n",
      "Epoch 15/100\n",
      "31/31 [==============================] - 1s 28ms/step - loss: 14.5139 - lr: 5.0119e-08\n",
      "Epoch 16/100\n",
      "31/31 [==============================] - 1s 28ms/step - loss: 12.2726 - lr: 5.6234e-08\n",
      "Epoch 17/100\n",
      "31/31 [==============================] - 1s 28ms/step - loss: 11.6237 - lr: 6.3096e-08\n",
      "Epoch 18/100\n",
      "31/31 [==============================] - 1s 28ms/step - loss: 11.2890 - lr: 7.0795e-08\n",
      "Epoch 19/100\n",
      "31/31 [==============================] - 1s 28ms/step - loss: 11.0367 - lr: 7.9433e-08\n",
      "Epoch 20/100\n",
      "31/31 [==============================] - 1s 28ms/step - loss: 10.7746 - lr: 8.9125e-08\n",
      "Epoch 21/100\n",
      "31/31 [==============================] - 1s 28ms/step - loss: 10.5087 - lr: 1.0000e-07\n",
      "Epoch 22/100\n",
      "31/31 [==============================] - 1s 28ms/step - loss: 10.2283 - lr: 1.1220e-07\n",
      "Epoch 23/100\n",
      "31/31 [==============================] - 1s 28ms/step - loss: 9.9469 - lr: 1.2589e-07\n",
      "Epoch 24/100\n",
      "31/31 [==============================] - 1s 28ms/step - loss: 9.6670 - lr: 1.4125e-07\n",
      "Epoch 25/100\n",
      "31/31 [==============================] - 1s 28ms/step - loss: 9.3857 - lr: 1.5849e-07\n",
      "Epoch 26/100\n",
      "31/31 [==============================] - 1s 28ms/step - loss: 9.1186 - lr: 1.7783e-07\n",
      "Epoch 27/100\n",
      "31/31 [==============================] - 1s 28ms/step - loss: 8.8832 - lr: 1.9953e-07\n",
      "Epoch 28/100\n",
      "31/31 [==============================] - 1s 28ms/step - loss: 8.6431 - lr: 2.2387e-07\n",
      "Epoch 29/100\n",
      "31/31 [==============================] - 1s 28ms/step - loss: 8.4588 - lr: 2.5119e-07\n",
      "Epoch 30/100\n",
      "31/31 [==============================] - 1s 28ms/step - loss: 8.2674 - lr: 2.8184e-07\n",
      "Epoch 31/100\n",
      "31/31 [==============================] - 1s 28ms/step - loss: 8.0809 - lr: 3.1623e-07\n",
      "Epoch 32/100\n",
      "31/31 [==============================] - 1s 29ms/step - loss: 7.9315 - lr: 3.5481e-07\n",
      "Epoch 33/100\n",
      "31/31 [==============================] - 1s 28ms/step - loss: 7.7688 - lr: 3.9811e-07\n",
      "Epoch 34/100\n",
      "31/31 [==============================] - 1s 28ms/step - loss: 7.6800 - lr: 4.4668e-07\n",
      "Epoch 35/100\n",
      "31/31 [==============================] - 1s 28ms/step - loss: 7.5611 - lr: 5.0119e-07\n",
      "Epoch 36/100\n",
      "31/31 [==============================] - 1s 28ms/step - loss: 7.5922 - lr: 5.6234e-07\n",
      "Epoch 37/100\n",
      "31/31 [==============================] - 1s 28ms/step - loss: 7.4418 - lr: 6.3096e-07\n",
      "Epoch 38/100\n",
      "31/31 [==============================] - 1s 28ms/step - loss: 7.4443 - lr: 7.0795e-07\n",
      "Epoch 39/100\n",
      "31/31 [==============================] - 1s 28ms/step - loss: 7.3076 - lr: 7.9433e-07\n",
      "Epoch 40/100\n",
      "31/31 [==============================] - 1s 28ms/step - loss: 7.4745 - lr: 8.9125e-07\n",
      "Epoch 41/100\n",
      "31/31 [==============================] - 1s 30ms/step - loss: 7.1205 - lr: 1.0000e-06\n",
      "Epoch 42/100\n",
      "31/31 [==============================] - 1s 28ms/step - loss: 7.1430 - lr: 1.1220e-06\n",
      "Epoch 43/100\n",
      "31/31 [==============================] - 1s 29ms/step - loss: 7.1475 - lr: 1.2589e-06\n",
      "Epoch 44/100\n",
      "31/31 [==============================] - 1s 29ms/step - loss: 7.6766 - lr: 1.4125e-06\n",
      "Epoch 45/100\n",
      "31/31 [==============================] - 1s 29ms/step - loss: 7.2988 - lr: 1.5849e-06\n",
      "Epoch 46/100\n",
      "31/31 [==============================] - 1s 28ms/step - loss: 7.0197 - lr: 1.7783e-06\n",
      "Epoch 47/100\n",
      "31/31 [==============================] - 1s 28ms/step - loss: 6.8706 - lr: 1.9953e-06\n",
      "Epoch 48/100\n",
      "31/31 [==============================] - 1s 29ms/step - loss: 6.8452 - lr: 2.2387e-06\n",
      "Epoch 49/100\n",
      "31/31 [==============================] - 1s 29ms/step - loss: 6.7707 - lr: 2.5119e-06\n",
      "Epoch 50/100\n",
      "31/31 [==============================] - 1s 29ms/step - loss: 7.1214 - lr: 2.8184e-06\n",
      "Epoch 51/100\n",
      "31/31 [==============================] - 1s 29ms/step - loss: 7.0152 - lr: 3.1623e-06\n",
      "Epoch 52/100\n",
      "31/31 [==============================] - 1s 28ms/step - loss: 6.4333 - lr: 3.5481e-06\n",
      "Epoch 53/100\n",
      "31/31 [==============================] - 1s 29ms/step - loss: 6.4855 - lr: 3.9811e-06\n",
      "Epoch 54/100\n",
      "31/31 [==============================] - 1s 29ms/step - loss: 6.2339 - lr: 4.4668e-06\n",
      "Epoch 55/100\n",
      "31/31 [==============================] - 1s 28ms/step - loss: 6.1093 - lr: 5.0119e-06\n",
      "Epoch 56/100\n",
      "31/31 [==============================] - 1s 28ms/step - loss: 6.2857 - lr: 5.6234e-06\n",
      "Epoch 57/100\n",
      "31/31 [==============================] - 1s 28ms/step - loss: 6.1409 - lr: 6.3096e-06\n",
      "Epoch 58/100\n",
      "31/31 [==============================] - 1s 29ms/step - loss: 6.0617 - lr: 7.0795e-06\n",
      "Epoch 59/100\n",
      "31/31 [==============================] - 1s 29ms/step - loss: 6.0340 - lr: 7.9433e-06\n",
      "Epoch 60/100\n",
      "31/31 [==============================] - 1s 29ms/step - loss: 5.8041 - lr: 8.9125e-06\n",
      "Epoch 61/100\n",
      "31/31 [==============================] - 1s 29ms/step - loss: 5.9598 - lr: 1.0000e-05\n",
      "Epoch 62/100\n",
      "31/31 [==============================] - 1s 28ms/step - loss: 5.9772 - lr: 1.1220e-05\n",
      "Epoch 63/100\n",
      "31/31 [==============================] - 1s 29ms/step - loss: 5.3854 - lr: 1.2589e-05\n",
      "Epoch 64/100\n",
      "31/31 [==============================] - 1s 29ms/step - loss: 5.6425 - lr: 1.4125e-05\n",
      "Epoch 65/100\n",
      "31/31 [==============================] - 1s 29ms/step - loss: 5.8894 - lr: 1.5849e-05\n",
      "Epoch 66/100\n",
      "31/31 [==============================] - 1s 28ms/step - loss: 6.0037 - lr: 1.7783e-05\n",
      "Epoch 67/100\n",
      "31/31 [==============================] - 1s 29ms/step - loss: 5.7154 - lr: 1.9953e-05\n",
      "Epoch 68/100\n",
      "31/31 [==============================] - 1s 29ms/step - loss: 6.0626 - lr: 2.2387e-05\n",
      "Epoch 69/100\n",
      "31/31 [==============================] - 1s 29ms/step - loss: 5.3042 - lr: 2.5119e-05\n",
      "Epoch 70/100\n",
      "31/31 [==============================] - 1s 28ms/step - loss: 5.0959 - lr: 2.8184e-05\n",
      "Epoch 71/100\n",
      "31/31 [==============================] - 1s 28ms/step - loss: 6.1621 - lr: 3.1623e-05\n",
      "Epoch 72/100\n",
      "31/31 [==============================] - 1s 29ms/step - loss: 5.5358 - lr: 3.5481e-05\n",
      "Epoch 73/100\n",
      "31/31 [==============================] - 1s 28ms/step - loss: 5.5521 - lr: 3.9811e-05\n",
      "Epoch 74/100\n",
      "31/31 [==============================] - 1s 29ms/step - loss: 5.4660 - lr: 4.4668e-05\n",
      "Epoch 75/100\n",
      "31/31 [==============================] - 1s 29ms/step - loss: 5.5370 - lr: 5.0119e-05\n",
      "Epoch 76/100\n",
      "31/31 [==============================] - 1s 29ms/step - loss: 6.8407 - lr: 5.6234e-05\n",
      "Epoch 77/100\n",
      "31/31 [==============================] - 1s 29ms/step - loss: 5.9906 - lr: 6.3096e-05\n",
      "Epoch 78/100\n",
      "31/31 [==============================] - 1s 29ms/step - loss: 6.8748 - lr: 7.0795e-05\n",
      "Epoch 79/100\n",
      "31/31 [==============================] - 1s 28ms/step - loss: 7.5069 - lr: 7.9433e-05\n",
      "Epoch 80/100\n",
      "31/31 [==============================] - 1s 29ms/step - loss: 7.7155 - lr: 8.9125e-05\n",
      "Epoch 81/100\n",
      "31/31 [==============================] - 1s 28ms/step - loss: 7.0830 - lr: 1.0000e-04\n",
      "Epoch 82/100\n",
      "31/31 [==============================] - 1s 29ms/step - loss: 6.4581 - lr: 1.1220e-04\n",
      "Epoch 83/100\n",
      "31/31 [==============================] - 1s 29ms/step - loss: 5.0664 - lr: 1.2589e-04\n",
      "Epoch 84/100\n",
      "31/31 [==============================] - 1s 29ms/step - loss: 7.6248 - lr: 1.4125e-04\n",
      "Epoch 85/100\n",
      "31/31 [==============================] - 1s 28ms/step - loss: 6.3644 - lr: 1.5849e-04\n",
      "Epoch 86/100\n",
      "31/31 [==============================] - 1s 29ms/step - loss: 11.5271 - lr: 1.7783e-04\n",
      "Epoch 87/100\n",
      "31/31 [==============================] - 1s 29ms/step - loss: 7.6266 - lr: 1.9953e-04\n",
      "Epoch 88/100\n",
      "31/31 [==============================] - 1s 28ms/step - loss: 5.7785 - lr: 2.2387e-04\n",
      "Epoch 89/100\n",
      "31/31 [==============================] - 1s 29ms/step - loss: 10.0314 - lr: 2.5119e-04\n",
      "Epoch 90/100\n",
      "31/31 [==============================] - 1s 29ms/step - loss: 8.6765 - lr: 2.8184e-04\n",
      "Epoch 91/100\n",
      "31/31 [==============================] - 1s 29ms/step - loss: 7.7693 - lr: 3.1623e-04\n",
      "Epoch 92/100\n",
      "31/31 [==============================] - 1s 29ms/step - loss: 6.8955 - lr: 3.5481e-04\n",
      "Epoch 93/100\n",
      "31/31 [==============================] - 1s 29ms/step - loss: 10.6978 - lr: 3.9811e-04\n",
      "Epoch 94/100\n",
      "31/31 [==============================] - 1s 28ms/step - loss: 12.7468 - lr: 4.4668e-04\n",
      "Epoch 95/100\n",
      "31/31 [==============================] - 1s 29ms/step - loss: 10.0072 - lr: 5.0119e-04\n",
      "Epoch 96/100\n",
      "31/31 [==============================] - 1s 29ms/step - loss: 8.4084 - lr: 5.6234e-04\n",
      "Epoch 97/100\n",
      "31/31 [==============================] - 1s 29ms/step - loss: 8.7449 - lr: 6.3096e-04\n",
      "Epoch 98/100\n",
      "31/31 [==============================] - 1s 29ms/step - loss: 8.6695 - lr: 7.0795e-04\n",
      "Epoch 99/100\n",
      "31/31 [==============================] - 1s 29ms/step - loss: 9.9739 - lr: 7.9433e-04\n",
      "Epoch 100/100\n",
      "31/31 [==============================] - 1s 28ms/step - loss: 13.1173 - lr: 8.9125e-04\n"
     ]
    }
   ],
   "source": [
    "# Set the learning rate scheduler\n",
    "lr_schedule = tf.keras.callbacks.LearningRateScheduler(\n",
    "    lambda epoch: 1e-8 * 10**(epoch / 20))\n",
    "\n",
    "# Initialize the optimizer\n",
    "optimizer = tf.keras.optimizers.SGD(momentum=0.9)\n",
    "\n",
    "# Set the training parameters\n",
    "model_tune.compile(loss=tf.keras.losses.Huber(), optimizer=optimizer)\n",
    "\n",
    "# Train the model\n",
    "history = model_tune.fit(dataset, epochs=100, callbacks=[lr_schedule])"
   ]
  },
  {
   "cell_type": "code",
   "execution_count": 11,
   "metadata": {
    "id": "AkBsrsXMzoWR"
   },
   "outputs": [
    {
     "data": {
      "text/plain": [
       "(1e-08, 0.001, 0.0, 30.0)"
      ]
     },
     "execution_count": 11,
     "metadata": {},
     "output_type": "execute_result"
    },
    {
     "data": {
      "image/png": "[encoded data removed]",
      "text/plain": [
       "<Figure size 720x432 with 1 Axes>"
      ]
     },
     "metadata": {
      "needs_background": "light"
     },
     "output_type": "display_data"
    }
   ],
   "source": [
    "# Define the learning rate array\n",
    "lrs = 1e-8 * (10 ** (np.arange(100) / 20))\n",
    "\n",
    "# Set the figure size\n",
    "plt.figure(figsize=(10, 6))\n",
    "\n",
    "# Set the grid\n",
    "plt.grid(True)\n",
    "\n",
    "# Plot the loss in log scale\n",
    "plt.semilogx(lrs, history.history[\"loss\"])\n",
    "\n",
    "# Increase the tickmarks size\n",
    "plt.tick_params('both', length=10, width=1, which='both')\n",
    "\n",
    "# Set the plot boundaries\n",
    "plt.axis([1e-8, 1e-3, 0, 30])"
   ]
  },
  {
   "cell_type": "markdown",
   "metadata": {
    "id": "i-lKNp4pq_w8"
   },
   "source": [
    "## Train the Model\n",
    "\n",
    "You can then proceed to train the model with your chosen learning rate. \n",
    "\n",
    "*Tip: When experimenting and you find yourself running different iterations of a model, you may want to use the [`clear_session()`](https://www.tensorflow.org/api_docs/python/tf/keras/backend/clear_session) method to declutter memory used by Keras. This is added in the first line below.*\n"
   ]
  },
  {
   "cell_type": "code",
   "execution_count": 12,
   "metadata": {
    "id": "4uh-97bpLZCA"
   },
   "outputs": [
    {
     "name": "stdout",
     "output_type": "stream",
     "text": [
      "Epoch 1/100\n"
     ]
    },
    {
     "name": "stderr",
     "output_type": "stream",
     "text": [
      "2022-09-26 19:11:13.827015: I tensorflow/core/grappler/optimizers/custom_graph_optimizer_registry.cc:113] Plugin optimizer for device_type GPU is enabled.\n",
      "2022-09-26 19:11:14.188723: I tensorflow/core/grappler/optimizers/custom_graph_optimizer_registry.cc:113] Plugin optimizer for device_type GPU is enabled.\n",
      "2022-09-26 19:11:14.199416: I tensorflow/core/grappler/optimizers/custom_graph_optimizer_registry.cc:113] Plugin optimizer for device_type GPU is enabled.\n",
      "2022-09-26 19:11:14.256352: I tensorflow/core/grappler/optimizers/custom_graph_optimizer_registry.cc:113] Plugin optimizer for device_type GPU is enabled.\n",
      "2022-09-26 19:11:14.267150: I tensorflow/core/grappler/optimizers/custom_graph_optimizer_registry.cc:113] Plugin optimizer for device_type GPU is enabled.\n",
      "2022-09-26 19:11:14.348839: I tensorflow/core/grappler/optimizers/custom_graph_optimizer_registry.cc:113] Plugin optimizer for device_type GPU is enabled.\n",
      "2022-09-26 19:11:14.364541: I tensorflow/core/grappler/optimizers/custom_graph_optimizer_registry.cc:113] Plugin optimizer for device_type GPU is enabled.\n"
     ]
    },
    {
     "name": "stdout",
     "output_type": "stream",
     "text": [
      "      3/Unknown - 3s 36ms/step - loss: 23.6029 - mae: 24.1022"
     ]
    },
    {
     "name": "stderr",
     "output_type": "stream",
     "text": [
      "2022-09-26 19:11:14.466688: I tensorflow/core/grappler/optimizers/custom_graph_optimizer_registry.cc:113] Plugin optimizer for device_type GPU is enabled.\n",
      "2022-09-26 19:11:14.483139: I tensorflow/core/grappler/optimizers/custom_graph_optimizer_registry.cc:113] Plugin optimizer for device_type GPU is enabled.\n"
     ]
    },
    {
     "name": "stdout",
     "output_type": "stream",
     "text": [
      "31/31 [==============================] - 4s 35ms/step - loss: 16.2699 - mae: 16.7652\n",
      "Epoch 2/100\n",
      "31/31 [==============================] - 1s 28ms/step - loss: 9.8162 - mae: 10.3004\n",
      "Epoch 3/100\n",
      "31/31 [==============================] - 1s 28ms/step - loss: 7.6363 - mae: 8.1191\n",
      "Epoch 4/100\n",
      "31/31 [==============================] - 1s 28ms/step - loss: 7.0956 - mae: 7.5742\n",
      "Epoch 5/100\n",
      "31/31 [==============================] - 1s 29ms/step - loss: 6.8941 - mae: 7.3755\n",
      "Epoch 6/100\n",
      "31/31 [==============================] - 1s 29ms/step - loss: 6.8148 - mae: 7.2968\n",
      "Epoch 7/100\n",
      "31/31 [==============================] - 1s 29ms/step - loss: 6.6323 - mae: 7.1130\n",
      "Epoch 8/100\n",
      "31/31 [==============================] - 1s 29ms/step - loss: 6.5433 - mae: 7.0208\n",
      "Epoch 9/100\n",
      "31/31 [==============================] - 1s 28ms/step - loss: 6.3845 - mae: 6.8627\n",
      "Epoch 10/100\n",
      "31/31 [==============================] - 1s 28ms/step - loss: 6.4136 - mae: 6.8910\n",
      "Epoch 11/100\n",
      "31/31 [==============================] - 1s 28ms/step - loss: 6.1766 - mae: 6.6569\n",
      "Epoch 12/100\n",
      "31/31 [==============================] - 1s 28ms/step - loss: 6.0902 - mae: 6.5726\n",
      "Epoch 13/100\n",
      "31/31 [==============================] - 1s 28ms/step - loss: 6.0326 - mae: 6.5133\n",
      "Epoch 14/100\n",
      "31/31 [==============================] - 1s 29ms/step - loss: 5.9466 - mae: 6.4237\n",
      "Epoch 15/100\n",
      "31/31 [==============================] - 1s 29ms/step - loss: 6.0018 - mae: 6.4823\n",
      "Epoch 16/100\n",
      "31/31 [==============================] - 1s 29ms/step - loss: 5.9325 - mae: 6.4144\n",
      "Epoch 17/100\n",
      "31/31 [==============================] - 1s 28ms/step - loss: 5.7343 - mae: 6.2160\n",
      "Epoch 18/100\n",
      "31/31 [==============================] - 1s 28ms/step - loss: 5.6750 - mae: 6.1523\n",
      "Epoch 19/100\n",
      "31/31 [==============================] - 1s 29ms/step - loss: 5.5955 - mae: 6.0751\n",
      "Epoch 20/100\n",
      "31/31 [==============================] - 1s 29ms/step - loss: 5.5676 - mae: 6.0488\n",
      "Epoch 21/100\n",
      "31/31 [==============================] - 1s 29ms/step - loss: 5.6229 - mae: 6.1003\n",
      "Epoch 22/100\n",
      "31/31 [==============================] - 1s 28ms/step - loss: 5.4961 - mae: 5.9745\n",
      "Epoch 23/100\n",
      "31/31 [==============================] - 1s 29ms/step - loss: 5.4787 - mae: 5.9595\n",
      "Epoch 24/100\n",
      "31/31 [==============================] - 1s 29ms/step - loss: 5.6348 - mae: 6.1139\n",
      "Epoch 25/100\n",
      "31/31 [==============================] - 1s 29ms/step - loss: 5.4458 - mae: 5.9237\n",
      "Epoch 26/100\n",
      "31/31 [==============================] - 1s 29ms/step - loss: 5.3236 - mae: 5.8020\n",
      "Epoch 27/100\n",
      "31/31 [==============================] - 1s 29ms/step - loss: 5.2647 - mae: 5.7427\n",
      "Epoch 28/100\n",
      "31/31 [==============================] - 1s 30ms/step - loss: 5.4605 - mae: 5.9383\n",
      "Epoch 29/100\n",
      "31/31 [==============================] - 1s 28ms/step - loss: 5.2586 - mae: 5.7341\n",
      "Epoch 30/100\n",
      "31/31 [==============================] - 1s 30ms/step - loss: 5.1847 - mae: 5.6633\n",
      "Epoch 31/100\n",
      "31/31 [==============================] - 1s 29ms/step - loss: 5.1928 - mae: 5.6718\n",
      "Epoch 32/100\n",
      "31/31 [==============================] - 1s 29ms/step - loss: 5.2690 - mae: 5.7504\n",
      "Epoch 33/100\n",
      "31/31 [==============================] - 1s 29ms/step - loss: 5.4989 - mae: 5.9806\n",
      "Epoch 34/100\n",
      "31/31 [==============================] - 1s 29ms/step - loss: 5.2226 - mae: 5.6970\n",
      "Epoch 35/100\n",
      "31/31 [==============================] - 1s 29ms/step - loss: 5.2265 - mae: 5.7025\n",
      "Epoch 36/100\n",
      "31/31 [==============================] - 1s 29ms/step - loss: 5.0724 - mae: 5.5476\n",
      "Epoch 37/100\n",
      "31/31 [==============================] - 1s 29ms/step - loss: 5.0903 - mae: 5.5612\n",
      "Epoch 38/100\n",
      "31/31 [==============================] - 1s 30ms/step - loss: 5.0755 - mae: 5.5495\n",
      "Epoch 39/100\n",
      "31/31 [==============================] - 1s 29ms/step - loss: 5.2342 - mae: 5.7101\n",
      "Epoch 40/100\n",
      "31/31 [==============================] - 1s 30ms/step - loss: 5.0450 - mae: 5.5244\n",
      "Epoch 41/100\n",
      "31/31 [==============================] - 1s 30ms/step - loss: 5.1500 - mae: 5.6293\n",
      "Epoch 42/100\n",
      "31/31 [==============================] - 1s 29ms/step - loss: 5.2389 - mae: 5.7145\n",
      "Epoch 43/100\n",
      "31/31 [==============================] - 1s 28ms/step - loss: 4.9610 - mae: 5.4376\n",
      "Epoch 44/100\n",
      "31/31 [==============================] - 1s 29ms/step - loss: 4.9744 - mae: 5.4511\n",
      "Epoch 45/100\n",
      "31/31 [==============================] - 1s 28ms/step - loss: 4.9787 - mae: 5.4559\n",
      "Epoch 46/100\n",
      "31/31 [==============================] - 1s 29ms/step - loss: 4.9715 - mae: 5.4514\n",
      "Epoch 47/100\n",
      "31/31 [==============================] - 1s 29ms/step - loss: 4.9889 - mae: 5.4672\n",
      "Epoch 48/100\n",
      "31/31 [==============================] - 1s 29ms/step - loss: 5.0689 - mae: 5.5412\n",
      "Epoch 49/100\n",
      "31/31 [==============================] - 1s 29ms/step - loss: 4.9586 - mae: 5.4354\n",
      "Epoch 50/100\n",
      "31/31 [==============================] - 1s 29ms/step - loss: 4.9090 - mae: 5.3851\n",
      "Epoch 51/100\n",
      "31/31 [==============================] - 1s 29ms/step - loss: 4.8903 - mae: 5.3717\n",
      "Epoch 52/100\n",
      "31/31 [==============================] - 1s 29ms/step - loss: 4.8582 - mae: 5.3342\n",
      "Epoch 53/100\n",
      "31/31 [==============================] - 1s 29ms/step - loss: 4.9349 - mae: 5.4060\n",
      "Epoch 54/100\n",
      "31/31 [==============================] - 1s 29ms/step - loss: 4.8987 - mae: 5.3773\n",
      "Epoch 55/100\n",
      "31/31 [==============================] - 1s 29ms/step - loss: 4.9073 - mae: 5.3848\n",
      "Epoch 56/100\n",
      "31/31 [==============================] - 1s 29ms/step - loss: 4.8129 - mae: 5.2930\n",
      "Epoch 57/100\n",
      "31/31 [==============================] - 1s 29ms/step - loss: 4.8266 - mae: 5.3056\n",
      "Epoch 58/100\n",
      "31/31 [==============================] - 1s 29ms/step - loss: 4.7834 - mae: 5.2600\n",
      "Epoch 59/100\n",
      "31/31 [==============================] - 1s 29ms/step - loss: 4.8144 - mae: 5.2934\n",
      "Epoch 60/100\n",
      "31/31 [==============================] - 1s 29ms/step - loss: 4.8167 - mae: 5.2931\n",
      "Epoch 61/100\n",
      "31/31 [==============================] - 1s 29ms/step - loss: 4.7451 - mae: 5.2215\n",
      "Epoch 62/100\n",
      "31/31 [==============================] - 1s 28ms/step - loss: 4.7927 - mae: 5.2733\n",
      "Epoch 63/100\n",
      "31/31 [==============================] - 1s 28ms/step - loss: 4.8162 - mae: 5.2907\n",
      "Epoch 64/100\n",
      "31/31 [==============================] - 1s 28ms/step - loss: 4.8439 - mae: 5.3205\n",
      "Epoch 65/100\n",
      "31/31 [==============================] - 1s 28ms/step - loss: 4.7091 - mae: 5.1837\n",
      "Epoch 66/100\n",
      "31/31 [==============================] - 1s 28ms/step - loss: 4.7165 - mae: 5.1929\n",
      "Epoch 67/100\n",
      "31/31 [==============================] - 1s 28ms/step - loss: 4.7935 - mae: 5.2755\n",
      "Epoch 68/100\n",
      "31/31 [==============================] - 1s 29ms/step - loss: 4.7421 - mae: 5.2219\n",
      "Epoch 69/100\n",
      "31/31 [==============================] - 1s 29ms/step - loss: 5.0235 - mae: 5.5013\n",
      "Epoch 70/100\n",
      "31/31 [==============================] - 1s 29ms/step - loss: 4.7987 - mae: 5.2773\n",
      "Epoch 71/100\n",
      "31/31 [==============================] - 1s 29ms/step - loss: 4.7812 - mae: 5.2596\n",
      "Epoch 72/100\n",
      "31/31 [==============================] - 1s 28ms/step - loss: 4.7247 - mae: 5.2005\n",
      "Epoch 73/100\n",
      "31/31 [==============================] - 1s 29ms/step - loss: 4.6951 - mae: 5.1737\n",
      "Epoch 74/100\n",
      "31/31 [==============================] - 1s 29ms/step - loss: 4.6663 - mae: 5.1402\n",
      "Epoch 75/100\n",
      "31/31 [==============================] - 1s 29ms/step - loss: 4.6573 - mae: 5.1372\n",
      "Epoch 76/100\n",
      "31/31 [==============================] - 1s 29ms/step - loss: 4.6742 - mae: 5.1561\n",
      "Epoch 77/100\n",
      "31/31 [==============================] - 1s 29ms/step - loss: 4.7881 - mae: 5.2628\n",
      "Epoch 78/100\n",
      "31/31 [==============================] - 1s 29ms/step - loss: 4.8027 - mae: 5.2814\n",
      "Epoch 79/100\n",
      "31/31 [==============================] - 1s 29ms/step - loss: 4.9863 - mae: 5.4640\n",
      "Epoch 80/100\n",
      "31/31 [==============================] - 1s 29ms/step - loss: 4.7633 - mae: 5.2346\n",
      "Epoch 81/100\n",
      "31/31 [==============================] - 1s 29ms/step - loss: 4.6101 - mae: 5.0836\n",
      "Epoch 82/100\n",
      "31/31 [==============================] - 1s 29ms/step - loss: 4.6625 - mae: 5.1377\n",
      "Epoch 83/100\n",
      "31/31 [==============================] - 1s 29ms/step - loss: 4.7879 - mae: 5.2671\n",
      "Epoch 84/100\n",
      "31/31 [==============================] - 1s 29ms/step - loss: 4.6526 - mae: 5.1269\n",
      "Epoch 85/100\n",
      "31/31 [==============================] - 1s 29ms/step - loss: 4.6470 - mae: 5.1206\n",
      "Epoch 86/100\n",
      "31/31 [==============================] - 1s 29ms/step - loss: 4.6342 - mae: 5.1089\n",
      "Epoch 87/100\n",
      "31/31 [==============================] - 1s 29ms/step - loss: 4.5991 - mae: 5.0718\n",
      "Epoch 88/100\n",
      "31/31 [==============================] - 1s 29ms/step - loss: 4.7025 - mae: 5.1792\n",
      "Epoch 89/100\n",
      "31/31 [==============================] - 1s 29ms/step - loss: 4.6724 - mae: 5.1493\n",
      "Epoch 90/100\n",
      "31/31 [==============================] - 1s 29ms/step - loss: 4.6145 - mae: 5.0893\n",
      "Epoch 91/100\n",
      "31/31 [==============================] - 1s 29ms/step - loss: 4.5574 - mae: 5.0361\n",
      "Epoch 92/100\n",
      "31/31 [==============================] - 1s 28ms/step - loss: 4.6461 - mae: 5.1216\n",
      "Epoch 93/100\n",
      "31/31 [==============================] - 1s 29ms/step - loss: 4.5810 - mae: 5.0581\n",
      "Epoch 94/100\n",
      "31/31 [==============================] - 1s 28ms/step - loss: 4.6186 - mae: 5.0932\n",
      "Epoch 95/100\n",
      "31/31 [==============================] - 1s 29ms/step - loss: 4.6500 - mae: 5.1297\n",
      "Epoch 96/100\n",
      "31/31 [==============================] - 1s 29ms/step - loss: 4.6665 - mae: 5.1429\n",
      "Epoch 97/100\n",
      "31/31 [==============================] - 1s 29ms/step - loss: 4.6068 - mae: 5.0862\n",
      "Epoch 98/100\n",
      "31/31 [==============================] - 1s 29ms/step - loss: 4.5825 - mae: 5.0588\n",
      "Epoch 99/100\n",
      "31/31 [==============================] - 1s 29ms/step - loss: 4.5719 - mae: 5.0481\n",
      "Epoch 100/100\n",
      "31/31 [==============================] - 1s 29ms/step - loss: 5.0110 - mae: 5.4881\n"
     ]
    }
   ],
   "source": [
    "# Reset states generated by Keras\n",
    "tf.keras.backend.clear_session()\n",
    "\n",
    "# Build the model\n",
    "model = tf.keras.models.Sequential([\n",
    "  tf.keras.layers.Lambda(lambda x: tf.expand_dims(x, axis=-1),\n",
    "                      input_shape=[None]),\n",
    "   tf.keras.layers.Bidirectional(tf.keras.layers.LSTM(32, return_sequences=True)),\n",
    "  tf.keras.layers.Bidirectional(tf.keras.layers.LSTM(32)),\n",
    "  tf.keras.layers.Dense(1),\n",
    "  tf.keras.layers.Lambda(lambda x: x * 100.0)\n",
    "])\n",
    "\n",
    "# Set the learning rate\n",
    "learning_rate = 2e-6\n",
    "\n",
    "# Set the optimizer \n",
    "optimizer = tf.keras.optimizers.SGD(learning_rate=learning_rate, momentum=0.9)\n",
    "\n",
    "# Set the training parameters\n",
    "model.compile(loss=tf.keras.losses.Huber(),\n",
    "              optimizer=optimizer,\n",
    "              metrics=[\"mae\"])\n",
    "\n",
    "# Train the model\n",
    "history = model.fit(dataset,epochs=100)"
   ]
  },
  {
   "cell_type": "markdown",
   "metadata": {
    "id": "RjP4kbGiI7cw"
   },
   "source": [
    "## Model Prediction\n",
    "\n",
    "You will then generate batches of windows to generate predictions that align with the validation set."
   ]
  },
  {
   "cell_type": "code",
   "execution_count": 13,
   "metadata": {
    "id": "QO8cfKwKBBG6"
   },
   "outputs": [],
   "source": [
    "def model_forecast(model, series, window_size, batch_size):\n",
    "    \"\"\"Uses an input model to generate predictions on data windows\n",
    "\n",
    "    Args:\n",
    "      model (TF Keras Model) - model that accepts data windows\n",
    "      series (array of float) - contains the values of the time series\n",
    "      window_size (int) - the number of time steps to include in the window\n",
    "      batch_size (int) - the batch size\n",
    "\n",
    "    Returns:\n",
    "      forecast (numpy array) - array containing predictions\n",
    "    \"\"\"\n",
    "\n",
    "    # Generate a TF Dataset from the series values\n",
    "    dataset = tf.data.Dataset.from_tensor_slices(series)\n",
    "\n",
    "    # Window the data but only take those with the specified size\n",
    "    dataset = dataset.window(window_size, shift=1, drop_remainder=True)\n",
    "\n",
    "    # Flatten the windows by putting its elements in a single batch\n",
    "    dataset = dataset.flat_map(lambda w: w.batch(window_size))\n",
    "    \n",
    "    # Create batches of windows\n",
    "    dataset = dataset.batch(batch_size).prefetch(1)\n",
    "    \n",
    "    # Get predictions on the entire dataset\n",
    "    forecast = model.predict(dataset)\n",
    "    \n",
    "    return forecast"
   ]
  },
  {
   "cell_type": "code",
   "execution_count": 14,
   "metadata": {
    "id": "_plB3UseBD8o"
   },
   "outputs": [
    {
     "name": "stderr",
     "output_type": "stream",
     "text": [
      "2022-09-26 19:14:02.972611: I tensorflow/core/grappler/optimizers/custom_graph_optimizer_registry.cc:113] Plugin optimizer for device_type GPU is enabled.\n",
      "2022-09-26 19:14:03.091905: I tensorflow/core/grappler/optimizers/custom_graph_optimizer_registry.cc:113] Plugin optimizer for device_type GPU is enabled.\n",
      "2022-09-26 19:14:03.099323: I tensorflow/core/grappler/optimizers/custom_graph_optimizer_registry.cc:113] Plugin optimizer for device_type GPU is enabled.\n",
      "2022-09-26 19:14:03.155214: I tensorflow/core/grappler/optimizers/custom_graph_optimizer_registry.cc:113] Plugin optimizer for device_type GPU is enabled.\n",
      "2022-09-26 19:14:03.163075: I tensorflow/core/grappler/optimizers/custom_graph_optimizer_registry.cc:113] Plugin optimizer for device_type GPU is enabled.\n"
     ]
    },
    {
     "data": {
      "image/png": "[encoded data removed]",
      "text/plain": [
       "<Figure size 720x432 with 1 Axes>"
      ]
     },
     "metadata": {
      "needs_background": "light"
     },
     "output_type": "display_data"
    }
   ],
   "source": [
    "# Reduce the original series\n",
    "forecast_series = series[split_time-window_size:-1]\n",
    "\n",
    "# Use helper function to generate predictions\n",
    "forecast = model_forecast(model, forecast_series, window_size, batch_size)\n",
    "\n",
    "# Drop single dimensional axis\n",
    "results = forecast.squeeze()\n",
    "\n",
    "# Plot the results\n",
    "plot_series(time_valid, (x_valid, results))"
   ]
  },
  {
   "cell_type": "markdown",
   "metadata": {
    "id": "Nn8iSQkZtaRC"
   },
   "source": [
    "You can then generate the metrics to evaluate the model's performance."
   ]
  },
  {
   "cell_type": "code",
   "execution_count": 15,
   "metadata": {
    "id": "-IKhueZaBGID"
   },
   "outputs": [
    {
     "name": "stdout",
     "output_type": "stream",
     "text": [
      "110.03076\n",
      "7.8192863\n"
     ]
    }
   ],
   "source": [
    "# Compute the MSE and MAE\n",
    "print(tf.keras.metrics.mean_squared_error(x_valid, results).numpy())\n",
    "print(tf.keras.metrics.mean_absolute_error(x_valid, results).numpy())"
   ]
  },
  {
   "cell_type": "markdown",
   "metadata": {
    "id": "bzPIqeMWvbPy"
   },
   "source": [
    "## Wrap Up\n",
    "\n",
    "This concludes this short exercise on using LSTMs for time series forecasting. Next week, you will build upon this and add convolutions. Then, you will start to move away from synthetic data and use real-world datasets. See you there!"
   ]
  },
  {
   "cell_type": "markdown",
   "metadata": {
    "id": "U5PqTePGHeMH"
   },
   "source": [
    "## Optional: Including a Validation Set while Training\n",
    "\n",
    "Back in the first course of this specialization, you saw how you can also monitor the performance of your model against a validation set while training. You can also do that for this lab. \n",
    "\n",
    "First, you need to generate a `val_set` which are data windows and labels that your model can accept. You can simply reuse the `windowed_dataset` function for that and you can pass in the `x_valid` points to generate the windows."
   ]
  },
  {
   "cell_type": "code",
   "execution_count": 16,
   "metadata": {
    "id": "kvFVwL3PC4iX"
   },
   "outputs": [],
   "source": [
    "# Generate data windows of the validation set\n",
    "val_set = windowed_dataset(x_valid, window_size, batch_size, shuffle_buffer_size)"
   ]
  },
  {
   "cell_type": "markdown",
   "metadata": {
    "id": "p68j6XxEvP9K"
   },
   "source": [
    "You can then do the same training as before but pass in the `val_set` to the `validation_data` parameter of the `fit()` method."
   ]
  },
  {
   "cell_type": "code",
   "execution_count": 17,
   "metadata": {
    "id": "wujKz6tXDSn0"
   },
   "outputs": [
    {
     "name": "stdout",
     "output_type": "stream",
     "text": [
      "Epoch 1/100\n"
     ]
    },
    {
     "name": "stderr",
     "output_type": "stream",
     "text": [
      "2022-09-26 19:14:13.904064: I tensorflow/core/grappler/optimizers/custom_graph_optimizer_registry.cc:113] Plugin optimizer for device_type GPU is enabled.\n",
      "2022-09-26 19:14:14.270778: I tensorflow/core/grappler/optimizers/custom_graph_optimizer_registry.cc:113] Plugin optimizer for device_type GPU is enabled.\n",
      "2022-09-26 19:14:14.281581: I tensorflow/core/grappler/optimizers/custom_graph_optimizer_registry.cc:113] Plugin optimizer for device_type GPU is enabled.\n",
      "2022-09-26 19:14:14.347094: I tensorflow/core/grappler/optimizers/custom_graph_optimizer_registry.cc:113] Plugin optimizer for device_type GPU is enabled.\n",
      "2022-09-26 19:14:14.358504: I tensorflow/core/grappler/optimizers/custom_graph_optimizer_registry.cc:113] Plugin optimizer for device_type GPU is enabled.\n",
      "2022-09-26 19:14:14.482354: I tensorflow/core/grappler/optimizers/custom_graph_optimizer_registry.cc:113] Plugin optimizer for device_type GPU is enabled.\n",
      "2022-09-26 19:14:14.498255: I tensorflow/core/grappler/optimizers/custom_graph_optimizer_registry.cc:113] Plugin optimizer for device_type GPU is enabled.\n",
      "2022-09-26 19:14:14.622745: I tensorflow/core/grappler/optimizers/custom_graph_optimizer_registry.cc:113] Plugin optimizer for device_type GPU is enabled.\n",
      "2022-09-26 19:14:14.639481: I tensorflow/core/grappler/optimizers/custom_graph_optimizer_registry.cc:113] Plugin optimizer for device_type GPU is enabled.\n"
     ]
    },
    {
     "name": "stdout",
     "output_type": "stream",
     "text": [
      "     31/Unknown - 4s 37ms/step - loss: 17.7992 - mae: 18.2923"
     ]
    },
    {
     "name": "stderr",
     "output_type": "stream",
     "text": [
      "2022-09-26 19:14:16.318107: I tensorflow/core/grappler/optimizers/custom_graph_optimizer_registry.cc:113] Plugin optimizer for device_type GPU is enabled.\n",
      "2022-09-26 19:14:16.459857: I tensorflow/core/grappler/optimizers/custom_graph_optimizer_registry.cc:113] Plugin optimizer for device_type GPU is enabled.\n",
      "2022-09-26 19:14:16.467454: I tensorflow/core/grappler/optimizers/custom_graph_optimizer_registry.cc:113] Plugin optimizer for device_type GPU is enabled.\n",
      "2022-09-26 19:14:16.525582: I tensorflow/core/grappler/optimizers/custom_graph_optimizer_registry.cc:113] Plugin optimizer for device_type GPU is enabled.\n",
      "2022-09-26 19:14:16.533543: I tensorflow/core/grappler/optimizers/custom_graph_optimizer_registry.cc:113] Plugin optimizer for device_type GPU is enabled.\n"
     ]
    },
    {
     "name": "stdout",
     "output_type": "stream",
     "text": [
      "31/31 [==============================] - 5s 74ms/step - loss: 17.7992 - mae: 18.2923 - val_loss: 32.1948 - val_mae: 32.6934\n",
      "Epoch 2/100\n",
      "31/31 [==============================] - 1s 37ms/step - loss: 10.9340 - mae: 11.4214 - val_loss: 21.2044 - val_mae: 21.7024\n",
      "Epoch 3/100\n",
      "31/31 [==============================] - 1s 37ms/step - loss: 8.6055 - mae: 9.0887 - val_loss: 16.2425 - val_mae: 16.7389\n",
      "Epoch 4/100\n",
      "31/31 [==============================] - 1s 37ms/step - loss: 7.9700 - mae: 8.4497 - val_loss: 13.5462 - val_mae: 14.0392\n",
      "Epoch 5/100\n",
      "31/31 [==============================] - 1s 37ms/step - loss: 7.6593 - mae: 8.1367 - val_loss: 12.3162 - val_mae: 12.8068\n",
      "Epoch 6/100\n",
      "31/31 [==============================] - 1s 37ms/step - loss: 7.5154 - mae: 7.9952 - val_loss: 12.6770 - val_mae: 13.1687\n",
      "Epoch 7/100\n",
      "31/31 [==============================] - 1s 37ms/step - loss: 7.2282 - mae: 7.7055 - val_loss: 11.8541 - val_mae: 12.3491\n",
      "Epoch 8/100\n",
      "31/31 [==============================] - 1s 37ms/step - loss: 7.0440 - mae: 7.5251 - val_loss: 10.2054 - val_mae: 10.6960\n",
      "Epoch 9/100\n",
      "31/31 [==============================] - 1s 37ms/step - loss: 6.9015 - mae: 7.3808 - val_loss: 11.7686 - val_mae: 12.2628\n",
      "Epoch 10/100\n",
      "31/31 [==============================] - 1s 37ms/step - loss: 6.7559 - mae: 7.2389 - val_loss: 10.0146 - val_mae: 10.5033\n",
      "Epoch 11/100\n",
      "31/31 [==============================] - 1s 37ms/step - loss: 6.8217 - mae: 7.2991 - val_loss: 11.5501 - val_mae: 12.0443\n",
      "Epoch 12/100\n",
      "31/31 [==============================] - 1s 37ms/step - loss: 6.4300 - mae: 6.9051 - val_loss: 10.6699 - val_mae: 11.1631\n",
      "Epoch 13/100\n",
      "31/31 [==============================] - 1s 37ms/step - loss: 6.3867 - mae: 6.8694 - val_loss: 10.6732 - val_mae: 11.1651\n",
      "Epoch 14/100\n",
      "31/31 [==============================] - 1s 37ms/step - loss: 6.1547 - mae: 6.6363 - val_loss: 9.9239 - val_mae: 10.4160\n",
      "Epoch 15/100\n",
      "31/31 [==============================] - 1s 37ms/step - loss: 5.9924 - mae: 6.4701 - val_loss: 8.6368 - val_mae: 9.1214\n",
      "Epoch 16/100\n",
      "31/31 [==============================] - 1s 37ms/step - loss: 5.8776 - mae: 6.3560 - val_loss: 8.5487 - val_mae: 9.0348\n",
      "Epoch 17/100\n",
      "31/31 [==============================] - 1s 37ms/step - loss: 5.7483 - mae: 6.2249 - val_loss: 8.3254 - val_mae: 8.8128\n",
      "Epoch 18/100\n",
      "31/31 [==============================] - 1s 37ms/step - loss: 5.6541 - mae: 6.1341 - val_loss: 8.0047 - val_mae: 8.4924\n",
      "Epoch 19/100\n",
      "31/31 [==============================] - 1s 37ms/step - loss: 5.6368 - mae: 6.1134 - val_loss: 8.8090 - val_mae: 9.3010\n",
      "Epoch 20/100\n",
      "31/31 [==============================] - 1s 37ms/step - loss: 5.4459 - mae: 5.9202 - val_loss: 6.7925 - val_mae: 7.2776\n",
      "Epoch 21/100\n",
      "31/31 [==============================] - 1s 37ms/step - loss: 5.4383 - mae: 5.9171 - val_loss: 6.5551 - val_mae: 7.0320\n",
      "Epoch 22/100\n",
      "31/31 [==============================] - 1s 37ms/step - loss: 5.4016 - mae: 5.8763 - val_loss: 6.6584 - val_mae: 7.1399\n",
      "Epoch 23/100\n",
      "31/31 [==============================] - 1s 38ms/step - loss: 5.2724 - mae: 5.7523 - val_loss: 6.1546 - val_mae: 6.6368\n",
      "Epoch 24/100\n",
      "31/31 [==============================] - 1s 37ms/step - loss: 5.2180 - mae: 5.6964 - val_loss: 5.8853 - val_mae: 6.3688\n",
      "Epoch 25/100\n",
      "31/31 [==============================] - 1s 37ms/step - loss: 5.1322 - mae: 5.6086 - val_loss: 6.6424 - val_mae: 7.1249\n",
      "Epoch 26/100\n",
      "31/31 [==============================] - 1s 37ms/step - loss: 5.0920 - mae: 5.5649 - val_loss: 5.7083 - val_mae: 6.1909\n",
      "Epoch 27/100\n",
      "31/31 [==============================] - 1s 37ms/step - loss: 5.1119 - mae: 5.5870 - val_loss: 7.4118 - val_mae: 7.8990\n",
      "Epoch 28/100\n",
      "31/31 [==============================] - 1s 37ms/step - loss: 5.1604 - mae: 5.6349 - val_loss: 6.7987 - val_mae: 7.2828\n",
      "Epoch 29/100\n",
      "31/31 [==============================] - 1s 37ms/step - loss: 5.0593 - mae: 5.5350 - val_loss: 6.2225 - val_mae: 6.7022\n",
      "Epoch 30/100\n",
      "31/31 [==============================] - 1s 38ms/step - loss: 5.0311 - mae: 5.5083 - val_loss: 6.3231 - val_mae: 6.8013\n",
      "Epoch 31/100\n",
      "31/31 [==============================] - 1s 37ms/step - loss: 4.8951 - mae: 5.3715 - val_loss: 5.9182 - val_mae: 6.4075\n",
      "Epoch 32/100\n",
      "31/31 [==============================] - 1s 39ms/step - loss: 4.9874 - mae: 5.4642 - val_loss: 6.0026 - val_mae: 6.4901\n",
      "Epoch 33/100\n",
      "31/31 [==============================] - 1s 37ms/step - loss: 4.8928 - mae: 5.3702 - val_loss: 5.8507 - val_mae: 6.3358\n",
      "Epoch 34/100\n",
      "31/31 [==============================] - 1s 37ms/step - loss: 4.9412 - mae: 5.4163 - val_loss: 6.2997 - val_mae: 6.7783\n",
      "Epoch 35/100\n",
      "31/31 [==============================] - 1s 38ms/step - loss: 4.8625 - mae: 5.3381 - val_loss: 6.6865 - val_mae: 7.1685\n",
      "Epoch 36/100\n",
      "31/31 [==============================] - 1s 38ms/step - loss: 4.7856 - mae: 5.2611 - val_loss: 6.2629 - val_mae: 6.7415\n",
      "Epoch 37/100\n",
      "31/31 [==============================] - 1s 37ms/step - loss: 4.7556 - mae: 5.2313 - val_loss: 6.5865 - val_mae: 7.0672\n",
      "Epoch 38/100\n",
      "31/31 [==============================] - 1s 40ms/step - loss: 4.7667 - mae: 5.2416 - val_loss: 5.6516 - val_mae: 6.1312\n",
      "Epoch 39/100\n",
      "31/31 [==============================] - 1s 40ms/step - loss: 4.9118 - mae: 5.3835 - val_loss: 5.7731 - val_mae: 6.2545\n",
      "Epoch 40/100\n",
      "31/31 [==============================] - 1s 37ms/step - loss: 4.6996 - mae: 5.1700 - val_loss: 6.8568 - val_mae: 7.3404\n",
      "Epoch 41/100\n",
      "31/31 [==============================] - 1s 38ms/step - loss: 4.7592 - mae: 5.2339 - val_loss: 6.9524 - val_mae: 7.4353\n",
      "Epoch 42/100\n",
      "31/31 [==============================] - 1s 37ms/step - loss: 4.7001 - mae: 5.1715 - val_loss: 6.3729 - val_mae: 6.8498\n",
      "Epoch 43/100\n",
      "31/31 [==============================] - 1s 37ms/step - loss: 4.7780 - mae: 5.2548 - val_loss: 6.4635 - val_mae: 6.9422\n",
      "Epoch 44/100\n",
      "31/31 [==============================] - 1s 37ms/step - loss: 4.7101 - mae: 5.1889 - val_loss: 5.8460 - val_mae: 6.3323\n",
      "Epoch 45/100\n",
      "31/31 [==============================] - 1s 37ms/step - loss: 4.6403 - mae: 5.1175 - val_loss: 5.9652 - val_mae: 6.4462\n",
      "Epoch 46/100\n",
      "31/31 [==============================] - 1s 37ms/step - loss: 4.6987 - mae: 5.1766 - val_loss: 5.6424 - val_mae: 6.1210\n",
      "Epoch 47/100\n",
      "31/31 [==============================] - 1s 37ms/step - loss: 4.9177 - mae: 5.3959 - val_loss: 5.6186 - val_mae: 6.0985\n",
      "Epoch 48/100\n",
      "31/31 [==============================] - 1s 37ms/step - loss: 4.7940 - mae: 5.2747 - val_loss: 5.8085 - val_mae: 6.2957\n",
      "Epoch 49/100\n",
      "31/31 [==============================] - 1s 37ms/step - loss: 4.6789 - mae: 5.1562 - val_loss: 5.6823 - val_mae: 6.1648\n",
      "Epoch 50/100\n",
      "31/31 [==============================] - 1s 37ms/step - loss: 4.6524 - mae: 5.1309 - val_loss: 6.0442 - val_mae: 6.5226\n",
      "Epoch 51/100\n",
      "31/31 [==============================] - 1s 37ms/step - loss: 4.5834 - mae: 5.0566 - val_loss: 6.1584 - val_mae: 6.6358\n",
      "Epoch 52/100\n",
      "31/31 [==============================] - 1s 37ms/step - loss: 4.6551 - mae: 5.1315 - val_loss: 5.6601 - val_mae: 6.1447\n",
      "Epoch 53/100\n",
      "31/31 [==============================] - 1s 37ms/step - loss: 4.6900 - mae: 5.1674 - val_loss: 5.4920 - val_mae: 5.9674\n",
      "Epoch 54/100\n",
      "31/31 [==============================] - 1s 37ms/step - loss: 4.5764 - mae: 5.0565 - val_loss: 6.0539 - val_mae: 6.5337\n",
      "Epoch 55/100\n",
      "31/31 [==============================] - 1s 37ms/step - loss: 4.6154 - mae: 5.0942 - val_loss: 5.6470 - val_mae: 6.1333\n",
      "Epoch 56/100\n",
      "31/31 [==============================] - 1s 37ms/step - loss: 4.5869 - mae: 5.0654 - val_loss: 5.8059 - val_mae: 6.2872\n",
      "Epoch 57/100\n",
      "31/31 [==============================] - 1s 38ms/step - loss: 4.6137 - mae: 5.0897 - val_loss: 5.6855 - val_mae: 6.1720\n",
      "Epoch 58/100\n",
      "31/31 [==============================] - 1s 37ms/step - loss: 4.6740 - mae: 5.1527 - val_loss: 5.8355 - val_mae: 6.3157\n",
      "Epoch 59/100\n",
      "31/31 [==============================] - 1s 38ms/step - loss: 4.5448 - mae: 5.0199 - val_loss: 5.3756 - val_mae: 5.8541\n",
      "Epoch 60/100\n",
      "31/31 [==============================] - 1s 37ms/step - loss: 4.5747 - mae: 5.0492 - val_loss: 5.8063 - val_mae: 6.2875\n",
      "Epoch 61/100\n",
      "31/31 [==============================] - 1s 37ms/step - loss: 4.5536 - mae: 5.0282 - val_loss: 5.7544 - val_mae: 6.2359\n",
      "Epoch 62/100\n",
      "31/31 [==============================] - 1s 37ms/step - loss: 4.5303 - mae: 5.0077 - val_loss: 5.5652 - val_mae: 6.0491\n",
      "Epoch 63/100\n",
      "31/31 [==============================] - 1s 37ms/step - loss: 4.5423 - mae: 5.0179 - val_loss: 5.6941 - val_mae: 6.1756\n",
      "Epoch 64/100\n",
      "31/31 [==============================] - 1s 37ms/step - loss: 4.5612 - mae: 5.0380 - val_loss: 5.6003 - val_mae: 6.0841\n",
      "Epoch 65/100\n",
      "31/31 [==============================] - 1s 37ms/step - loss: 4.5340 - mae: 5.0102 - val_loss: 6.3087 - val_mae: 6.7904\n",
      "Epoch 66/100\n",
      "31/31 [==============================] - 1s 37ms/step - loss: 4.5642 - mae: 5.0392 - val_loss: 5.6144 - val_mae: 6.0963\n",
      "Epoch 67/100\n",
      "31/31 [==============================] - 1s 37ms/step - loss: 4.5593 - mae: 5.0320 - val_loss: 5.8777 - val_mae: 6.3599\n",
      "Epoch 68/100\n",
      "31/31 [==============================] - 1s 37ms/step - loss: 4.5159 - mae: 4.9934 - val_loss: 6.3021 - val_mae: 6.7850\n",
      "Epoch 69/100\n",
      "31/31 [==============================] - 1s 37ms/step - loss: 4.6667 - mae: 5.1425 - val_loss: 6.2199 - val_mae: 6.7018\n",
      "Epoch 70/100\n",
      "31/31 [==============================] - 1s 37ms/step - loss: 4.5050 - mae: 4.9785 - val_loss: 5.4296 - val_mae: 5.9102\n",
      "Epoch 71/100\n",
      "31/31 [==============================] - 1s 37ms/step - loss: 4.5199 - mae: 4.9960 - val_loss: 5.2768 - val_mae: 5.7549\n",
      "Epoch 72/100\n",
      "31/31 [==============================] - 1s 37ms/step - loss: 4.6172 - mae: 5.0928 - val_loss: 5.7960 - val_mae: 6.2779\n",
      "Epoch 73/100\n",
      "31/31 [==============================] - 1s 37ms/step - loss: 4.5010 - mae: 4.9744 - val_loss: 5.4939 - val_mae: 5.9781\n",
      "Epoch 74/100\n",
      "31/31 [==============================] - 1s 38ms/step - loss: 4.5174 - mae: 4.9906 - val_loss: 5.4148 - val_mae: 5.8949\n",
      "Epoch 75/100\n",
      "31/31 [==============================] - 1s 37ms/step - loss: 4.4892 - mae: 4.9632 - val_loss: 5.5441 - val_mae: 6.0265\n",
      "Epoch 76/100\n",
      "31/31 [==============================] - 1s 37ms/step - loss: 4.4882 - mae: 4.9612 - val_loss: 5.5979 - val_mae: 6.0794\n",
      "Epoch 77/100\n",
      "31/31 [==============================] - 1s 37ms/step - loss: 4.4709 - mae: 4.9457 - val_loss: 5.9842 - val_mae: 6.4630\n",
      "Epoch 78/100\n",
      "31/31 [==============================] - 1s 38ms/step - loss: 4.5321 - mae: 5.0084 - val_loss: 5.7579 - val_mae: 6.2376\n",
      "Epoch 79/100\n",
      "31/31 [==============================] - 1s 37ms/step - loss: 4.5690 - mae: 5.0427 - val_loss: 5.2153 - val_mae: 5.6899\n",
      "Epoch 80/100\n",
      "31/31 [==============================] - 1s 37ms/step - loss: 4.5849 - mae: 5.0617 - val_loss: 5.3162 - val_mae: 5.7959\n",
      "Epoch 81/100\n",
      "31/31 [==============================] - 1s 38ms/step - loss: 4.5513 - mae: 5.0306 - val_loss: 5.4862 - val_mae: 5.9681\n",
      "Epoch 82/100\n",
      "31/31 [==============================] - 1s 37ms/step - loss: 4.4520 - mae: 4.9261 - val_loss: 5.3130 - val_mae: 5.7926\n",
      "Epoch 83/100\n",
      "31/31 [==============================] - 1s 37ms/step - loss: 4.5199 - mae: 4.9926 - val_loss: 5.3485 - val_mae: 5.8303\n",
      "Epoch 84/100\n",
      "31/31 [==============================] - 1s 37ms/step - loss: 4.5664 - mae: 5.0433 - val_loss: 5.3108 - val_mae: 5.7907\n",
      "Epoch 85/100\n",
      "31/31 [==============================] - 1s 37ms/step - loss: 4.5585 - mae: 5.0335 - val_loss: 5.2976 - val_mae: 5.7773\n",
      "Epoch 86/100\n",
      "31/31 [==============================] - 1s 37ms/step - loss: 4.5560 - mae: 5.0310 - val_loss: 5.2470 - val_mae: 5.7262\n",
      "Epoch 87/100\n",
      "31/31 [==============================] - 1s 38ms/step - loss: 4.5925 - mae: 5.0685 - val_loss: 5.3645 - val_mae: 5.8481\n",
      "Epoch 88/100\n",
      "31/31 [==============================] - 1s 38ms/step - loss: 4.5320 - mae: 5.0077 - val_loss: 5.7723 - val_mae: 6.2532\n",
      "Epoch 89/100\n",
      "31/31 [==============================] - 1s 39ms/step - loss: 4.5068 - mae: 4.9795 - val_loss: 6.5762 - val_mae: 7.0561\n",
      "Epoch 90/100\n",
      "31/31 [==============================] - 1s 38ms/step - loss: 4.6105 - mae: 5.0866 - val_loss: 5.8279 - val_mae: 6.3075\n",
      "Epoch 91/100\n",
      "31/31 [==============================] - 1s 37ms/step - loss: 4.4373 - mae: 4.9144 - val_loss: 6.2443 - val_mae: 6.7262\n",
      "Epoch 92/100\n",
      "31/31 [==============================] - 1s 37ms/step - loss: 4.4668 - mae: 4.9437 - val_loss: 5.7787 - val_mae: 6.2590\n",
      "Epoch 93/100\n",
      "31/31 [==============================] - 1s 37ms/step - loss: 4.4790 - mae: 4.9547 - val_loss: 5.3057 - val_mae: 5.7848\n",
      "Epoch 94/100\n",
      "31/31 [==============================] - 1s 38ms/step - loss: 4.4686 - mae: 4.9468 - val_loss: 5.1755 - val_mae: 5.6545\n",
      "Epoch 95/100\n",
      "31/31 [==============================] - 1s 37ms/step - loss: 4.5672 - mae: 5.0454 - val_loss: 5.7203 - val_mae: 6.2004\n",
      "Epoch 96/100\n",
      "31/31 [==============================] - 1s 38ms/step - loss: 4.4863 - mae: 4.9614 - val_loss: 5.7687 - val_mae: 6.2484\n",
      "Epoch 97/100\n",
      "31/31 [==============================] - 1s 38ms/step - loss: 4.4771 - mae: 4.9566 - val_loss: 5.7276 - val_mae: 6.2074\n",
      "Epoch 98/100\n",
      "31/31 [==============================] - 1s 37ms/step - loss: 4.5151 - mae: 4.9883 - val_loss: 6.0217 - val_mae: 6.5019\n",
      "Epoch 99/100\n",
      "31/31 [==============================] - 1s 37ms/step - loss: 4.5272 - mae: 5.0063 - val_loss: 5.2754 - val_mae: 5.7501\n",
      "Epoch 100/100\n",
      "31/31 [==============================] - 1s 38ms/step - loss: 4.4635 - mae: 4.9406 - val_loss: 5.3472 - val_mae: 5.8284\n"
     ]
    }
   ],
   "source": [
    "# Reset states generated by Keras\n",
    "tf.keras.backend.clear_session()\n",
    "\n",
    "# Build the model\n",
    "model = tf.keras.models.Sequential([\n",
    "  tf.keras.layers.Lambda(lambda x: tf.expand_dims(x, axis=-1),\n",
    "                      input_shape=[None]),\n",
    "   tf.keras.layers.Bidirectional(tf.keras.layers.LSTM(32, return_sequences=True)),\n",
    "  tf.keras.layers.Bidirectional(tf.keras.layers.LSTM(32)),\n",
    "  tf.keras.layers.Dense(1),\n",
    "  tf.keras.layers.Lambda(lambda x: x * 100.0)\n",
    "])\n",
    "\n",
    "# Set the learning rate\n",
    "learning_rate = 2e-6\n",
    "\n",
    "# Set the optimizer \n",
    "optimizer = tf.keras.optimizers.SGD(learning_rate=learning_rate, momentum=0.9)\n",
    "\n",
    "# Set the training parameters\n",
    "model.compile(loss=tf.keras.losses.Huber(),\n",
    "              optimizer=optimizer,\n",
    "              metrics=[\"mae\"])\n",
    "\n",
    "# Train the model\n",
    "history = model.fit(dataset,epochs=100, validation_data=val_set)"
   ]
  },
  {
   "cell_type": "code",
   "execution_count": null,
   "metadata": {},
   "outputs": [],
   "source": []
  }
 ],
 "metadata": {
  "accelerator": "GPU",
  "colab": {
   "collapsed_sections": [],
   "name": "C4_W3_Lab_2_LSTM.ipynb",
   "private_outputs": true,
   "provenance": []
  },
  "kernelspec": {
   "display_name": "Python 3 (ipykernel)",
   "language": "python",
   "name": "python3"
  },
  "language_info": {
   "codemirror_mode": {
    "name": "ipython",
    "version": 3
   },
   "file_extension": ".py",
   "mimetype": "text/x-python",
   "name": "python",
   "nbconvert_exporter": "python",
   "pygments_lexer": "ipython3",
   "version": "3.9.13"
  }
 },
 "nbformat": 4,
 "nbformat_minor": 4
}
