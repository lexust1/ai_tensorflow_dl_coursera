{
 "cells": [
  {
   "cell_type": "markdown",
   "metadata": {},
   "source": [
    "<a href=\"https://colab.research.google.com/github/https-deeplearning-ai/tensorflow-1-public/blob/main/C4/W2/ungraded_labs/C4_W2_Lab_3_deep_NN.ipynb\" target=\"_parent\"><img src=\"https://colab.research.google.com/assets/colab-badge.svg\" alt=\"Open In Colab\"/></a>"
   ]
  },
  {
   "cell_type": "markdown",
   "metadata": {
    "id": "dxFGlX1S53mg"
   },
   "source": [
    "# Ungraded Lab: Training a Deep Neural Network with Time Series Data\n",
    "\n",
    "In this lab, you will build upon the previous exercise and add more dense layers to your network. You will also look at a technique to tune the model's learning rate to make the weights converge faster. This is a useful tip so you can avoid guessing the learning rate before training.\n",
    "\n",
    "The initial steps will be identical to the previous lab so you can run the next cells until the `Build the Model` section. That's where the discussions begin."
   ]
  },
  {
   "cell_type": "markdown",
   "metadata": {
    "id": "w5S4XCUZ6GH7"
   },
   "source": [
    "## Imports"
   ]
  },
  {
   "cell_type": "code",
   "execution_count": 1,
   "metadata": {
    "id": "BOjujz601HcS"
   },
   "outputs": [],
   "source": [
    "import tensorflow as tf\n",
    "import numpy as np\n",
    "import matplotlib.pyplot as plt"
   ]
  },
  {
   "cell_type": "markdown",
   "metadata": {
    "id": "tjC8TSkp6IiH"
   },
   "source": [
    "## Utilities"
   ]
  },
  {
   "cell_type": "code",
   "execution_count": 2,
   "metadata": {
    "id": "Zswl7jRtGzkk"
   },
   "outputs": [],
   "source": [
    "def plot_series(time, series, format=\"-\", start=0, end=None):\n",
    "    \"\"\"\n",
    "    Visualizes time series data\n",
    "\n",
    "    Args:\n",
    "      time (array of int) - contains the time steps\n",
    "      series (array of int) - contains the measurements for each time step\n",
    "      format - line style when plotting the graph\n",
    "      label - tag for the line\n",
    "      start - first time step to plot\n",
    "      end - last time step to plot\n",
    "    \"\"\"\n",
    "\n",
    "    # Setup dimensions of the graph figure\n",
    "    plt.figure(figsize=(10, 6))\n",
    "    \n",
    "    if type(series) is tuple:\n",
    "\n",
    "      for series_num in series:\n",
    "        # Plot the time series data\n",
    "        plt.plot(time[start:end], series_num[start:end], format)\n",
    "\n",
    "    else:\n",
    "      # Plot the time series data\n",
    "      plt.plot(time[start:end], series[start:end], format)\n",
    "\n",
    "    # Label the x-axis\n",
    "    plt.xlabel(\"Time\")\n",
    "\n",
    "    # Label the y-axis\n",
    "    plt.ylabel(\"Value\")\n",
    "\n",
    "    # Overlay a grid on the graph\n",
    "    plt.grid(True)\n",
    "\n",
    "    # Draw the graph on screen\n",
    "    plt.show()\n",
    "\n",
    "def trend(time, slope=0):\n",
    "    \"\"\"\n",
    "    Generates synthetic data that follows a straight line given a slope value.\n",
    "\n",
    "    Args:\n",
    "      time (array of int) - contains the time steps\n",
    "      slope (float) - determines the direction and steepness of the line\n",
    "\n",
    "    Returns:\n",
    "      series (array of float) - measurements that follow a straight line\n",
    "    \"\"\"\n",
    "\n",
    "    # Compute the linear series given the slope\n",
    "    series = slope * time\n",
    "\n",
    "    return series\n",
    "\n",
    "def seasonal_pattern(season_time):\n",
    "    \"\"\"\n",
    "    Just an arbitrary pattern, you can change it if you wish\n",
    "    \n",
    "    Args:\n",
    "      season_time (array of float) - contains the measurements per time step\n",
    "\n",
    "    Returns:\n",
    "      data_pattern (array of float) -  contains revised measurement values according \n",
    "                                  to the defined pattern\n",
    "    \"\"\"\n",
    "\n",
    "    # Generate the values using an arbitrary pattern\n",
    "    data_pattern = np.where(season_time < 0.4,\n",
    "                    np.cos(season_time * 2 * np.pi),\n",
    "                    1 / np.exp(3 * season_time))\n",
    "    \n",
    "    return data_pattern\n",
    "\n",
    "def seasonality(time, period, amplitude=1, phase=0):\n",
    "    \"\"\"\n",
    "    Repeats the same pattern at each period\n",
    "\n",
    "    Args:\n",
    "      time (array of int) - contains the time steps\n",
    "      period (int) - number of time steps before the pattern repeats\n",
    "      amplitude (int) - peak measured value in a period\n",
    "      phase (int) - number of time steps to shift the measured values\n",
    "\n",
    "    Returns:\n",
    "      data_pattern (array of float) - seasonal data scaled by the defined amplitude\n",
    "    \"\"\"\n",
    "    \n",
    "    # Define the measured values per period\n",
    "    season_time = ((time + phase) % period) / period\n",
    "\n",
    "    # Generates the seasonal data scaled by the defined amplitude\n",
    "    data_pattern = amplitude * seasonal_pattern(season_time)\n",
    "\n",
    "    return data_pattern\n",
    "\n",
    "def noise(time, noise_level=1, seed=None):\n",
    "    \"\"\"Generates a normally distributed noisy signal\n",
    "\n",
    "    Args:\n",
    "      time (array of int) - contains the time steps\n",
    "      noise_level (float) - scaling factor for the generated signal\n",
    "      seed (int) - number generator seed for repeatability\n",
    "\n",
    "    Returns:\n",
    "      noise (array of float) - the noisy signal\n",
    "    \"\"\"\n",
    "\n",
    "    # Initialize the random number generator\n",
    "    rnd = np.random.RandomState(seed)\n",
    "\n",
    "    # Generate a random number for each time step and scale by the noise level\n",
    "    noise = rnd.randn(len(time)) * noise_level\n",
    "    \n",
    "    return noise"
   ]
  },
  {
   "cell_type": "markdown",
   "metadata": {
    "id": "Z1CL6Bh86TS1"
   },
   "source": [
    "## Generate the Synthetic Data"
   ]
  },
  {
   "cell_type": "code",
   "execution_count": 3,
   "metadata": {
    "id": "5MFtI3X1FErU"
   },
   "outputs": [
    {
     "data": {
      "image/png": "[encoded data removed]",
      "text/plain": [
       "<Figure size 720x432 with 1 Axes>"
      ]
     },
     "metadata": {
      "needs_background": "light"
     },
     "output_type": "display_data"
    }
   ],
   "source": [
    "# Parameters\n",
    "time = np.arange(4 * 365 + 1, dtype=\"float32\")\n",
    "baseline = 10\n",
    "amplitude = 40\n",
    "slope = 0.05\n",
    "noise_level = 5\n",
    "\n",
    "# Create the series\n",
    "series = baseline + trend(time, slope) + seasonality(time, period=365, amplitude=amplitude)\n",
    "\n",
    "# Update with noise\n",
    "series += noise(time, noise_level, seed=42)\n",
    "\n",
    "# Plot the results\n",
    "plot_series(time, series)"
   ]
  },
  {
   "cell_type": "markdown",
   "metadata": {
    "id": "t2YvxWcI6lnB"
   },
   "source": [
    "## Split the Dataset"
   ]
  },
  {
   "cell_type": "code",
   "execution_count": 4,
   "metadata": {
    "id": "Db9kkYnOFKYr"
   },
   "outputs": [],
   "source": [
    "# Define the split time\n",
    "split_time = 1000\n",
    "\n",
    "# Get the train set \n",
    "time_train = time[:split_time]\n",
    "x_train = series[:split_time]\n",
    "\n",
    "# Get the validation set\n",
    "time_valid = time[split_time:]\n",
    "x_valid = series[split_time:]"
   ]
  },
  {
   "cell_type": "markdown",
   "metadata": {
    "id": "XH-0FgXN6zHA"
   },
   "source": [
    "## Prepare Features and Labels"
   ]
  },
  {
   "cell_type": "code",
   "execution_count": 5,
   "metadata": {
    "id": "AyBwNWO1FVTS"
   },
   "outputs": [],
   "source": [
    "# Parameters\n",
    "window_size = 20\n",
    "batch_size = 32\n",
    "shuffle_buffer_size = 1000"
   ]
  },
  {
   "cell_type": "code",
   "execution_count": 6,
   "metadata": {
    "id": "4sTTIOCbyShY"
   },
   "outputs": [],
   "source": [
    "def windowed_dataset(series, window_size, batch_size, shuffle_buffer):\n",
    "    \"\"\"Generates dataset windows\n",
    "\n",
    "    Args:\n",
    "      series (array of float) - contains the values of the time series\n",
    "      window_size (int) - the number of time steps to average\n",
    "      batch_size (int) - the batch size\n",
    "      shuffle_buffer(int) - buffer size to use for the shuffle method\n",
    "\n",
    "    Returns:\n",
    "      dataset (TF Dataset) - TF Dataset containing time windows\n",
    "    \"\"\"\n",
    "  \n",
    "    # Generate a TF Dataset from the series values\n",
    "    dataset = tf.data.Dataset.from_tensor_slices(series)\n",
    "    \n",
    "    # Window the data but only take those with the specified size\n",
    "    dataset = dataset.window(window_size + 1, shift=1, drop_remainder=True)\n",
    "    \n",
    "    # Flatten the windows by putting its elements in a single batch\n",
    "    dataset = dataset.flat_map(lambda window: window.batch(window_size + 1))\n",
    "\n",
    "    # Create tuples with features and labels \n",
    "    dataset = dataset.map(lambda window: (window[:-1], window[-1]))\n",
    "\n",
    "    # Shuffle the windows\n",
    "    dataset = dataset.shuffle(shuffle_buffer)\n",
    "    \n",
    "    # Create batches of windows\n",
    "    dataset = dataset.batch(batch_size).prefetch(1)\n",
    "    \n",
    "    return dataset"
   ]
  },
  {
   "cell_type": "code",
   "execution_count": 7,
   "metadata": {
    "id": "AdNN0s9qFnTg"
   },
   "outputs": [
    {
     "name": "stdout",
     "output_type": "stream",
     "text": [
      "Metal device set to: Apple M1\n"
     ]
    },
    {
     "name": "stderr",
     "output_type": "stream",
     "text": [
      "2022-09-20 17:08:46.252849: I tensorflow/core/common_runtime/pluggable_device/pluggable_device_factory.cc:305] Could not identify NUMA node of platform GPU ID 0, defaulting to 0. Your kernel may not have been built with NUMA support.\n",
      "2022-09-20 17:08:46.253407: I tensorflow/core/common_runtime/pluggable_device/pluggable_device_factory.cc:271] Created TensorFlow device (/job:localhost/replica:0/task:0/device:GPU:0 with 0 MB memory) -> physical PluggableDevice (device: 0, name: METAL, pci bus id: <undefined>)\n"
     ]
    }
   ],
   "source": [
    "# Generate the dataset windows\n",
    "dataset = windowed_dataset(x_train, window_size, batch_size, shuffle_buffer_size)"
   ]
  },
  {
   "cell_type": "markdown",
   "metadata": {
    "id": "ths8EcjQ7CG3"
   },
   "source": [
    "## Build the Model\n",
    "\n",
    "You will use three dense layers in this exercise as shown below. As expected, the number of trainable parameters will increase and the model summary shows that it is more than tenfold of the previous lab."
   ]
  },
  {
   "cell_type": "code",
   "execution_count": 8,
   "metadata": {
    "id": "TW-vT7eLYAdb"
   },
   "outputs": [
    {
     "name": "stdout",
     "output_type": "stream",
     "text": [
      "Model: \"sequential\"\n",
      "_________________________________________________________________\n",
      " Layer (type)                Output Shape              Param #   \n",
      "=================================================================\n",
      " dense (Dense)               (None, 10)                210       \n",
      "                                                                 \n",
      " dense_1 (Dense)             (None, 10)                110       \n",
      "                                                                 \n",
      " dense_2 (Dense)             (None, 1)                 11        \n",
      "                                                                 \n",
      "=================================================================\n",
      "Total params: 331\n",
      "Trainable params: 331\n",
      "Non-trainable params: 0\n",
      "_________________________________________________________________\n"
     ]
    }
   ],
   "source": [
    "# Build the model\n",
    "model_baseline = tf.keras.models.Sequential([\n",
    "    tf.keras.layers.Dense(10, input_shape=[window_size], activation=\"relu\"), \n",
    "    tf.keras.layers.Dense(10, activation=\"relu\"), \n",
    "    tf.keras.layers.Dense(1)\n",
    "])\n",
    "\n",
    "# Print the model summary\n",
    "model_baseline.summary()"
   ]
  },
  {
   "cell_type": "markdown",
   "metadata": {
    "id": "4xWDKTGR7XQd"
   },
   "source": [
    "## Train the Model\n",
    "\n",
    "You will then compile and train the model using the same settings as before. Observe how the loss is decreasing because you will revisit it later in this lab."
   ]
  },
  {
   "cell_type": "code",
   "execution_count": 9,
   "metadata": {
    "id": "unwiKhWn7nqS"
   },
   "outputs": [],
   "source": [
    "# Set the training parameters\n",
    "model_baseline.compile(loss=\"mse\", optimizer=tf.keras.optimizers.SGD(learning_rate=1e-6, momentum=0.9))"
   ]
  },
  {
   "cell_type": "code",
   "execution_count": 10,
   "metadata": {
    "id": "zqVlvuneFqJz"
   },
   "outputs": [
    {
     "name": "stdout",
     "output_type": "stream",
     "text": [
      "Epoch 1/100\n"
     ]
    },
    {
     "name": "stderr",
     "output_type": "stream",
     "text": [
      "2022-09-20 17:09:31.230377: W tensorflow/core/platform/profile_utils/cpu_utils.cc:128] Failed to get CPU frequency: 0 Hz\n",
      "2022-09-20 17:09:31.230846: I tensorflow/core/grappler/optimizers/custom_graph_optimizer_registry.cc:113] Plugin optimizer for device_type GPU is enabled.\n"
     ]
    },
    {
     "name": "stdout",
     "output_type": "stream",
     "text": [
      "31/31 [==============================] - 2s 12ms/step - loss: 939.9407\n",
      "Epoch 2/100\n",
      "31/31 [==============================] - 0s 3ms/step - loss: 91.4129\n",
      "Epoch 3/100\n",
      "31/31 [==============================] - 0s 3ms/step - loss: 75.8166\n",
      "Epoch 4/100\n",
      "31/31 [==============================] - 0s 4ms/step - loss: 73.0919\n",
      "Epoch 5/100\n",
      "31/31 [==============================] - 0s 3ms/step - loss: 72.0000\n",
      "Epoch 6/100\n",
      "31/31 [==============================] - 0s 3ms/step - loss: 70.1996\n",
      "Epoch 7/100\n",
      "31/31 [==============================] - 0s 3ms/step - loss: 69.0325\n",
      "Epoch 8/100\n",
      "31/31 [==============================] - 0s 3ms/step - loss: 67.5591\n",
      "Epoch 9/100\n",
      "31/31 [==============================] - 0s 3ms/step - loss: 66.2410\n",
      "Epoch 10/100\n",
      "31/31 [==============================] - 0s 3ms/step - loss: 65.7416\n",
      "Epoch 11/100\n",
      "31/31 [==============================] - 0s 3ms/step - loss: 64.1152\n",
      "Epoch 12/100\n",
      "31/31 [==============================] - 0s 3ms/step - loss: 63.1164\n",
      "Epoch 13/100\n",
      "31/31 [==============================] - 0s 3ms/step - loss: 62.6587\n",
      "Epoch 14/100\n",
      "31/31 [==============================] - 0s 3ms/step - loss: 61.9340\n",
      "Epoch 15/100\n",
      "31/31 [==============================] - 0s 3ms/step - loss: 61.6224\n",
      "Epoch 16/100\n",
      "31/31 [==============================] - 0s 3ms/step - loss: 60.8306\n",
      "Epoch 17/100\n",
      "31/31 [==============================] - 0s 3ms/step - loss: 60.5985\n",
      "Epoch 18/100\n",
      "31/31 [==============================] - 0s 3ms/step - loss: 59.6557\n",
      "Epoch 19/100\n",
      "31/31 [==============================] - 0s 3ms/step - loss: 58.6510\n",
      "Epoch 20/100\n",
      "31/31 [==============================] - 0s 3ms/step - loss: 58.0556\n",
      "Epoch 21/100\n",
      "31/31 [==============================] - 0s 3ms/step - loss: 57.8628\n",
      "Epoch 22/100\n",
      "31/31 [==============================] - 0s 3ms/step - loss: 57.1054\n",
      "Epoch 23/100\n",
      "31/31 [==============================] - 0s 3ms/step - loss: 57.0019\n",
      "Epoch 24/100\n",
      "31/31 [==============================] - 0s 3ms/step - loss: 56.4111\n",
      "Epoch 25/100\n",
      "31/31 [==============================] - 0s 3ms/step - loss: 55.7549\n",
      "Epoch 26/100\n",
      "31/31 [==============================] - 0s 3ms/step - loss: 55.8337\n",
      "Epoch 27/100\n",
      "31/31 [==============================] - 0s 3ms/step - loss: 55.5148\n",
      "Epoch 28/100\n",
      "31/31 [==============================] - 0s 3ms/step - loss: 54.9799\n",
      "Epoch 29/100\n",
      "31/31 [==============================] - 0s 3ms/step - loss: 54.4627\n",
      "Epoch 30/100\n",
      "31/31 [==============================] - 0s 3ms/step - loss: 54.3042\n",
      "Epoch 31/100\n",
      "31/31 [==============================] - 0s 3ms/step - loss: 53.7728\n",
      "Epoch 32/100\n",
      "31/31 [==============================] - 0s 3ms/step - loss: 53.9218\n",
      "Epoch 33/100\n",
      "31/31 [==============================] - 0s 3ms/step - loss: 54.5270\n",
      "Epoch 34/100\n",
      "31/31 [==============================] - 0s 4ms/step - loss: 53.2784\n",
      "Epoch 35/100\n",
      "31/31 [==============================] - 0s 3ms/step - loss: 52.9111\n",
      "Epoch 36/100\n",
      "31/31 [==============================] - 0s 3ms/step - loss: 53.1479\n",
      "Epoch 37/100\n",
      "31/31 [==============================] - 0s 3ms/step - loss: 52.4423\n",
      "Epoch 38/100\n",
      "31/31 [==============================] - 0s 3ms/step - loss: 52.5024\n",
      "Epoch 39/100\n",
      "31/31 [==============================] - 0s 3ms/step - loss: 51.8402\n",
      "Epoch 40/100\n",
      "31/31 [==============================] - 0s 3ms/step - loss: 51.7429\n",
      "Epoch 41/100\n",
      "31/31 [==============================] - 0s 3ms/step - loss: 51.6574\n",
      "Epoch 42/100\n",
      "31/31 [==============================] - 0s 3ms/step - loss: 51.8072\n",
      "Epoch 43/100\n",
      "31/31 [==============================] - 0s 3ms/step - loss: 51.2894\n",
      "Epoch 44/100\n",
      "31/31 [==============================] - 0s 3ms/step - loss: 50.9534\n",
      "Epoch 45/100\n",
      "31/31 [==============================] - 0s 3ms/step - loss: 51.4983\n",
      "Epoch 46/100\n",
      "31/31 [==============================] - 0s 3ms/step - loss: 50.5810\n",
      "Epoch 47/100\n",
      "31/31 [==============================] - 0s 3ms/step - loss: 50.4628\n",
      "Epoch 48/100\n",
      "31/31 [==============================] - 0s 3ms/step - loss: 50.1925\n",
      "Epoch 49/100\n",
      "31/31 [==============================] - 0s 3ms/step - loss: 50.1471\n",
      "Epoch 50/100\n",
      "31/31 [==============================] - 0s 3ms/step - loss: 50.1162\n",
      "Epoch 51/100\n",
      "31/31 [==============================] - 0s 3ms/step - loss: 49.7716\n",
      "Epoch 52/100\n",
      "31/31 [==============================] - 0s 3ms/step - loss: 49.7499\n",
      "Epoch 53/100\n",
      "31/31 [==============================] - 0s 3ms/step - loss: 49.7217\n",
      "Epoch 54/100\n",
      "31/31 [==============================] - 0s 3ms/step - loss: 49.5044\n",
      "Epoch 55/100\n",
      "31/31 [==============================] - 0s 3ms/step - loss: 49.3601\n",
      "Epoch 56/100\n",
      "31/31 [==============================] - 0s 3ms/step - loss: 49.5494\n",
      "Epoch 57/100\n",
      "31/31 [==============================] - 0s 3ms/step - loss: 49.2496\n",
      "Epoch 58/100\n",
      "31/31 [==============================] - 0s 3ms/step - loss: 49.1185\n",
      "Epoch 59/100\n",
      "31/31 [==============================] - 0s 3ms/step - loss: 48.7945\n",
      "Epoch 60/100\n",
      "31/31 [==============================] - 0s 3ms/step - loss: 48.8891\n",
      "Epoch 61/100\n",
      "31/31 [==============================] - 0s 3ms/step - loss: 48.6647\n",
      "Epoch 62/100\n",
      "31/31 [==============================] - 0s 3ms/step - loss: 48.8548\n",
      "Epoch 63/100\n",
      "31/31 [==============================] - 0s 3ms/step - loss: 48.6044\n",
      "Epoch 64/100\n",
      "31/31 [==============================] - 0s 3ms/step - loss: 48.3288\n",
      "Epoch 65/100\n",
      "31/31 [==============================] - 0s 3ms/step - loss: 48.1974\n",
      "Epoch 66/100\n",
      "31/31 [==============================] - 0s 3ms/step - loss: 48.1362\n",
      "Epoch 67/100\n",
      "31/31 [==============================] - 0s 3ms/step - loss: 48.4705\n",
      "Epoch 68/100\n",
      "31/31 [==============================] - 0s 4ms/step - loss: 48.6382\n",
      "Epoch 69/100\n",
      "31/31 [==============================] - 0s 3ms/step - loss: 48.2959\n",
      "Epoch 70/100\n",
      "31/31 [==============================] - 0s 3ms/step - loss: 48.0147\n",
      "Epoch 71/100\n",
      "31/31 [==============================] - 0s 4ms/step - loss: 47.9026\n",
      "Epoch 72/100\n",
      "31/31 [==============================] - 0s 3ms/step - loss: 47.7764\n",
      "Epoch 73/100\n",
      "31/31 [==============================] - 0s 3ms/step - loss: 48.0032\n",
      "Epoch 74/100\n",
      "31/31 [==============================] - 0s 3ms/step - loss: 47.7928\n",
      "Epoch 75/100\n",
      "31/31 [==============================] - 0s 3ms/step - loss: 47.4828\n",
      "Epoch 76/100\n",
      "31/31 [==============================] - 0s 3ms/step - loss: 47.3458\n",
      "Epoch 77/100\n",
      "31/31 [==============================] - 0s 3ms/step - loss: 47.5129\n",
      "Epoch 78/100\n",
      "31/31 [==============================] - 0s 3ms/step - loss: 47.5354\n",
      "Epoch 79/100\n",
      "31/31 [==============================] - 0s 3ms/step - loss: 47.2850\n",
      "Epoch 80/100\n",
      "31/31 [==============================] - 0s 3ms/step - loss: 47.1950\n",
      "Epoch 81/100\n",
      "31/31 [==============================] - 0s 3ms/step - loss: 47.0447\n",
      "Epoch 82/100\n",
      "31/31 [==============================] - 0s 3ms/step - loss: 46.8862\n",
      "Epoch 83/100\n",
      "31/31 [==============================] - 0s 3ms/step - loss: 47.0121\n",
      "Epoch 84/100\n",
      "31/31 [==============================] - 0s 3ms/step - loss: 47.0639\n",
      "Epoch 85/100\n",
      "31/31 [==============================] - 0s 3ms/step - loss: 46.8712\n",
      "Epoch 86/100\n",
      "31/31 [==============================] - 0s 3ms/step - loss: 47.3014\n",
      "Epoch 87/100\n",
      "31/31 [==============================] - 0s 3ms/step - loss: 46.8299\n",
      "Epoch 88/100\n",
      "31/31 [==============================] - 0s 3ms/step - loss: 46.4372\n",
      "Epoch 89/100\n",
      "31/31 [==============================] - 0s 3ms/step - loss: 47.0395\n",
      "Epoch 90/100\n",
      "31/31 [==============================] - 0s 3ms/step - loss: 46.6681\n",
      "Epoch 91/100\n",
      "31/31 [==============================] - 0s 3ms/step - loss: 46.4397\n",
      "Epoch 92/100\n",
      "31/31 [==============================] - 0s 3ms/step - loss: 46.3657\n",
      "Epoch 93/100\n",
      "31/31 [==============================] - 0s 3ms/step - loss: 46.3894\n",
      "Epoch 94/100\n",
      "31/31 [==============================] - 0s 3ms/step - loss: 46.2691\n",
      "Epoch 95/100\n",
      "31/31 [==============================] - 0s 3ms/step - loss: 46.3189\n",
      "Epoch 96/100\n",
      "31/31 [==============================] - 0s 3ms/step - loss: 46.2045\n",
      "Epoch 97/100\n",
      "31/31 [==============================] - 0s 3ms/step - loss: 46.3042\n",
      "Epoch 98/100\n",
      "31/31 [==============================] - 0s 3ms/step - loss: 46.3428\n",
      "Epoch 99/100\n",
      "31/31 [==============================] - 0s 3ms/step - loss: 46.1512\n",
      "Epoch 100/100\n",
      "31/31 [==============================] - 0s 3ms/step - loss: 46.0896\n"
     ]
    },
    {
     "data": {
      "text/plain": [
       "<keras.callbacks.History at 0x17f7c6d30>"
      ]
     },
     "execution_count": 10,
     "metadata": {},
     "output_type": "execute_result"
    }
   ],
   "source": [
    "# Train the model\n",
    "model_baseline.fit(dataset,epochs=100)"
   ]
  },
  {
   "cell_type": "markdown",
   "metadata": {
    "id": "0-5QVzo1Tv-_"
   },
   "source": [
    "You can then get some predictions and visualize it as before. Since the network is deeper, the predictions might go slower so you may want to minimize unnecessary computations. \n",
    "\n",
    "In the previous lab, you might remember the model generating predictions using the entire `series` data. That resulted in 1,441 points in the `forecast` list then you sliced the 461 points that aligns with the validation set using `forecast = forecast[split_time - window_size:]`. \n",
    "\n",
    "You can make this process faster by just generating 461 points right from the start. That way, you don't waste time predicting points that will just be thrown away later. The code below will do just that. It will just get the points needed from the original `series` before calling the `predict()` method. With that, all predictions will align with the validation set already and the for-loop will run for only 461 times instead of 1,441. \n",
    "\n",
    "In the next lab, you'll see an even faster way to generate these predictions."
   ]
  },
  {
   "cell_type": "code",
   "execution_count": 11,
   "metadata": {
    "id": "efhco2rYyIFF"
   },
   "outputs": [
    {
     "name": "stderr",
     "output_type": "stream",
     "text": [
      "2022-09-20 17:10:43.141530: I tensorflow/core/grappler/optimizers/custom_graph_optimizer_registry.cc:113] Plugin optimizer for device_type GPU is enabled.\n"
     ]
    },
    {
     "data": {
      "image/png": "[encoded data removed]",
      "text/plain": [
       "<Figure size 720x432 with 1 Axes>"
      ]
     },
     "metadata": {
      "needs_background": "light"
     },
     "output_type": "display_data"
    }
   ],
   "source": [
    "# Initialize a list\n",
    "forecast = []\n",
    "\n",
    "# Reduce the original series\n",
    "forecast_series = series[split_time - window_size:]\n",
    "\n",
    "# Use the model to predict data points per window size\n",
    "for time in range(len(forecast_series) - window_size):\n",
    "  forecast.append(model_baseline.predict(forecast_series[time:time + window_size][np.newaxis]))\n",
    "\n",
    "# Convert to a numpy array and drop single dimensional axes\n",
    "results = np.array(forecast).squeeze()\n",
    "\n",
    "# Plot the results\n",
    "plot_series(time_valid, (x_valid, results))"
   ]
  },
  {
   "cell_type": "markdown",
   "metadata": {
    "id": "Lk5VkqNjh8Ws"
   },
   "source": [
    "You can then get the MSE and MAE for reference."
   ]
  },
  {
   "cell_type": "code",
   "execution_count": 12,
   "metadata": {
    "id": "-kT6j186YO6K"
   },
   "outputs": [
    {
     "name": "stdout",
     "output_type": "stream",
     "text": [
      "47.045025\n",
      "5.0830445\n"
     ]
    }
   ],
   "source": [
    "# Compute the metrics\n",
    "print(tf.keras.metrics.mean_squared_error(x_valid, results).numpy())\n",
    "print(tf.keras.metrics.mean_absolute_error(x_valid, results).numpy())"
   ]
  },
  {
   "cell_type": "markdown",
   "metadata": {
    "id": "tQB2gyq18YvD"
   },
   "source": [
    "## Tune the learning rate\n",
    "\n",
    "You saw that the training went well with the initial learning rate that you chose (i.e. `1e-6`). However, you're not yet sure if it is the best setting for this particular model. It might seem inconsequential in this simple model but when you have more complex ones, spending some time to tune the learning rate can lead to better training results. You will see how to do that in this section.\n",
    "\n",
    "First, you will build the same model architecture you just used."
   ]
  },
  {
   "cell_type": "code",
   "execution_count": 13,
   "metadata": {
    "id": "tnCe_nBKu7RB"
   },
   "outputs": [],
   "source": [
    "# Build the Model\n",
    "model_tune = tf.keras.models.Sequential([\n",
    "    tf.keras.layers.Dense(10, input_shape=[window_size], activation=\"relu\"), \n",
    "    tf.keras.layers.Dense(10, activation=\"relu\"), \n",
    "    tf.keras.layers.Dense(1)\n",
    "])"
   ]
  },
  {
   "cell_type": "markdown",
   "metadata": {
    "id": "CTSWS74Qj-G0"
   },
   "source": [
    "Next, you will declare a [learning rate scheduler](https://www.tensorflow.org/api_docs/python/tf/keras/callbacks/LearningRateScheduler) callback. This will allow you to dynamically set the learning rate based on the epoch number during training. As shown below, you will pass a lambda function to declare the value of the learning rate. It will start at `1e-8` at epoch 0 and is scaled by `10**(epoch / 20)` as the training goes on."
   ]
  },
  {
   "cell_type": "code",
   "execution_count": 14,
   "metadata": {
    "id": "6FDVah6-885n"
   },
   "outputs": [],
   "source": [
    "# Set the learning rate scheduler\n",
    "lr_schedule = tf.keras.callbacks.LearningRateScheduler(\n",
    "    lambda epoch: 1e-8 * 10**(epoch / 20))"
   ]
  },
  {
   "cell_type": "markdown",
   "metadata": {
    "id": "M4SJZxL1lqPX"
   },
   "source": [
    "You will then compile the model. Just to note a subtle difference with the lecture video, you don't have to set the `learning_rate` argument of the optimizer here before compiling. You can just leave the default (i.e. [`0.01` for SGD](https://www.tensorflow.org/api_docs/python/tf/keras/optimizers/SGD#args)) and allow the learning rate scheduler to set it dynamically."
   ]
  },
  {
   "cell_type": "code",
   "execution_count": 15,
   "metadata": {
    "id": "66MDQGRc9AKU"
   },
   "outputs": [],
   "source": [
    "# Initialize the optimizer\n",
    "optimizer = tf.keras.optimizers.SGD(momentum=0.9)\n",
    "\n",
    "# Set the training parameters\n",
    "model_tune.compile(loss=\"mse\", optimizer=optimizer)"
   ]
  },
  {
   "cell_type": "markdown",
   "metadata": {
    "id": "zMgbgBYzmXBi"
   },
   "source": [
    "You will pass in the `lr_schedule` callback in the `callbacks` parameter of the [`fit()`](https://www.tensorflow.org/api_docs/python/tf/keras/Model#fit) method. As you run the training below, you will see the learning rate at a particular epoch denoted by `lr` in the console output. Notice that it is increasing as expected based on the lambda function you used."
   ]
  },
  {
   "cell_type": "code",
   "execution_count": 16,
   "metadata": {
    "id": "Ef5o5DmQkuuy"
   },
   "outputs": [
    {
     "name": "stdout",
     "output_type": "stream",
     "text": [
      "Epoch 1/100\n",
      "31/31 [==============================] - 0s 4ms/step - loss: 5023.5034 - lr: 1.0000e-08\n",
      "Epoch 2/100\n"
     ]
    },
    {
     "name": "stderr",
     "output_type": "stream",
     "text": [
      "2022-09-20 17:11:59.338913: I tensorflow/core/grappler/optimizers/custom_graph_optimizer_registry.cc:113] Plugin optimizer for device_type GPU is enabled.\n"
     ]
    },
    {
     "name": "stdout",
     "output_type": "stream",
     "text": [
      "31/31 [==============================] - 0s 3ms/step - loss: 3534.2800 - lr: 1.1220e-08\n",
      "Epoch 3/100\n",
      "31/31 [==============================] - 0s 3ms/step - loss: 2294.8843 - lr: 1.2589e-08\n",
      "Epoch 4/100\n",
      "31/31 [==============================] - 0s 3ms/step - loss: 1427.0365 - lr: 1.4125e-08\n",
      "Epoch 5/100\n",
      "31/31 [==============================] - 0s 3ms/step - loss: 808.9151 - lr: 1.5849e-08\n",
      "Epoch 6/100\n",
      "31/31 [==============================] - 0s 3ms/step - loss: 427.2492 - lr: 1.7783e-08\n",
      "Epoch 7/100\n",
      "31/31 [==============================] - 0s 3ms/step - loss: 216.0061 - lr: 1.9953e-08\n",
      "Epoch 8/100\n",
      "31/31 [==============================] - 0s 3ms/step - loss: 121.4087 - lr: 2.2387e-08\n",
      "Epoch 9/100\n",
      "31/31 [==============================] - 0s 3ms/step - loss: 85.3214 - lr: 2.5119e-08\n",
      "Epoch 10/100\n",
      "31/31 [==============================] - 0s 3ms/step - loss: 76.0467 - lr: 2.8184e-08\n",
      "Epoch 11/100\n",
      "31/31 [==============================] - 0s 3ms/step - loss: 73.7307 - lr: 3.1623e-08\n",
      "Epoch 12/100\n",
      "31/31 [==============================] - 0s 3ms/step - loss: 73.4694 - lr: 3.5481e-08\n",
      "Epoch 13/100\n",
      "31/31 [==============================] - 0s 3ms/step - loss: 73.3058 - lr: 3.9811e-08\n",
      "Epoch 14/100\n",
      "31/31 [==============================] - 0s 3ms/step - loss: 73.2293 - lr: 4.4668e-08\n",
      "Epoch 15/100\n",
      "31/31 [==============================] - 0s 3ms/step - loss: 73.1298 - lr: 5.0119e-08\n",
      "Epoch 16/100\n",
      "31/31 [==============================] - 0s 3ms/step - loss: 73.0414 - lr: 5.6234e-08\n",
      "Epoch 17/100\n",
      "31/31 [==============================] - 0s 3ms/step - loss: 72.9084 - lr: 6.3096e-08\n",
      "Epoch 18/100\n",
      "31/31 [==============================] - 0s 3ms/step - loss: 72.7399 - lr: 7.0795e-08\n",
      "Epoch 19/100\n",
      "31/31 [==============================] - 0s 3ms/step - loss: 72.6282 - lr: 7.9433e-08\n",
      "Epoch 20/100\n",
      "31/31 [==============================] - 0s 3ms/step - loss: 72.5024 - lr: 8.9125e-08\n",
      "Epoch 21/100\n",
      "31/31 [==============================] - 0s 3ms/step - loss: 72.2691 - lr: 1.0000e-07\n",
      "Epoch 22/100\n",
      "31/31 [==============================] - 0s 3ms/step - loss: 72.0179 - lr: 1.1220e-07\n",
      "Epoch 23/100\n",
      "31/31 [==============================] - 0s 3ms/step - loss: 71.8493 - lr: 1.2589e-07\n",
      "Epoch 24/100\n",
      "31/31 [==============================] - 0s 3ms/step - loss: 71.5404 - lr: 1.4125e-07\n",
      "Epoch 25/100\n",
      "31/31 [==============================] - 0s 3ms/step - loss: 71.3018 - lr: 1.5849e-07\n",
      "Epoch 26/100\n",
      "31/31 [==============================] - 0s 3ms/step - loss: 70.9936 - lr: 1.7783e-07\n",
      "Epoch 27/100\n",
      "31/31 [==============================] - 0s 3ms/step - loss: 70.8117 - lr: 1.9953e-07\n",
      "Epoch 28/100\n",
      "31/31 [==============================] - 0s 3ms/step - loss: 70.2955 - lr: 2.2387e-07\n",
      "Epoch 29/100\n",
      "31/31 [==============================] - 0s 3ms/step - loss: 70.1658 - lr: 2.5119e-07\n",
      "Epoch 30/100\n",
      "31/31 [==============================] - 0s 3ms/step - loss: 69.8350 - lr: 2.8184e-07\n",
      "Epoch 31/100\n",
      "31/31 [==============================] - 0s 3ms/step - loss: 69.3097 - lr: 3.1623e-07\n",
      "Epoch 32/100\n",
      "31/31 [==============================] - 0s 3ms/step - loss: 68.8087 - lr: 3.5481e-07\n",
      "Epoch 33/100\n",
      "31/31 [==============================] - 0s 3ms/step - loss: 68.1479 - lr: 3.9811e-07\n",
      "Epoch 34/100\n",
      "31/31 [==============================] - 0s 3ms/step - loss: 67.5319 - lr: 4.4668e-07\n",
      "Epoch 35/100\n",
      "31/31 [==============================] - 0s 3ms/step - loss: 67.0420 - lr: 5.0119e-07\n",
      "Epoch 36/100\n",
      "31/31 [==============================] - 0s 3ms/step - loss: 66.0900 - lr: 5.6234e-07\n",
      "Epoch 37/100\n",
      "31/31 [==============================] - 0s 4ms/step - loss: 65.5873 - lr: 6.3096e-07\n",
      "Epoch 38/100\n",
      "31/31 [==============================] - 0s 3ms/step - loss: 64.8322 - lr: 7.0795e-07\n",
      "Epoch 39/100\n",
      "31/31 [==============================] - 0s 3ms/step - loss: 64.4070 - lr: 7.9433e-07\n",
      "Epoch 40/100\n",
      "31/31 [==============================] - 0s 3ms/step - loss: 63.4260 - lr: 8.9125e-07\n",
      "Epoch 41/100\n",
      "31/31 [==============================] - 0s 3ms/step - loss: 62.4063 - lr: 1.0000e-06\n",
      "Epoch 42/100\n",
      "31/31 [==============================] - 0s 3ms/step - loss: 62.0055 - lr: 1.1220e-06\n",
      "Epoch 43/100\n",
      "31/31 [==============================] - 0s 3ms/step - loss: 61.6907 - lr: 1.2589e-06\n",
      "Epoch 44/100\n",
      "31/31 [==============================] - 0s 3ms/step - loss: 60.5210 - lr: 1.4125e-06\n",
      "Epoch 45/100\n",
      "31/31 [==============================] - 0s 3ms/step - loss: 60.7317 - lr: 1.5849e-06\n",
      "Epoch 46/100\n",
      "31/31 [==============================] - 0s 3ms/step - loss: 59.2084 - lr: 1.7783e-06\n",
      "Epoch 47/100\n",
      "31/31 [==============================] - 0s 3ms/step - loss: 58.1169 - lr: 1.9953e-06\n",
      "Epoch 48/100\n",
      "31/31 [==============================] - 0s 3ms/step - loss: 57.0915 - lr: 2.2387e-06\n",
      "Epoch 49/100\n",
      "31/31 [==============================] - 0s 3ms/step - loss: 56.2735 - lr: 2.5119e-06\n",
      "Epoch 50/100\n",
      "31/31 [==============================] - 0s 3ms/step - loss: 55.7696 - lr: 2.8184e-06\n",
      "Epoch 51/100\n",
      "31/31 [==============================] - 0s 3ms/step - loss: 59.9692 - lr: 3.1623e-06\n",
      "Epoch 52/100\n",
      "31/31 [==============================] - 0s 3ms/step - loss: 56.7722 - lr: 3.5481e-06\n",
      "Epoch 53/100\n",
      "31/31 [==============================] - 0s 3ms/step - loss: 53.4585 - lr: 3.9811e-06\n",
      "Epoch 54/100\n",
      "31/31 [==============================] - 0s 3ms/step - loss: 54.4036 - lr: 4.4668e-06\n",
      "Epoch 55/100\n",
      "31/31 [==============================] - 0s 3ms/step - loss: 53.5569 - lr: 5.0119e-06\n",
      "Epoch 56/100\n",
      "31/31 [==============================] - 0s 3ms/step - loss: 51.6925 - lr: 5.6234e-06\n",
      "Epoch 57/100\n",
      "31/31 [==============================] - 0s 3ms/step - loss: 58.5852 - lr: 6.3096e-06\n",
      "Epoch 58/100\n",
      "31/31 [==============================] - 0s 3ms/step - loss: 52.2562 - lr: 7.0795e-06\n",
      "Epoch 59/100\n",
      "31/31 [==============================] - 0s 3ms/step - loss: 51.8109 - lr: 7.9433e-06\n",
      "Epoch 60/100\n",
      "31/31 [==============================] - 0s 3ms/step - loss: 55.0476 - lr: 8.9125e-06\n",
      "Epoch 61/100\n",
      "31/31 [==============================] - 0s 3ms/step - loss: 51.9305 - lr: 1.0000e-05\n",
      "Epoch 62/100\n",
      "31/31 [==============================] - 0s 3ms/step - loss: 54.1510 - lr: 1.1220e-05\n",
      "Epoch 63/100\n",
      "31/31 [==============================] - 0s 3ms/step - loss: 53.8291 - lr: 1.2589e-05\n",
      "Epoch 64/100\n",
      "31/31 [==============================] - 0s 3ms/step - loss: 50.1688 - lr: 1.4125e-05\n",
      "Epoch 65/100\n",
      "31/31 [==============================] - 0s 3ms/step - loss: 55.2773 - lr: 1.5849e-05\n",
      "Epoch 66/100\n",
      "31/31 [==============================] - 0s 4ms/step - loss: 59.5114 - lr: 1.7783e-05\n",
      "Epoch 67/100\n",
      "31/31 [==============================] - 0s 4ms/step - loss: 47.5938 - lr: 1.9953e-05\n",
      "Epoch 68/100\n",
      "31/31 [==============================] - 0s 4ms/step - loss: 50.4908 - lr: 2.2387e-05\n",
      "Epoch 69/100\n",
      "31/31 [==============================] - 0s 3ms/step - loss: 54.5616 - lr: 2.5119e-05\n",
      "Epoch 70/100\n",
      "31/31 [==============================] - 0s 3ms/step - loss: 49.2157 - lr: 2.8184e-05\n",
      "Epoch 71/100\n",
      "31/31 [==============================] - 0s 3ms/step - loss: 56.5919 - lr: 3.1623e-05\n",
      "Epoch 72/100\n",
      "31/31 [==============================] - 0s 3ms/step - loss: 86.7124 - lr: 3.5481e-05\n",
      "Epoch 73/100\n",
      "31/31 [==============================] - 0s 3ms/step - loss: 469.9917 - lr: 3.9811e-05\n",
      "Epoch 74/100\n",
      "31/31 [==============================] - 0s 3ms/step - loss: 371.7833 - lr: 4.4668e-05\n",
      "Epoch 75/100\n",
      "31/31 [==============================] - 0s 3ms/step - loss: 156.9924 - lr: 5.0119e-05\n",
      "Epoch 76/100\n",
      "31/31 [==============================] - 0s 3ms/step - loss: 99.0524 - lr: 5.6234e-05\n",
      "Epoch 77/100\n",
      "31/31 [==============================] - 0s 3ms/step - loss: 58.1837 - lr: 6.3096e-05\n",
      "Epoch 78/100\n",
      "31/31 [==============================] - 0s 3ms/step - loss: 190.0431 - lr: 7.0795e-05\n",
      "Epoch 79/100\n",
      "31/31 [==============================] - 0s 3ms/step - loss: 2548.2556 - lr: 7.9433e-05\n",
      "Epoch 80/100\n",
      "31/31 [==============================] - 0s 3ms/step - loss: 2029.2551 - lr: 8.9125e-05\n",
      "Epoch 81/100\n",
      "31/31 [==============================] - 0s 3ms/step - loss: 1705.0968 - lr: 1.0000e-04\n",
      "Epoch 82/100\n",
      "31/31 [==============================] - 0s 3ms/step - loss: 651.4425 - lr: 1.1220e-04\n",
      "Epoch 83/100\n",
      "31/31 [==============================] - 0s 3ms/step - loss: 418.3462 - lr: 1.2589e-04\n",
      "Epoch 84/100\n",
      "31/31 [==============================] - 0s 3ms/step - loss: 373.2309 - lr: 1.4125e-04\n",
      "Epoch 85/100\n",
      "31/31 [==============================] - 0s 3ms/step - loss: 409.7464 - lr: 1.5849e-04\n",
      "Epoch 86/100\n",
      "31/31 [==============================] - 0s 3ms/step - loss: 386.0310 - lr: 1.7783e-04\n",
      "Epoch 87/100\n",
      "31/31 [==============================] - 0s 3ms/step - loss: 451.9035 - lr: 1.9953e-04\n",
      "Epoch 88/100\n",
      "31/31 [==============================] - 0s 3ms/step - loss: 391.1711 - lr: 2.2387e-04\n",
      "Epoch 89/100\n",
      "31/31 [==============================] - 0s 3ms/step - loss: 390.7052 - lr: 2.5119e-04\n",
      "Epoch 90/100\n",
      "31/31 [==============================] - 0s 4ms/step - loss: 390.9040 - lr: 2.8184e-04\n",
      "Epoch 91/100\n",
      "31/31 [==============================] - 0s 3ms/step - loss: 390.6472 - lr: 3.1623e-04\n",
      "Epoch 92/100\n",
      "31/31 [==============================] - 0s 3ms/step - loss: 395.2846 - lr: 3.5481e-04\n",
      "Epoch 93/100\n",
      "31/31 [==============================] - 0s 3ms/step - loss: 390.8714 - lr: 3.9811e-04\n",
      "Epoch 94/100\n",
      "31/31 [==============================] - 0s 3ms/step - loss: 389.8973 - lr: 4.4668e-04\n",
      "Epoch 95/100\n",
      "31/31 [==============================] - 0s 3ms/step - loss: 392.7614 - lr: 5.0119e-04\n",
      "Epoch 96/100\n",
      "31/31 [==============================] - 0s 3ms/step - loss: 390.9883 - lr: 5.6234e-04\n",
      "Epoch 97/100\n",
      "31/31 [==============================] - 0s 3ms/step - loss: 393.6245 - lr: 6.3096e-04\n",
      "Epoch 98/100\n",
      "31/31 [==============================] - 0s 3ms/step - loss: 391.2818 - lr: 7.0795e-04\n",
      "Epoch 99/100\n",
      "31/31 [==============================] - 0s 3ms/step - loss: 444.1022 - lr: 7.9433e-04\n",
      "Epoch 100/100\n",
      "31/31 [==============================] - 0s 3ms/step - loss: 525.9330 - lr: 8.9125e-04\n"
     ]
    }
   ],
   "source": [
    "# Train the model\n",
    "history = model_tune.fit(dataset, epochs=100, callbacks=[lr_schedule])"
   ]
  },
  {
   "cell_type": "markdown",
   "metadata": {
    "id": "Sz9yLyRkkuet"
   },
   "source": [
    "Next step is to plot the results of the training. You will visualize the loss at each value of the learning rate."
   ]
  },
  {
   "cell_type": "code",
   "execution_count": 17,
   "metadata": {
    "id": "2ZaNsM2IgCd_"
   },
   "outputs": [
    {
     "data": {
      "text/plain": [
       "(1e-08, 0.001, 0.0, 300.0)"
      ]
     },
     "execution_count": 17,
     "metadata": {},
     "output_type": "execute_result"
    },
    {
     "data": {
      "image/png": "[encoded data removed]",
      "text/plain": [
       "<Figure size 720x432 with 1 Axes>"
      ]
     },
     "metadata": {
      "needs_background": "light"
     },
     "output_type": "display_data"
    }
   ],
   "source": [
    "# Define the learning rate array\n",
    "lrs = 1e-8 * (10 ** (np.arange(100) / 20))\n",
    "\n",
    "# Set the figure size\n",
    "plt.figure(figsize=(10, 6))\n",
    "\n",
    "# Set the grid\n",
    "plt.grid(True)\n",
    "\n",
    "# Plot the loss in log scale\n",
    "plt.semilogx(lrs, history.history[\"loss\"])\n",
    "\n",
    "# Increase the tickmarks size\n",
    "plt.tick_params('both', length=10, width=1, which='both')\n",
    "\n",
    "# Set the plot boundaries\n",
    "plt.axis([1e-8, 1e-3, 0, 300])"
   ]
  },
  {
   "cell_type": "markdown",
   "metadata": {
    "id": "obCq2g0qn0GD"
   },
   "source": [
    "The generated graph above shows the values of the range of learning rates that leads to lower losses (i.e. sloping downward) and also which ones cause the training to become unstable (i.e. jagged edges and pointing upwards). In general, you will want to pick a point in a downward slope. That means the network is still learning at that point and is stable. Choosing close to the minimum point of the graph will make the training converge to that loss value quicker, as will be shown in the next cells.\n",
    "\n",
    "First, you will initialize the same model architecture again."
   ]
  },
  {
   "cell_type": "code",
   "execution_count": 18,
   "metadata": {
    "id": "F7vzeS6BKUb_"
   },
   "outputs": [],
   "source": [
    "# Build the model\n",
    "model_tune = tf.keras.models.Sequential([\n",
    "  tf.keras.layers.Dense(10, activation=\"relu\", input_shape=[window_size]),\n",
    "  tf.keras.layers.Dense(10, activation=\"relu\"),\n",
    "  tf.keras.layers.Dense(1)\n",
    "])"
   ]
  },
  {
   "cell_type": "markdown",
   "metadata": {
    "id": "9gjrVfgWp3ku"
   },
   "source": [
    "You will then set the optimizer with a learning rate close to the minimum. It is set to `4e-6` initially but feel free to change based on your results."
   ]
  },
  {
   "cell_type": "code",
   "execution_count": 19,
   "metadata": {
    "id": "nVHuxnXMKjja"
   },
   "outputs": [],
   "source": [
    "# Set the optimizer with the tuned learning rate\n",
    "optimizer = tf.keras.optimizers.SGD(learning_rate=4e-6, momentum=0.9)"
   ]
  },
  {
   "cell_type": "markdown",
   "metadata": {
    "id": "pyrhSDU5qPn6"
   },
   "source": [
    "You can then compile and train the model as before. Observe the loss values and compare it to the output of the baseline model you had before. Most likely, you will have met the final loss value of the `model_baseline` within the first 50 epochs of training this `model_tune`. You will also likely have a lower loss after all 100 epochs are done."
   ]
  },
  {
   "cell_type": "code",
   "execution_count": 20,
   "metadata": {
    "id": "rDNeYqqzqQ-s"
   },
   "outputs": [
    {
     "name": "stdout",
     "output_type": "stream",
     "text": [
      "Epoch 1/100\n",
      "31/31 [==============================] - 0s 4ms/step - loss: 686.2029\n",
      "Epoch 2/100\n"
     ]
    },
    {
     "name": "stderr",
     "output_type": "stream",
     "text": [
      "2022-09-20 17:12:52.100358: I tensorflow/core/grappler/optimizers/custom_graph_optimizer_registry.cc:113] Plugin optimizer for device_type GPU is enabled.\n"
     ]
    },
    {
     "name": "stdout",
     "output_type": "stream",
     "text": [
      "31/31 [==============================] - 0s 3ms/step - loss: 80.2510\n",
      "Epoch 3/100\n",
      "31/31 [==============================] - 0s 3ms/step - loss: 66.5435\n",
      "Epoch 4/100\n",
      "31/31 [==============================] - 0s 3ms/step - loss: 63.2410\n",
      "Epoch 5/100\n",
      "31/31 [==============================] - 0s 3ms/step - loss: 62.4366\n",
      "Epoch 6/100\n",
      "31/31 [==============================] - 0s 3ms/step - loss: 60.7564\n",
      "Epoch 7/100\n",
      "31/31 [==============================] - 0s 3ms/step - loss: 57.1128\n",
      "Epoch 8/100\n",
      "31/31 [==============================] - 0s 3ms/step - loss: 57.4115\n",
      "Epoch 9/100\n",
      "31/31 [==============================] - 0s 3ms/step - loss: 55.6161\n",
      "Epoch 10/100\n",
      "31/31 [==============================] - 0s 3ms/step - loss: 54.8299\n",
      "Epoch 11/100\n",
      "31/31 [==============================] - 0s 3ms/step - loss: 53.8670\n",
      "Epoch 12/100\n",
      "31/31 [==============================] - 0s 3ms/step - loss: 53.3169\n",
      "Epoch 13/100\n",
      "31/31 [==============================] - 0s 3ms/step - loss: 52.4191\n",
      "Epoch 14/100\n",
      "31/31 [==============================] - 0s 4ms/step - loss: 52.1588\n",
      "Epoch 15/100\n",
      "31/31 [==============================] - 0s 4ms/step - loss: 52.0642\n",
      "Epoch 16/100\n",
      "31/31 [==============================] - 0s 3ms/step - loss: 51.2366\n",
      "Epoch 17/100\n",
      "31/31 [==============================] - 0s 4ms/step - loss: 52.4454\n",
      "Epoch 18/100\n",
      "31/31 [==============================] - 0s 3ms/step - loss: 50.5541\n",
      "Epoch 19/100\n",
      "31/31 [==============================] - 0s 3ms/step - loss: 50.5159\n",
      "Epoch 20/100\n",
      "31/31 [==============================] - 0s 3ms/step - loss: 50.8920\n",
      "Epoch 21/100\n",
      "31/31 [==============================] - 0s 3ms/step - loss: 50.2881\n",
      "Epoch 22/100\n",
      "31/31 [==============================] - 0s 3ms/step - loss: 48.1649\n",
      "Epoch 23/100\n",
      "31/31 [==============================] - 0s 3ms/step - loss: 48.7571\n",
      "Epoch 24/100\n",
      "31/31 [==============================] - 0s 3ms/step - loss: 49.0268\n",
      "Epoch 25/100\n",
      "31/31 [==============================] - 0s 3ms/step - loss: 48.6446\n",
      "Epoch 26/100\n",
      "31/31 [==============================] - 0s 3ms/step - loss: 47.5453\n",
      "Epoch 27/100\n",
      "31/31 [==============================] - 0s 3ms/step - loss: 47.6619\n",
      "Epoch 28/100\n",
      "31/31 [==============================] - 0s 3ms/step - loss: 47.4931\n",
      "Epoch 29/100\n",
      "31/31 [==============================] - 0s 3ms/step - loss: 47.1333\n",
      "Epoch 30/100\n",
      "31/31 [==============================] - 0s 3ms/step - loss: 46.1181\n",
      "Epoch 31/100\n",
      "31/31 [==============================] - 0s 3ms/step - loss: 46.3839\n",
      "Epoch 32/100\n",
      "31/31 [==============================] - 0s 3ms/step - loss: 46.2129\n",
      "Epoch 33/100\n",
      "31/31 [==============================] - 0s 3ms/step - loss: 46.4371\n",
      "Epoch 34/100\n",
      "31/31 [==============================] - 0s 3ms/step - loss: 46.9784\n",
      "Epoch 35/100\n",
      "31/31 [==============================] - 0s 3ms/step - loss: 45.9879\n",
      "Epoch 36/100\n",
      "31/31 [==============================] - 0s 3ms/step - loss: 45.8890\n",
      "Epoch 37/100\n",
      "31/31 [==============================] - 0s 3ms/step - loss: 46.1308\n",
      "Epoch 38/100\n",
      "31/31 [==============================] - 0s 3ms/step - loss: 46.1356\n",
      "Epoch 39/100\n",
      "31/31 [==============================] - 0s 3ms/step - loss: 45.8266\n",
      "Epoch 40/100\n",
      "31/31 [==============================] - 0s 3ms/step - loss: 45.2291\n",
      "Epoch 41/100\n",
      "31/31 [==============================] - 0s 3ms/step - loss: 45.2825\n",
      "Epoch 42/100\n",
      "31/31 [==============================] - 0s 3ms/step - loss: 46.6325\n",
      "Epoch 43/100\n",
      "31/31 [==============================] - 0s 3ms/step - loss: 46.0604\n",
      "Epoch 44/100\n",
      "31/31 [==============================] - 0s 3ms/step - loss: 47.6107\n",
      "Epoch 45/100\n",
      "31/31 [==============================] - 0s 3ms/step - loss: 46.8400\n",
      "Epoch 46/100\n",
      "31/31 [==============================] - 0s 3ms/step - loss: 46.5136\n",
      "Epoch 47/100\n",
      "31/31 [==============================] - 0s 3ms/step - loss: 47.7462\n",
      "Epoch 48/100\n",
      "31/31 [==============================] - 0s 3ms/step - loss: 45.6434\n",
      "Epoch 49/100\n",
      "31/31 [==============================] - 0s 3ms/step - loss: 45.7679\n",
      "Epoch 50/100\n",
      "31/31 [==============================] - 0s 3ms/step - loss: 45.2059\n",
      "Epoch 51/100\n",
      "31/31 [==============================] - 0s 3ms/step - loss: 44.9781\n",
      "Epoch 52/100\n",
      "31/31 [==============================] - 0s 3ms/step - loss: 45.4031\n",
      "Epoch 53/100\n",
      "31/31 [==============================] - 0s 3ms/step - loss: 44.9014\n",
      "Epoch 54/100\n",
      "31/31 [==============================] - 0s 3ms/step - loss: 43.9464\n",
      "Epoch 55/100\n",
      "31/31 [==============================] - 0s 4ms/step - loss: 44.3166\n",
      "Epoch 56/100\n",
      "31/31 [==============================] - 0s 3ms/step - loss: 45.4639\n",
      "Epoch 57/100\n",
      "31/31 [==============================] - 0s 3ms/step - loss: 45.1697\n",
      "Epoch 58/100\n",
      "31/31 [==============================] - 0s 3ms/step - loss: 43.7335\n",
      "Epoch 59/100\n",
      "31/31 [==============================] - 0s 3ms/step - loss: 43.9488\n",
      "Epoch 60/100\n",
      "31/31 [==============================] - 0s 3ms/step - loss: 44.0011\n",
      "Epoch 61/100\n",
      "31/31 [==============================] - 0s 3ms/step - loss: 44.2932\n",
      "Epoch 62/100\n",
      "31/31 [==============================] - 0s 3ms/step - loss: 44.0891\n",
      "Epoch 63/100\n",
      "31/31 [==============================] - 0s 3ms/step - loss: 43.7536\n",
      "Epoch 64/100\n",
      "31/31 [==============================] - 0s 3ms/step - loss: 43.4835\n",
      "Epoch 65/100\n",
      "31/31 [==============================] - 0s 3ms/step - loss: 44.1145\n",
      "Epoch 66/100\n",
      "31/31 [==============================] - 0s 3ms/step - loss: 44.6946\n",
      "Epoch 67/100\n",
      "31/31 [==============================] - 0s 3ms/step - loss: 43.6183\n",
      "Epoch 68/100\n",
      "31/31 [==============================] - 0s 3ms/step - loss: 43.6497\n",
      "Epoch 69/100\n",
      "31/31 [==============================] - 0s 3ms/step - loss: 44.4741\n",
      "Epoch 70/100\n",
      "31/31 [==============================] - 0s 3ms/step - loss: 44.2038\n",
      "Epoch 71/100\n",
      "31/31 [==============================] - 0s 3ms/step - loss: 43.2934\n",
      "Epoch 72/100\n",
      "31/31 [==============================] - 0s 3ms/step - loss: 43.8734\n",
      "Epoch 73/100\n",
      "31/31 [==============================] - 0s 3ms/step - loss: 44.0786\n",
      "Epoch 74/100\n",
      "31/31 [==============================] - 0s 3ms/step - loss: 43.3146\n",
      "Epoch 75/100\n",
      "31/31 [==============================] - 0s 3ms/step - loss: 43.1818\n",
      "Epoch 76/100\n",
      "31/31 [==============================] - 0s 3ms/step - loss: 43.7853\n",
      "Epoch 77/100\n",
      "31/31 [==============================] - 0s 3ms/step - loss: 43.3545\n",
      "Epoch 78/100\n",
      "31/31 [==============================] - 0s 3ms/step - loss: 43.1040\n",
      "Epoch 79/100\n",
      "31/31 [==============================] - 0s 3ms/step - loss: 43.9720\n",
      "Epoch 80/100\n",
      "31/31 [==============================] - 0s 3ms/step - loss: 46.7661\n",
      "Epoch 81/100\n",
      "31/31 [==============================] - 0s 3ms/step - loss: 44.5003\n",
      "Epoch 82/100\n",
      "31/31 [==============================] - 0s 3ms/step - loss: 43.2349\n",
      "Epoch 83/100\n",
      "31/31 [==============================] - 0s 3ms/step - loss: 43.6061\n",
      "Epoch 84/100\n",
      "31/31 [==============================] - 0s 3ms/step - loss: 43.3253\n",
      "Epoch 85/100\n",
      "31/31 [==============================] - 0s 3ms/step - loss: 42.9349\n",
      "Epoch 86/100\n",
      "31/31 [==============================] - 0s 3ms/step - loss: 44.0872\n",
      "Epoch 87/100\n",
      "31/31 [==============================] - 0s 3ms/step - loss: 44.0594\n",
      "Epoch 88/100\n",
      "31/31 [==============================] - 0s 3ms/step - loss: 43.2364\n",
      "Epoch 89/100\n",
      "31/31 [==============================] - 0s 3ms/step - loss: 43.5662\n",
      "Epoch 90/100\n",
      "31/31 [==============================] - 0s 3ms/step - loss: 43.0590\n",
      "Epoch 91/100\n",
      "31/31 [==============================] - 0s 3ms/step - loss: 43.3996\n",
      "Epoch 92/100\n",
      "31/31 [==============================] - 0s 3ms/step - loss: 43.2406\n",
      "Epoch 93/100\n",
      "31/31 [==============================] - 0s 3ms/step - loss: 43.1279\n",
      "Epoch 94/100\n",
      "31/31 [==============================] - 0s 3ms/step - loss: 42.6823\n",
      "Epoch 95/100\n",
      "31/31 [==============================] - 0s 3ms/step - loss: 43.3258\n",
      "Epoch 96/100\n",
      "31/31 [==============================] - 0s 3ms/step - loss: 43.1361\n",
      "Epoch 97/100\n",
      "31/31 [==============================] - 0s 3ms/step - loss: 43.4801\n",
      "Epoch 98/100\n",
      "31/31 [==============================] - 0s 3ms/step - loss: 43.0440\n",
      "Epoch 99/100\n",
      "31/31 [==============================] - 0s 3ms/step - loss: 43.4329\n",
      "Epoch 100/100\n",
      "31/31 [==============================] - 0s 3ms/step - loss: 43.2221\n"
     ]
    }
   ],
   "source": [
    "# Set the training parameters\n",
    "model_tune.compile(loss=\"mse\", optimizer=optimizer)\n",
    "\n",
    "# Train the model\n",
    "history = model_tune.fit(dataset, epochs=100)"
   ]
  },
  {
   "cell_type": "markdown",
   "metadata": {
    "id": "8W-zX3LCrZc2"
   },
   "source": [
    "You can plot the `loss` values by getting it from the [History](https://www.tensorflow.org/api_docs/python/tf/keras/callbacks/History) object returned by the `fit()` method. As you can see, the model is still trending downward after the training."
   ]
  },
  {
   "cell_type": "code",
   "execution_count": 21,
   "metadata": {
    "id": "iXBMO1HM9AHX"
   },
   "outputs": [
    {
     "data": {
      "image/png": "[encoded data removed]",
      "text/plain": [
       "<Figure size 432x288 with 1 Axes>"
      ]
     },
     "metadata": {
      "needs_background": "light"
     },
     "output_type": "display_data"
    }
   ],
   "source": [
    "# Plot the loss\n",
    "loss = history.history['loss']\n",
    "epochs = range(len(loss))\n",
    "plt.plot(epochs, loss, 'b', label='Training Loss')\n",
    "plt.show()"
   ]
  },
  {
   "cell_type": "code",
   "execution_count": 22,
   "metadata": {
    "id": "xakiRU7R7WAo"
   },
   "outputs": [
    {
     "data": {
      "image/png": "[encoded data removed]",
      "text/plain": [
       "<Figure size 432x288 with 1 Axes>"
      ]
     },
     "metadata": {
      "needs_background": "light"
     },
     "output_type": "display_data"
    }
   ],
   "source": [
    "# Plot all but the first 10\n",
    "loss = history.history['loss']\n",
    "epochs = range(10, len(loss))\n",
    "plot_loss = loss[10:]\n",
    "plt.plot(epochs, plot_loss, 'b', label='Training Loss')\n",
    "plt.show()"
   ]
  },
  {
   "cell_type": "markdown",
   "metadata": {
    "id": "XxDbVYFusI3O"
   },
   "source": [
    "You can get the preictions again and overlay it on the validation set."
   ]
  },
  {
   "cell_type": "code",
   "execution_count": 23,
   "metadata": {
    "id": "mIi2fTzPTJxe"
   },
   "outputs": [
    {
     "name": "stderr",
     "output_type": "stream",
     "text": [
      "2022-09-20 17:13:31.034216: I tensorflow/core/grappler/optimizers/custom_graph_optimizer_registry.cc:113] Plugin optimizer for device_type GPU is enabled.\n"
     ]
    },
    {
     "data": {
      "image/png": "[encoded data removed]",
      "text/plain": [
       "<Figure size 720x432 with 1 Axes>"
      ]
     },
     "metadata": {
      "needs_background": "light"
     },
     "output_type": "display_data"
    }
   ],
   "source": [
    "# Initialize a list\n",
    "forecast = []\n",
    "\n",
    "# Reduce the original series\n",
    "forecast_series = series[split_time - window_size:]\n",
    "\n",
    "# Use the model to predict data points per window size\n",
    "for time in range(len(forecast_series) - window_size):\n",
    "  forecast.append(model_tune.predict(forecast_series[time:time + window_size][np.newaxis]))\n",
    "\n",
    "# Convert to a numpy array and drop single dimensional axes\n",
    "results = np.array(forecast).squeeze()\n",
    "\n",
    "# Plot the results\n",
    "plot_series(time_valid, (x_valid, results))"
   ]
  },
  {
   "cell_type": "markdown",
   "metadata": {
    "id": "KExPe7qJsTxk"
   },
   "source": [
    "Finally, you can compute the metrics and you should arrive at similar figures compared to the baseline. If it is much worse, then the model might have overfitted and you can use techniques you know to avoid it (e.g. adding dropout)."
   ]
  },
  {
   "cell_type": "code",
   "execution_count": 24,
   "metadata": {
    "id": "W-GPjL2wv0yc"
   },
   "outputs": [
    {
     "name": "stdout",
     "output_type": "stream",
     "text": [
      "44.988552\n",
      "4.9281487\n"
     ]
    }
   ],
   "source": [
    "print(tf.keras.metrics.mean_squared_error(x_valid, results).numpy())\n",
    "print(tf.keras.metrics.mean_absolute_error(x_valid, results).numpy())"
   ]
  },
  {
   "cell_type": "markdown",
   "metadata": {
    "id": "U9ViZ1Mcs11C"
   },
   "source": [
    "## Wrap Up\n",
    "\n",
    "This concludes the exercise on using a deep neural network for forecasting. Along the way, you did some hyperparameter tuning, particularly on the learning rate. You will be using this technique as well in the next labs. Next week, you will be using recurrent neural networks to build your forecasting model. See you there and keep it up!"
   ]
  }
 ],
 "metadata": {
  "colab": {
   "collapsed_sections": [],
   "name": "C4_W2_Lab_3_deep_NN.ipynb",
   "private_outputs": true,
   "provenance": []
  },
  "kernelspec": {
   "display_name": "Python 3 (ipykernel)",
   "language": "python",
   "name": "python3"
  },
  "language_info": {
   "codemirror_mode": {
    "name": "ipython",
    "version": 3
   },
   "file_extension": ".py",
   "mimetype": "text/x-python",
   "name": "python",
   "nbconvert_exporter": "python",
   "pygments_lexer": "ipython3",
   "version": "3.9.13"
  }
 },
 "nbformat": 4,
 "nbformat_minor": 4
}
